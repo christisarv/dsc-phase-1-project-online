{
 "cells": [
  {
   "cell_type": "markdown",
   "metadata": {},
   "source": [
    "First I am going to import all necessary libraries and data files. I've chosen to use the 'The Numbers' data set to analyze budgets since it includes a fuller picture than some of the other options. For a qualitative look, I'll use IMDB to look at user reviews and Rotten Tomatoes to look at critic reviews.\n",
    "\n",
    "These data sets use very different categorization & scoring methods, and have diffent data points. Therefor my methodology to analyze each will be unique, and I will treat them as separate sources. \n",
    "\n",
    "A quick note on some parameters: 1. I will be looking at US data only to get a conststent picture of Microsoft's home market as a starting off point; 2. I'll be cleaning out older movies -  since the movie industry & video consumption is changing so rapidly at this time, I want to examine only the most recent data."
   ]
  },
  {
   "cell_type": "code",
   "execution_count": null,
   "metadata": {},
   "outputs": [],
   "source": [
    "import pandas as pd\n",
    "import numpy as np\n",
    "import matplotlib.pyplot as plt\n",
    "%matplotlib inline\n",
    "import seaborn as sns"
   ]
  },
  {
   "cell_type": "code",
   "execution_count": null,
   "metadata": {},
   "outputs": [],
   "source": [
    "#import budgets data\n",
    "df_budgets = pd.read_csv('zippedData/tn.movie_budgets.csv.gz', compression='gzip')\n",
    "\n",
    "#import imdb data\n",
    "df_imdb_basics = pd.read_csv('zippedData/imdb.title.basics.csv.gz', compression='gzip')\n",
    "df_imdb_ratings = pd.read_csv('zippedData/imdb.title.ratings.csv.gz', compression='gzip')\n",
    "df_imdb_akas = pd.read_csv('zippedData/imdb.title.akas.csv.gz', compression='gzip')\n",
    "\n",
    "#import rotten tomatoes data\n",
    "df_rt_info = pd.read_csv('zippedData/rt.movie_info.tsv.gz', sep='\\t', compression='gzip')\n",
    "df_rt_rev = pd.read_csv('zippedData/rt.reviews.tsv.gz', sep='\\t', compression='gzip', encoding='iso-8859-1')"
   ]
  },
  {
   "cell_type": "markdown",
   "metadata": {},
   "source": [
    "So before I dive in, I'll outline my metrics for a successful movie:\n",
    "\n",
    "1. __Positive return on investment:__ Because ultimately, a successful project makes money. I will look at overall domestic gross return as well as a secondary metric here.\n",
    "\n",
    "2. __High user ratings:__ We want people to like the movie! This will help generate word-of-mouth promotion and social media chat to spread positive opinion. \n",
    "\n",
    "3. __High critical ratings:__ Strong critical reviews mean positive press, which will capture media attention. Having clout in the industry as well can mean getting put up for awards, which can be a great set up to draw in better talent to future films, and better funding from potential investors"
   ]
  },
  {
   "cell_type": "markdown",
   "metadata": {},
   "source": [
    "First, I'll be looking at the movie budgets data. I want to see if I can get a sense of movies with highest return on investment. \n",
    "\n",
    "To do this, I need to convert the budget columns into integers and then add a column calculating return on investment. I am also going to clean out older movies, and add year and month columns so I can further analyze the data."
   ]
  },
  {
   "cell_type": "code",
   "execution_count": null,
   "metadata": {},
   "outputs": [],
   "source": []
  },
  {
   "cell_type": "code",
   "execution_count": null,
   "metadata": {},
   "outputs": [],
   "source": []
  },
  {
   "cell_type": "code",
   "execution_count": null,
   "metadata": {},
   "outputs": [],
   "source": []
  },
  {
   "cell_type": "code",
   "execution_count": null,
   "metadata": {},
   "outputs": [],
   "source": []
  },
  {
   "cell_type": "code",
   "execution_count": null,
   "metadata": {},
   "outputs": [],
   "source": []
  },
  {
   "cell_type": "code",
   "execution_count": null,
   "metadata": {},
   "outputs": [],
   "source": []
  }
 ],
 "metadata": {
  "kernelspec": {
   "display_name": "learn-env",
   "language": "python",
   "name": "learn-env"
  },
  "language_info": {
   "codemirror_mode": {
    "name": "ipython",
    "version": 3
   },
   "file_extension": ".py",
   "mimetype": "text/x-python",
   "name": "python",
   "nbconvert_exporter": "python",
   "pygments_lexer": "ipython3",
   "version": "3.6.9"
  }
 },
 "nbformat": 4,
 "nbformat_minor": 4
}
