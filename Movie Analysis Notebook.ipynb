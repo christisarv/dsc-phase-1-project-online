{
 "cells": [
  {
   "cell_type": "markdown",
   "metadata": {},
   "source": [
    "### Introduction: Data Sets and Parameters\n",
    "\n",
    "For this analysis, I've chosen to use the 'The Numbers' data set to analyze budgets since it includes a fuller picture than some of the other options. For a qualitative look, I'll use IMDB to look at user reviews and Rotten Tomatoes to look at critic reviews.\n",
    "\n",
    "These data sets use very different categorization & scoring methods, and have diffent data points. Therefor my methodology to analyze each will be unique, and I will treat them as separate sources. \n",
    "\n",
    "A quick note on some parameters: \n",
    "1. I will be looking at US data only to get a conststent picture of Microsoft's home market as a starting off point; \n",
    "2. I'll be cleaning out older movies - since the movie industry & video consumption is changing so rapidly at this time, I want to examine only the most recent data."
   ]
  },
  {
   "cell_type": "code",
   "execution_count": 1,
   "metadata": {},
   "outputs": [],
   "source": [
    "# First I am going to import all necessary libraries and data files\n",
    "import pandas as pd\n",
    "import numpy as np\n",
    "import matplotlib.pyplot as plt\n",
    "%matplotlib inline\n",
    "import seaborn as sns\n",
    "import warnings\n",
    "warnings.filterwarnings('ignore')"
   ]
  },
  {
   "cell_type": "code",
   "execution_count": 2,
   "metadata": {},
   "outputs": [],
   "source": [
    "#import budgets data\n",
    "df_budgets = pd.read_csv('zippedData/tn.movie_budgets.csv.gz', compression='gzip')\n",
    "\n",
    "#import imdb data\n",
    "df_imdb_basics = pd.read_csv('zippedData/imdb.title.basics.csv.gz', compression='gzip')\n",
    "df_imdb_ratings = pd.read_csv('zippedData/imdb.title.ratings.csv.gz', compression='gzip')\n",
    "df_imdb_akas = pd.read_csv('zippedData/imdb.title.akas.csv.gz', compression='gzip')\n",
    "\n",
    "#import rotten tomatoes data\n",
    "df_rt_info = pd.read_csv('zippedData/rt.movie_info.tsv.gz', sep='\\t', compression='gzip')\n",
    "df_rt_rev = pd.read_csv('zippedData/rt.reviews.tsv.gz', sep='\\t', compression='gzip', encoding='iso-8859-1')"
   ]
  },
  {
   "cell_type": "markdown",
   "metadata": {},
   "source": [
    "### Measures of Success \n",
    "\n",
    "So before I dive in, I'll outline my metrics for a successful movie:\n",
    "\n",
    "1. __Positive return on investment:__ Because ultimately, a successful project makes money. I will look at overall domestic gross return as well as a secondary metric here.\n",
    "\n",
    "2. __High user ratings:__ We want people to like the movie! This will help generate word-of-mouth promotion and social media chat to spread positive opinion. \n",
    "\n",
    "3. __High critical ratings:__ Strong critical reviews mean positive press, which will capture media attention. Having clout in the industry as well can mean getting put up for awards, which can be a great set up to draw in better talent to future films, and better funding from potential investors"
   ]
  },
  {
   "cell_type": "markdown",
   "metadata": {},
   "source": [
    "First, I'll be looking at the movie budgets data. I want to see if I can get a sense of movies with highest return on investment. \n",
    "\n",
    "To do this, I need to convert the budget columns into integers and then add a column calculating return on investment. I am also going to clean out older movies, and add year and month columns so I can further analyze the data."
   ]
  },
  {
   "cell_type": "code",
   "execution_count": 3,
   "metadata": {},
   "outputs": [],
   "source": [
    "#convert to date time and add columns for month and year\n",
    "df_budgets['release_date'] = pd.to_datetime(df_budgets['release_date'])\n",
    "df_budgets['release_year'] = df_budgets['release_date'].dt.year\n",
    "df_budgets['release_month'] = df_budgets['release_date'].dt.month\n",
    "#clean out old movies\n",
    "df_budgets = df_budgets[(df_budgets['release_year'] >= 2014)]"
   ]
  },
  {
   "cell_type": "code",
   "execution_count": 4,
   "metadata": {},
   "outputs": [],
   "source": [
    "#make $$ columns into integers\n",
    "df_budgets['production_budget'] = df_budgets['production_budget'].map(lambda price: int(price.replace(\"$\", \"\").replace(\",\", \"\")))\n",
    "df_budgets['domestic_gross'] = df_budgets['domestic_gross'].map(lambda price: int(price.replace(\"$\", \"\").replace(\",\", \"\")))\n",
    "df_budgets['worldwide_gross'] = df_budgets['worldwide_gross'].map(lambda price: int(price.replace(\"$\", \"\").replace(\",\", \"\")))\n",
    "#calculate ROI column\n",
    "df_budgets['domestic_roi'] = df_budgets['domestic_gross'] / df_budgets['production_budget']"
   ]
  },
  {
   "cell_type": "markdown",
   "metadata": {},
   "source": [
    "I'm going to examine ROI using the variables I have in this data set, which are release date-related. I'll create dataframes to look at ROI by month and year and plot the results. "
   ]
  },
  {
   "cell_type": "code",
   "execution_count": 18,
   "metadata": {},
   "outputs": [
    {
     "data": {
      "text/html": [
       "<div>\n",
       "<style scoped>\n",
       "    .dataframe tbody tr th:only-of-type {\n",
       "        vertical-align: middle;\n",
       "    }\n",
       "\n",
       "    .dataframe tbody tr th {\n",
       "        vertical-align: top;\n",
       "    }\n",
       "\n",
       "    .dataframe thead th {\n",
       "        text-align: right;\n",
       "    }\n",
       "</style>\n",
       "<table border=\"1\" class=\"dataframe\">\n",
       "  <thead>\n",
       "    <tr style=\"text-align: right;\">\n",
       "      <th></th>\n",
       "      <th>release_year</th>\n",
       "      <th>domestic_roi</th>\n",
       "    </tr>\n",
       "  </thead>\n",
       "  <tbody>\n",
       "    <tr>\n",
       "      <th>0</th>\n",
       "      <td>2014</td>\n",
       "      <td>1.432386</td>\n",
       "    </tr>\n",
       "    <tr>\n",
       "      <th>1</th>\n",
       "      <td>2015</td>\n",
       "      <td>1.653406</td>\n",
       "    </tr>\n",
       "    <tr>\n",
       "      <th>2</th>\n",
       "      <td>2016</td>\n",
       "      <td>1.599537</td>\n",
       "    </tr>\n",
       "    <tr>\n",
       "      <th>3</th>\n",
       "      <td>2017</td>\n",
       "      <td>1.980350</td>\n",
       "    </tr>\n",
       "    <tr>\n",
       "      <th>4</th>\n",
       "      <td>2018</td>\n",
       "      <td>2.077434</td>\n",
       "    </tr>\n",
       "    <tr>\n",
       "      <th>5</th>\n",
       "      <td>2019</td>\n",
       "      <td>1.224815</td>\n",
       "    </tr>\n",
       "  </tbody>\n",
       "</table>\n",
       "</div>"
      ],
      "text/plain": [
       "   release_year  domestic_roi\n",
       "0          2014      1.432386\n",
       "1          2015      1.653406\n",
       "2          2016      1.599537\n",
       "3          2017      1.980350\n",
       "4          2018      2.077434\n",
       "5          2019      1.224815"
      ]
     },
     "execution_count": 18,
     "metadata": {},
     "output_type": "execute_result"
    }
   ],
   "source": [
    "df_budgets.sort_values(['domestic_roi'], ascending = False).head(20)\n",
    "df_roi = df_budgets.groupby(['release_year'])['domestic_roi'].mean()\n",
    "df_roi = df_roi.reset_index()\n",
    "# 2020 has no budget data in this set\n",
    "df_roi = df_roi.drop(index = 6)\n",
    "df_roi"
   ]
  },
  {
   "cell_type": "code",
   "execution_count": 6,
   "metadata": {},
   "outputs": [
    {
     "data": {
      "text/html": [
       "<div>\n",
       "<style scoped>\n",
       "    .dataframe tbody tr th:only-of-type {\n",
       "        vertical-align: middle;\n",
       "    }\n",
       "\n",
       "    .dataframe tbody tr th {\n",
       "        vertical-align: top;\n",
       "    }\n",
       "\n",
       "    .dataframe thead th {\n",
       "        text-align: right;\n",
       "    }\n",
       "</style>\n",
       "<table border=\"1\" class=\"dataframe\">\n",
       "  <thead>\n",
       "    <tr style=\"text-align: right;\">\n",
       "      <th></th>\n",
       "      <th>release_month</th>\n",
       "      <th>domestic_roi</th>\n",
       "    </tr>\n",
       "  </thead>\n",
       "  <tbody>\n",
       "    <tr>\n",
       "      <th>0</th>\n",
       "      <td>1</td>\n",
       "      <td>1.620346</td>\n",
       "    </tr>\n",
       "    <tr>\n",
       "      <th>1</th>\n",
       "      <td>2</td>\n",
       "      <td>1.628038</td>\n",
       "    </tr>\n",
       "  </tbody>\n",
       "</table>\n",
       "</div>"
      ],
      "text/plain": [
       "   release_month  domestic_roi\n",
       "0              1      1.620346\n",
       "1              2      1.628038"
      ]
     },
     "execution_count": 6,
     "metadata": {},
     "output_type": "execute_result"
    }
   ],
   "source": [
    "df_roi_mo = df_budgets.groupby(['release_month'])['domestic_roi'].mean()\n",
    "df_roi_mo = df_roi_mo.reset_index()\n",
    "df_roi_mo.head(2)"
   ]
  },
  {
   "cell_type": "code",
   "execution_count": 22,
   "metadata": {},
   "outputs": [
    {
     "data": {
      "image/png": "[encoded data removed]",
      "text/plain": [
       "<Figure size 1440x720 with 2 Axes>"
      ]
     },
     "metadata": {
      "needs_background": "light"
     },
     "output_type": "display_data"
    }
   ],
   "source": [
    "plt.figure(figsize=(20, 10))\n",
    "ax1 = plt.subplot(1, 2, 1)\n",
    "df_roi.plot(x='release_year', y='domestic_roi', ax=ax1, kind = 'bar', legend = False)\n",
    "ax1.set_title('ROI by Year')\n",
    "ax1.set_xlabel('Release Year')\n",
    "ax1.set_ylabel('ROI ($)')\n",
    "\n",
    "ax2 = plt.subplot(1,2,2)\n",
    "df_roi_mo.plot(x='release_month', y='domestic_roi', ax=ax2, kind = 'bar', legend = False)\n",
    "ax2.set_title('ROI by Month (all years)')\n",
    "ax2.set_xlabel('Release Month')\n",
    "ax2.set_ylabel('ROI ($)')\n",
    "\n",
    "plt.show()"
   ]
  },
  {
   "cell_type": "markdown",
   "metadata": {},
   "source": [
    "So it looks like July is a definite winner - likely because there are often big summer releases, but also because more people are off work/school. Let's aim for our first movie to come out in July. \n",
    "\n",
    "More nuanced is that 2017 and 2018 were good years for the industry. Let's take a look at some July movies first to see if we get a sense of any trends, then some top 2017-2018 releases"
   ]
  },
  {
   "cell_type": "code",
   "execution_count": 27,
   "metadata": {},
   "outputs": [],
   "source": [
    "df_july_movies = df_budgets[df_budgets['release_month'] == 7].sort_values(['domestic_roi'], ascending = False)\n",
    "# the highest movie on this list, 'The Gallows', is a major outlier with a low production budget and a ~$500 ROI so I am dropping it\n",
    "df_july_movies = df_july_movies.drop([5679])"
   ]
  },
  {
   "cell_type": "code",
   "execution_count": 52,
   "metadata": {},
   "outputs": [
    {
     "data": {
      "application/vnd.plotly.v1+json": {
       "config": {
        "plotlyServerURL": "https://plot.ly"
       },
       "data": [
        {
         "customdata": [
          [
           "A Ghost Story"
          ],
          [
           "Lights Out"
          ],
          [
           "Unfriended: Dark Web"
          ],
          [
           "The Purge: Anarchy"
          ],
          [
           "The Purge: Election Year"
          ],
          [
           "Eighth Grade"
          ],
          [
           "Boyhood"
          ],
          [
           "Bad Moms"
          ],
          [
           "Sorry to Bother You"
          ],
          [
           "The First Purge"
          ],
          [
           "The Secret Life of Pets"
          ],
          [
           "Magic Mike XXL"
          ],
          [
           "Minions"
          ],
          [
           "Tammy"
          ],
          [
           "Girls Trip"
          ],
          [
           "An Inconvenient Sequel"
          ],
          [
           "Lucy"
          ],
          [
           "Trainwreck"
          ],
          [
           "Earth to Echo"
          ],
          [
           "Teen Titans Go! To The Movies"
          ],
          [
           "Paper Towns"
          ],
          [
           "Hillaryâs America: The Secret History of the Democratic Party"
          ],
          [
           "Hotel Transylvania 3: Summer Vacation"
          ],
          [
           "Nerve"
          ],
          [
           "Spider-Man: Homecoming"
          ],
          [
           "Vacation"
          ],
          [
           "Southpaw"
          ],
          [
           "The Emoji Movie"
          ],
          [
           "Atomic Blonde"
          ],
          [
           "Ant-Man and the Wasp"
          ],
          [
           "Donât Think Twice"
          ],
          [
           "Mike and Dave Need Wedding Dates"
          ],
          [
           "Ant-Man"
          ],
          [
           "Jason Bourne"
          ],
          [
           "The Equalizer 2"
          ],
          [
           "Mission: ImpossibleâRogue Nation"
          ],
          [
           "Dunkirk"
          ],
          [
           "Mission: ImpossibleâFallout"
          ],
          [
           "Dawn of the Planet of the Apes"
          ],
          [
           "Wish Upon"
          ],
          [
           "Planes: Fire and Rescue"
          ],
          [
           "A Most Wanted Man"
          ],
          [
           "Deliver Us from Evil"
          ],
          [
           "War for the Planet of the Apes"
          ],
          [
           "Sex Tape"
          ],
          [
           "Ghostbusters"
          ],
          [
           "Pixels"
          ],
          [
           "Star Trek Beyond"
          ],
          [
           "And So It Goes"
          ],
          [
           "Hercules"
          ],
          [
           "The Legend of Tarzan"
          ],
          [
           "Bajrangi Bhaijaan"
          ],
          [
           "Ice Age: Collision Course"
          ],
          [
           "Wish I Was Here"
          ],
          [
           "Terminator: Genisys"
          ],
          [
           "Skyscraper"
          ],
          [
           "Sultan"
          ],
          [
           "Self/Less"
          ],
          [
           "Happy Christmas"
          ],
          [
           "The BFG"
          ],
          [
           "I Origins"
          ],
          [
           "The Infiltrator"
          ],
          [
           "Valerian and the City of a Thousand Planets"
          ],
          [
           "Baahubali: The Beginning"
          ],
          [
           "Counting"
          ],
          [
           "The Vatican Tapes"
          ],
          [
           "Dawn of the Crescent Moon"
          ],
          [
           "Beyond the Brick: A LEGO Brickumentary"
          ],
          [
           "As It Is in Heaven"
          ],
          [
           "The Young and Prodigious T.S. Spivet"
          ],
          [
           "Strangerland"
          ],
          [
           "An American in Hollywood"
          ],
          [
           "Tiger Orange"
          ],
          [
           "Crawl"
          ],
          [
           "Stung"
          ],
          [
           "Mutual Friends"
          ],
          [
           "The Dog Lover"
          ],
          [
           "The Outrageous Sophie Tucker"
          ],
          [
           "American Heist"
          ],
          [
           "The Perfect Wave"
          ],
          [
           "Teefa in Trouble"
          ],
          [
           "Fight Valley"
          ]
         ],
         "hoverlabel": {
          "namelength": 0
         },
         "hovertemplate": "production_budget=%{x}<br>domestic_roi=%{y}<br>movie=%{customdata[0]}",
         "legendgroup": "",
         "marker": {
          "color": "#636efa",
          "symbol": "circle"
         },
         "mode": "markers",
         "name": "",
         "showlegend": false,
         "type": "scatter",
         "x": [
          100000,
          5000000,
          1000000,
          9000000,
          10000000,
          2000000,
          4000000,
          20000000,
          3200000,
          13000000,
          75000000,
          14500000,
          74000000,
          20000000,
          28000000,
          1000000,
          40000000,
          35000000,
          13000000,
          10000000,
          12000000,
          5000000,
          65000000,
          20000000,
          175000000,
          31000000,
          30000000,
          50000000,
          30000000,
          130000000,
          3000000,
          33000000,
          130000000,
          120000000,
          77000000,
          150000000,
          150000000,
          178000000,
          170000000,
          12000000,
          50000000,
          15000000,
          30000000,
          152000000,
          40000000,
          144000000,
          90000000,
          185000000,
          18000000,
          100000000,
          180000000,
          13000000,
          105000000,
          6000000,
          155000000,
          125000000,
          11000000,
          26000000,
          70000,
          140000000,
          1000000,
          47500000,
          180000000,
          40000000,
          50000,
          13000000,
          75000,
          1000000,
          450000,
          33000000,
          10000000,
          125000,
          100000,
          17000000,
          2500000,
          450000,
          2000000,
          500000,
          10000000,
          4000000,
          1500000,
          20000000
         ],
         "xaxis": "x",
         "y": [
          15.94798,
          13.453767,
          8.866745,
          7.951394444444444,
          7.904244,
          6.769855,
          6.34499375,
          5.66286485,
          5.4665925,
          5.345288076923077,
          4.911791066666667,
          4.552624620689655,
          4.541159054054054,
          4.2262716,
          4.111018392857143,
          3.496795,
          3.164349,
          3.1489342857142857,
          2.994987846153846,
          2.9790236,
          2.666692,
          2.6199862,
          2.5769244923076924,
          1.9291813,
          1.9097208,
          1.899489935483871,
          1.7473984333333332,
          1.72179026,
          1.7191308333333333,
          1.6665287692307693,
          1.472661,
          1.3942325151515151,
          1.3861704846153846,
          1.3516076666666668,
          1.3257709350649352,
          1.3002825133333333,
          1.2671218666666666,
          1.2368488988764046,
          1.2267387588235295,
          1.1917920833333333,
          1.18315464,
          1.1491903333333333,
          1.0192374,
          0.9663168552631579,
          0.963586825,
          0.8913234305555555,
          0.8751776222222222,
          0.8586396756756757,
          0.8422667222222222,
          0.72688614,
          0.7035725611111111,
          0.629077,
          0.6101238857142857,
          0.5985498333333333,
          0.5791029419354838,
          0.54736096,
          0.509071,
          0.47229580769230767,
          0.43302857142857143,
          0.39631264285714285,
          0.336472,
          0.3249854315789474,
          0.2248853888888889,
          0.16845,
          0.16748,
          0.13728946153846153,
          0.11732,
          0.101531,
          0.02996888888888889,
          0.005359,
          0.0017472,
          0,
          0,
          0,
          0,
          0,
          0,
          0,
          0,
          0,
          0,
          0
         ],
         "yaxis": "y"
        }
       ],
       "layout": {
        "height": 500,
        "legend": {
         "tracegroupgap": 0
        },
        "margin": {
         "t": 60
        },
        "template": {
         "data": {
          "bar": [
           {
            "error_x": {
             "color": "#2a3f5f"
            },
            "error_y": {
             "color": "#2a3f5f"
            },
            "marker": {
             "line": {
              "color": "#E5ECF6",
              "width": 0.5
             }
            },
            "type": "bar"
           }
          ],
          "barpolar": [
           {
            "marker": {
             "line": {
              "color": "#E5ECF6",
              "width": 0.5
             }
            },
            "type": "barpolar"
           }
          ],
          "carpet": [
           {
            "aaxis": {
             "endlinecolor": "#2a3f5f",
             "gridcolor": "white",
             "linecolor": "white",
             "minorgridcolor": "white",
             "startlinecolor": "#2a3f5f"
            },
            "baxis": {
             "endlinecolor": "#2a3f5f",
             "gridcolor": "white",
             "linecolor": "white",
             "minorgridcolor": "white",
             "startlinecolor": "#2a3f5f"
            },
            "type": "carpet"
           }
          ],
          "choropleth": [
           {
            "colorbar": {
             "outlinewidth": 0,
             "ticks": ""
            },
            "type": "choropleth"
           }
          ],
          "contour": [
           {
            "colorbar": {
             "outlinewidth": 0,
             "ticks": ""
            },
            "colorscale": [
             [
              0,
              "#0d0887"
             ],
             [
              0.1111111111111111,
              "#46039f"
             ],
             [
              0.2222222222222222,
              "#7201a8"
             ],
             [
              0.3333333333333333,
              "#9c179e"
             ],
             [
              0.4444444444444444,
              "#bd3786"
             ],
             [
              0.5555555555555556,
              "#d8576b"
             ],
             [
              0.6666666666666666,
              "#ed7953"
             ],
             [
              0.7777777777777778,
              "#fb9f3a"
             ],
             [
              0.8888888888888888,
              "#fdca26"
             ],
             [
              1,
              "#f0f921"
             ]
            ],
            "type": "contour"
           }
          ],
          "contourcarpet": [
           {
            "colorbar": {
             "outlinewidth": 0,
             "ticks": ""
            },
            "type": "contourcarpet"
           }
          ],
          "heatmap": [
           {
            "colorbar": {
             "outlinewidth": 0,
             "ticks": ""
            },
            "colorscale": [
             [
              0,
              "#0d0887"
             ],
             [
              0.1111111111111111,
              "#46039f"
             ],
             [
              0.2222222222222222,
              "#7201a8"
             ],
             [
              0.3333333333333333,
              "#9c179e"
             ],
             [
              0.4444444444444444,
              "#bd3786"
             ],
             [
              0.5555555555555556,
              "#d8576b"
             ],
             [
              0.6666666666666666,
              "#ed7953"
             ],
             [
              0.7777777777777778,
              "#fb9f3a"
             ],
             [
              0.8888888888888888,
              "#fdca26"
             ],
             [
              1,
              "#f0f921"
             ]
            ],
            "type": "heatmap"
           }
          ],
          "heatmapgl": [
           {
            "colorbar": {
             "outlinewidth": 0,
             "ticks": ""
            },
            "colorscale": [
             [
              0,
              "#0d0887"
             ],
             [
              0.1111111111111111,
              "#46039f"
             ],
             [
              0.2222222222222222,
              "#7201a8"
             ],
             [
              0.3333333333333333,
              "#9c179e"
             ],
             [
              0.4444444444444444,
              "#bd3786"
             ],
             [
              0.5555555555555556,
              "#d8576b"
             ],
             [
              0.6666666666666666,
              "#ed7953"
             ],
             [
              0.7777777777777778,
              "#fb9f3a"
             ],
             [
              0.8888888888888888,
              "#fdca26"
             ],
             [
              1,
              "#f0f921"
             ]
            ],
            "type": "heatmapgl"
           }
          ],
          "histogram": [
           {
            "marker": {
             "colorbar": {
              "outlinewidth": 0,
              "ticks": ""
             }
            },
            "type": "histogram"
           }
          ],
          "histogram2d": [
           {
            "colorbar": {
             "outlinewidth": 0,
             "ticks": ""
            },
            "colorscale": [
             [
              0,
              "#0d0887"
             ],
             [
              0.1111111111111111,
              "#46039f"
             ],
             [
              0.2222222222222222,
              "#7201a8"
             ],
             [
              0.3333333333333333,
              "#9c179e"
             ],
             [
              0.4444444444444444,
              "#bd3786"
             ],
             [
              0.5555555555555556,
              "#d8576b"
             ],
             [
              0.6666666666666666,
              "#ed7953"
             ],
             [
              0.7777777777777778,
              "#fb9f3a"
             ],
             [
              0.8888888888888888,
              "#fdca26"
             ],
             [
              1,
              "#f0f921"
             ]
            ],
            "type": "histogram2d"
           }
          ],
          "histogram2dcontour": [
           {
            "colorbar": {
             "outlinewidth": 0,
             "ticks": ""
            },
            "colorscale": [
             [
              0,
              "#0d0887"
             ],
             [
              0.1111111111111111,
              "#46039f"
             ],
             [
              0.2222222222222222,
              "#7201a8"
             ],
             [
              0.3333333333333333,
              "#9c179e"
             ],
             [
              0.4444444444444444,
              "#bd3786"
             ],
             [
              0.5555555555555556,
              "#d8576b"
             ],
             [
              0.6666666666666666,
              "#ed7953"
             ],
             [
              0.7777777777777778,
              "#fb9f3a"
             ],
             [
              0.8888888888888888,
              "#fdca26"
             ],
             [
              1,
              "#f0f921"
             ]
            ],
            "type": "histogram2dcontour"
           }
          ],
          "mesh3d": [
           {
            "colorbar": {
             "outlinewidth": 0,
             "ticks": ""
            },
            "type": "mesh3d"
           }
          ],
          "parcoords": [
           {
            "line": {
             "colorbar": {
              "outlinewidth": 0,
              "ticks": ""
             }
            },
            "type": "parcoords"
           }
          ],
          "scatter": [
           {
            "marker": {
             "colorbar": {
              "outlinewidth": 0,
              "ticks": ""
             }
            },
            "type": "scatter"
           }
          ],
          "scatter3d": [
           {
            "line": {
             "colorbar": {
              "outlinewidth": 0,
              "ticks": ""
             }
            },
            "marker": {
             "colorbar": {
              "outlinewidth": 0,
              "ticks": ""
             }
            },
            "type": "scatter3d"
           }
          ],
          "scattercarpet": [
           {
            "marker": {
             "colorbar": {
              "outlinewidth": 0,
              "ticks": ""
             }
            },
            "type": "scattercarpet"
           }
          ],
          "scattergeo": [
           {
            "marker": {
             "colorbar": {
              "outlinewidth": 0,
              "ticks": ""
             }
            },
            "type": "scattergeo"
           }
          ],
          "scattergl": [
           {
            "marker": {
             "colorbar": {
              "outlinewidth": 0,
              "ticks": ""
             }
            },
            "type": "scattergl"
           }
          ],
          "scattermapbox": [
           {
            "marker": {
             "colorbar": {
              "outlinewidth": 0,
              "ticks": ""
             }
            },
            "type": "scattermapbox"
           }
          ],
          "scatterpolar": [
           {
            "marker": {
             "colorbar": {
              "outlinewidth": 0,
              "ticks": ""
             }
            },
            "type": "scatterpolar"
           }
          ],
          "scatterpolargl": [
           {
            "marker": {
             "colorbar": {
              "outlinewidth": 0,
              "ticks": ""
             }
            },
            "type": "scatterpolargl"
           }
          ],
          "scatterternary": [
           {
            "marker": {
             "colorbar": {
              "outlinewidth": 0,
              "ticks": ""
             }
            },
            "type": "scatterternary"
           }
          ],
          "surface": [
           {
            "colorbar": {
             "outlinewidth": 0,
             "ticks": ""
            },
            "colorscale": [
             [
              0,
              "#0d0887"
             ],
             [
              0.1111111111111111,
              "#46039f"
             ],
             [
              0.2222222222222222,
              "#7201a8"
             ],
             [
              0.3333333333333333,
              "#9c179e"
             ],
             [
              0.4444444444444444,
              "#bd3786"
             ],
             [
              0.5555555555555556,
              "#d8576b"
             ],
             [
              0.6666666666666666,
              "#ed7953"
             ],
             [
              0.7777777777777778,
              "#fb9f3a"
             ],
             [
              0.8888888888888888,
              "#fdca26"
             ],
             [
              1,
              "#f0f921"
             ]
            ],
            "type": "surface"
           }
          ],
          "table": [
           {
            "cells": {
             "fill": {
              "color": "#EBF0F8"
             },
             "line": {
              "color": "white"
             }
            },
            "header": {
             "fill": {
              "color": "#C8D4E3"
             },
             "line": {
              "color": "white"
             }
            },
            "type": "table"
           }
          ]
         },
         "layout": {
          "annotationdefaults": {
           "arrowcolor": "#2a3f5f",
           "arrowhead": 0,
           "arrowwidth": 1
          },
          "colorscale": {
           "diverging": [
            [
             0,
             "#8e0152"
            ],
            [
             0.1,
             "#c51b7d"
            ],
            [
             0.2,
             "#de77ae"
            ],
            [
             0.3,
             "#f1b6da"
            ],
            [
             0.4,
             "#fde0ef"
            ],
            [
             0.5,
             "#f7f7f7"
            ],
            [
             0.6,
             "#e6f5d0"
            ],
            [
             0.7,
             "#b8e186"
            ],
            [
             0.8,
             "#7fbc41"
            ],
            [
             0.9,
             "#4d9221"
            ],
            [
             1,
             "#276419"
            ]
           ],
           "sequential": [
            [
             0,
             "#0d0887"
            ],
            [
             0.1111111111111111,
             "#46039f"
            ],
            [
             0.2222222222222222,
             "#7201a8"
            ],
            [
             0.3333333333333333,
             "#9c179e"
            ],
            [
             0.4444444444444444,
             "#bd3786"
            ],
            [
             0.5555555555555556,
             "#d8576b"
            ],
            [
             0.6666666666666666,
             "#ed7953"
            ],
            [
             0.7777777777777778,
             "#fb9f3a"
            ],
            [
             0.8888888888888888,
             "#fdca26"
            ],
            [
             1,
             "#f0f921"
            ]
           ],
           "sequentialminus": [
            [
             0,
             "#0d0887"
            ],
            [
             0.1111111111111111,
             "#46039f"
            ],
            [
             0.2222222222222222,
             "#7201a8"
            ],
            [
             0.3333333333333333,
             "#9c179e"
            ],
            [
             0.4444444444444444,
             "#bd3786"
            ],
            [
             0.5555555555555556,
             "#d8576b"
            ],
            [
             0.6666666666666666,
             "#ed7953"
            ],
            [
             0.7777777777777778,
             "#fb9f3a"
            ],
            [
             0.8888888888888888,
             "#fdca26"
            ],
            [
             1,
             "#f0f921"
            ]
           ]
          },
          "colorway": [
           "#636efa",
           "#EF553B",
           "#00cc96",
           "#ab63fa",
           "#FFA15A",
           "#19d3f3",
           "#FF6692",
           "#B6E880",
           "#FF97FF",
           "#FECB52"
          ],
          "font": {
           "color": "#2a3f5f"
          },
          "geo": {
           "bgcolor": "white",
           "lakecolor": "white",
           "landcolor": "#E5ECF6",
           "showlakes": true,
           "showland": true,
           "subunitcolor": "white"
          },
          "hoverlabel": {
           "align": "left"
          },
          "hovermode": "closest",
          "mapbox": {
           "style": "light"
          },
          "paper_bgcolor": "white",
          "plot_bgcolor": "#E5ECF6",
          "polar": {
           "angularaxis": {
            "gridcolor": "white",
            "linecolor": "white",
            "ticks": ""
           },
           "bgcolor": "#E5ECF6",
           "radialaxis": {
            "gridcolor": "white",
            "linecolor": "white",
            "ticks": ""
           }
          },
          "scene": {
           "xaxis": {
            "backgroundcolor": "#E5ECF6",
            "gridcolor": "white",
            "gridwidth": 2,
            "linecolor": "white",
            "showbackground": true,
            "ticks": "",
            "zerolinecolor": "white"
           },
           "yaxis": {
            "backgroundcolor": "#E5ECF6",
            "gridcolor": "white",
            "gridwidth": 2,
            "linecolor": "white",
            "showbackground": true,
            "ticks": "",
            "zerolinecolor": "white"
           },
           "zaxis": {
            "backgroundcolor": "#E5ECF6",
            "gridcolor": "white",
            "gridwidth": 2,
            "linecolor": "white",
            "showbackground": true,
            "ticks": "",
            "zerolinecolor": "white"
           }
          },
          "shapedefaults": {
           "line": {
            "color": "#2a3f5f"
           }
          },
          "ternary": {
           "aaxis": {
            "gridcolor": "white",
            "linecolor": "white",
            "ticks": ""
           },
           "baxis": {
            "gridcolor": "white",
            "linecolor": "white",
            "ticks": ""
           },
           "bgcolor": "#E5ECF6",
           "caxis": {
            "gridcolor": "white",
            "linecolor": "white",
            "ticks": ""
           }
          },
          "title": {
           "x": 0.05
          },
          "xaxis": {
           "automargin": true,
           "gridcolor": "white",
           "linecolor": "white",
           "ticks": "",
           "zerolinecolor": "white",
           "zerolinewidth": 2
          },
          "yaxis": {
           "automargin": true,
           "gridcolor": "white",
           "linecolor": "white",
           "ticks": "",
           "zerolinecolor": "white",
           "zerolinewidth": 2
          }
         }
        },
        "title": {
         "text": "July Movies: ROI vs Budget"
        },
        "width": 800,
        "xaxis": {
         "anchor": "y",
         "domain": [
          0,
          0.98
         ],
         "title": {
          "text": "Production Budget"
         }
        },
        "yaxis": {
         "anchor": "x",
         "domain": [
          0,
          1
         ],
         "title": {
          "text": "ROI ($)"
         }
        }
       }
      },
      "text/html": [
       "<div>\n",
       "        \n",
       "        \n",
       "            <div id=\"f5a15627-0e9a-4491-95cf-db900301a0e9\" class=\"plotly-graph-div\" style=\"height:500px; width:800px;\"></div>\n",
       "            <script type=\"text/javascript\">\n",
       "                require([\"plotly\"], function(Plotly) {\n",
       "                    window.PLOTLYENV=window.PLOTLYENV || {};\n",
       "                    \n",
       "                if (document.getElementById(\"f5a15627-0e9a-4491-95cf-db900301a0e9\")) {\n",
       "                    Plotly.newPlot(\n",
       "                        'f5a15627-0e9a-4491-95cf-db900301a0e9',\n",
       "                        [{\"customdata\": [[\"A Ghost Story\"], [\"Lights Out\"], [\"Unfriended: Dark Web\"], [\"The Purge: Anarchy\"], [\"The Purge: Election Year\"], [\"Eighth Grade\"], [\"Boyhood\"], [\"Bad Moms\"], [\"Sorry to Bother You\"], [\"The First Purge\"], [\"The Secret Life of Pets\"], [\"Magic Mike XXL\"], [\"Minions\"], [\"Tammy\"], [\"Girls Trip\"], [\"An Inconvenient Sequel\"], [\"Lucy\"], [\"Trainwreck\"], [\"Earth to Echo\"], [\"Teen Titans Go! To The Movies\"], [\"Paper Towns\"], [\"Hillary\\u00e2\\u0080\\u0099s America: The Secret History of the Democratic Party\"], [\"Hotel Transylvania 3: Summer Vacation\"], [\"Nerve\"], [\"Spider-Man: Homecoming\"], [\"Vacation\"], [\"Southpaw\"], [\"The Emoji Movie\"], [\"Atomic Blonde\"], [\"Ant-Man and the Wasp\"], [\"Don\\u00e2\\u0080\\u0099t Think Twice\"], [\"Mike and Dave Need Wedding Dates\"], [\"Ant-Man\"], [\"Jason Bourne\"], [\"The Equalizer 2\"], [\"Mission: Impossible\\u00e2\\u0080\\u0094Rogue Nation\"], [\"Dunkirk\"], [\"Mission: Impossible\\u00e2\\u0080\\u0094Fallout\"], [\"Dawn of the Planet of the Apes\"], [\"Wish Upon\"], [\"Planes: Fire and Rescue\"], [\"A Most Wanted Man\"], [\"Deliver Us from Evil\"], [\"War for the Planet of the Apes\"], [\"Sex Tape\"], [\"Ghostbusters\"], [\"Pixels\"], [\"Star Trek Beyond\"], [\"And So It Goes\"], [\"Hercules\"], [\"The Legend of Tarzan\"], [\"Bajrangi Bhaijaan\"], [\"Ice Age: Collision Course\"], [\"Wish I Was Here\"], [\"Terminator: Genisys\"], [\"Skyscraper\"], [\"Sultan\"], [\"Self/Less\"], [\"Happy Christmas\"], [\"The BFG\"], [\"I Origins\"], [\"The Infiltrator\"], [\"Valerian and the City of a Thousand Planets\"], [\"Baahubali: The Beginning\"], [\"Counting\"], [\"The Vatican Tapes\"], [\"Dawn of the Crescent Moon\"], [\"Beyond the Brick: A LEGO Brickumentary\"], [\"As It Is in Heaven\"], [\"The Young and Prodigious T.S. Spivet\"], [\"Strangerland\"], [\"An American in Hollywood\"], [\"Tiger Orange\"], [\"Crawl\"], [\"Stung\"], [\"Mutual Friends\"], [\"The Dog Lover\"], [\"The Outrageous Sophie Tucker\"], [\"American Heist\"], [\"The Perfect Wave\"], [\"Teefa in Trouble\"], [\"Fight Valley\"]], \"hoverlabel\": {\"namelength\": 0}, \"hovertemplate\": \"production_budget=%{x}<br>domestic_roi=%{y}<br>movie=%{customdata[0]}\", \"legendgroup\": \"\", \"marker\": {\"color\": \"#636efa\", \"symbol\": \"circle\"}, \"mode\": \"markers\", \"name\": \"\", \"showlegend\": false, \"type\": \"scatter\", \"x\": [100000, 5000000, 1000000, 9000000, 10000000, 2000000, 4000000, 20000000, 3200000, 13000000, 75000000, 14500000, 74000000, 20000000, 28000000, 1000000, 40000000, 35000000, 13000000, 10000000, 12000000, 5000000, 65000000, 20000000, 175000000, 31000000, 30000000, 50000000, 30000000, 130000000, 3000000, 33000000, 130000000, 120000000, 77000000, 150000000, 150000000, 178000000, 170000000, 12000000, 50000000, 15000000, 30000000, 152000000, 40000000, 144000000, 90000000, 185000000, 18000000, 100000000, 180000000, 13000000, 105000000, 6000000, 155000000, 125000000, 11000000, 26000000, 70000, 140000000, 1000000, 47500000, 180000000, 40000000, 50000, 13000000, 75000, 1000000, 450000, 33000000, 10000000, 125000, 100000, 17000000, 2500000, 450000, 2000000, 500000, 10000000, 4000000, 1500000, 20000000], \"xaxis\": \"x\", \"y\": [15.94798, 13.453767, 8.866745, 7.951394444444444, 7.904244, 6.769855, 6.34499375, 5.66286485, 5.4665925, 5.345288076923077, 4.911791066666667, 4.552624620689655, 4.541159054054054, 4.2262716, 4.111018392857143, 3.496795, 3.164349, 3.1489342857142857, 2.994987846153846, 2.9790236, 2.666692, 2.6199862, 2.5769244923076924, 1.9291813, 1.9097208, 1.899489935483871, 1.7473984333333332, 1.72179026, 1.7191308333333333, 1.6665287692307693, 1.472661, 1.3942325151515151, 1.3861704846153846, 1.3516076666666668, 1.3257709350649352, 1.3002825133333333, 1.2671218666666666, 1.2368488988764046, 1.2267387588235295, 1.1917920833333333, 1.18315464, 1.1491903333333333, 1.0192374, 0.9663168552631579, 0.963586825, 0.8913234305555555, 0.8751776222222222, 0.8586396756756757, 0.8422667222222222, 0.72688614, 0.7035725611111111, 0.629077, 0.6101238857142857, 0.5985498333333333, 0.5791029419354838, 0.54736096, 0.509071, 0.47229580769230767, 0.43302857142857143, 0.39631264285714285, 0.336472, 0.3249854315789474, 0.2248853888888889, 0.16845, 0.16748, 0.13728946153846153, 0.11732, 0.101531, 0.02996888888888889, 0.005359, 0.0017472, 0.0, 0.0, 0.0, 0.0, 0.0, 0.0, 0.0, 0.0, 0.0, 0.0, 0.0], \"yaxis\": \"y\"}],\n",
       "                        {\"height\": 500, \"legend\": {\"tracegroupgap\": 0}, \"margin\": {\"t\": 60}, \"template\": {\"data\": {\"bar\": [{\"error_x\": {\"color\": \"#2a3f5f\"}, \"error_y\": {\"color\": \"#2a3f5f\"}, \"marker\": {\"line\": {\"color\": \"#E5ECF6\", \"width\": 0.5}}, \"type\": \"bar\"}], \"barpolar\": [{\"marker\": {\"line\": {\"color\": \"#E5ECF6\", \"width\": 0.5}}, \"type\": \"barpolar\"}], \"carpet\": [{\"aaxis\": {\"endlinecolor\": \"#2a3f5f\", \"gridcolor\": \"white\", \"linecolor\": \"white\", \"minorgridcolor\": \"white\", \"startlinecolor\": \"#2a3f5f\"}, \"baxis\": {\"endlinecolor\": \"#2a3f5f\", \"gridcolor\": \"white\", \"linecolor\": \"white\", \"minorgridcolor\": \"white\", \"startlinecolor\": \"#2a3f5f\"}, \"type\": \"carpet\"}], \"choropleth\": [{\"colorbar\": {\"outlinewidth\": 0, \"ticks\": \"\"}, \"type\": \"choropleth\"}], \"contour\": [{\"colorbar\": {\"outlinewidth\": 0, \"ticks\": \"\"}, \"colorscale\": [[0.0, \"#0d0887\"], [0.1111111111111111, \"#46039f\"], [0.2222222222222222, \"#7201a8\"], [0.3333333333333333, \"#9c179e\"], [0.4444444444444444, \"#bd3786\"], [0.5555555555555556, \"#d8576b\"], [0.6666666666666666, \"#ed7953\"], [0.7777777777777778, \"#fb9f3a\"], [0.8888888888888888, \"#fdca26\"], [1.0, \"#f0f921\"]], \"type\": \"contour\"}], \"contourcarpet\": [{\"colorbar\": {\"outlinewidth\": 0, \"ticks\": \"\"}, \"type\": \"contourcarpet\"}], \"heatmap\": [{\"colorbar\": {\"outlinewidth\": 0, \"ticks\": \"\"}, \"colorscale\": [[0.0, \"#0d0887\"], [0.1111111111111111, \"#46039f\"], [0.2222222222222222, \"#7201a8\"], [0.3333333333333333, \"#9c179e\"], [0.4444444444444444, \"#bd3786\"], [0.5555555555555556, \"#d8576b\"], [0.6666666666666666, \"#ed7953\"], [0.7777777777777778, \"#fb9f3a\"], [0.8888888888888888, \"#fdca26\"], [1.0, \"#f0f921\"]], \"type\": \"heatmap\"}], \"heatmapgl\": [{\"colorbar\": {\"outlinewidth\": 0, \"ticks\": \"\"}, \"colorscale\": [[0.0, \"#0d0887\"], [0.1111111111111111, \"#46039f\"], [0.2222222222222222, \"#7201a8\"], [0.3333333333333333, \"#9c179e\"], [0.4444444444444444, \"#bd3786\"], [0.5555555555555556, \"#d8576b\"], [0.6666666666666666, \"#ed7953\"], [0.7777777777777778, \"#fb9f3a\"], [0.8888888888888888, \"#fdca26\"], [1.0, \"#f0f921\"]], \"type\": \"heatmapgl\"}], \"histogram\": [{\"marker\": {\"colorbar\": {\"outlinewidth\": 0, \"ticks\": \"\"}}, \"type\": \"histogram\"}], \"histogram2d\": [{\"colorbar\": {\"outlinewidth\": 0, \"ticks\": \"\"}, \"colorscale\": [[0.0, \"#0d0887\"], [0.1111111111111111, \"#46039f\"], [0.2222222222222222, \"#7201a8\"], [0.3333333333333333, \"#9c179e\"], [0.4444444444444444, \"#bd3786\"], [0.5555555555555556, \"#d8576b\"], [0.6666666666666666, \"#ed7953\"], [0.7777777777777778, \"#fb9f3a\"], [0.8888888888888888, \"#fdca26\"], [1.0, \"#f0f921\"]], \"type\": \"histogram2d\"}], \"histogram2dcontour\": [{\"colorbar\": {\"outlinewidth\": 0, \"ticks\": \"\"}, \"colorscale\": [[0.0, \"#0d0887\"], [0.1111111111111111, \"#46039f\"], [0.2222222222222222, \"#7201a8\"], [0.3333333333333333, \"#9c179e\"], [0.4444444444444444, \"#bd3786\"], [0.5555555555555556, \"#d8576b\"], [0.6666666666666666, \"#ed7953\"], [0.7777777777777778, \"#fb9f3a\"], [0.8888888888888888, \"#fdca26\"], [1.0, \"#f0f921\"]], \"type\": \"histogram2dcontour\"}], \"mesh3d\": [{\"colorbar\": {\"outlinewidth\": 0, \"ticks\": \"\"}, \"type\": \"mesh3d\"}], \"parcoords\": [{\"line\": {\"colorbar\": {\"outlinewidth\": 0, \"ticks\": \"\"}}, \"type\": \"parcoords\"}], \"scatter\": [{\"marker\": {\"colorbar\": {\"outlinewidth\": 0, \"ticks\": \"\"}}, \"type\": \"scatter\"}], \"scatter3d\": [{\"line\": {\"colorbar\": {\"outlinewidth\": 0, \"ticks\": \"\"}}, \"marker\": {\"colorbar\": {\"outlinewidth\": 0, \"ticks\": \"\"}}, \"type\": \"scatter3d\"}], \"scattercarpet\": [{\"marker\": {\"colorbar\": {\"outlinewidth\": 0, \"ticks\": \"\"}}, \"type\": \"scattercarpet\"}], \"scattergeo\": [{\"marker\": {\"colorbar\": {\"outlinewidth\": 0, \"ticks\": \"\"}}, \"type\": \"scattergeo\"}], \"scattergl\": [{\"marker\": {\"colorbar\": {\"outlinewidth\": 0, \"ticks\": \"\"}}, \"type\": \"scattergl\"}], \"scattermapbox\": [{\"marker\": {\"colorbar\": {\"outlinewidth\": 0, \"ticks\": \"\"}}, \"type\": \"scattermapbox\"}], \"scatterpolar\": [{\"marker\": {\"colorbar\": {\"outlinewidth\": 0, \"ticks\": \"\"}}, \"type\": \"scatterpolar\"}], \"scatterpolargl\": [{\"marker\": {\"colorbar\": {\"outlinewidth\": 0, \"ticks\": \"\"}}, \"type\": \"scatterpolargl\"}], \"scatterternary\": [{\"marker\": {\"colorbar\": {\"outlinewidth\": 0, \"ticks\": \"\"}}, \"type\": \"scatterternary\"}], \"surface\": [{\"colorbar\": {\"outlinewidth\": 0, \"ticks\": \"\"}, \"colorscale\": [[0.0, \"#0d0887\"], [0.1111111111111111, \"#46039f\"], [0.2222222222222222, \"#7201a8\"], [0.3333333333333333, \"#9c179e\"], [0.4444444444444444, \"#bd3786\"], [0.5555555555555556, \"#d8576b\"], [0.6666666666666666, \"#ed7953\"], [0.7777777777777778, \"#fb9f3a\"], [0.8888888888888888, \"#fdca26\"], [1.0, \"#f0f921\"]], \"type\": \"surface\"}], \"table\": [{\"cells\": {\"fill\": {\"color\": \"#EBF0F8\"}, \"line\": {\"color\": \"white\"}}, \"header\": {\"fill\": {\"color\": \"#C8D4E3\"}, \"line\": {\"color\": \"white\"}}, \"type\": \"table\"}]}, \"layout\": {\"annotationdefaults\": {\"arrowcolor\": \"#2a3f5f\", \"arrowhead\": 0, \"arrowwidth\": 1}, \"colorscale\": {\"diverging\": [[0, \"#8e0152\"], [0.1, \"#c51b7d\"], [0.2, \"#de77ae\"], [0.3, \"#f1b6da\"], [0.4, \"#fde0ef\"], [0.5, \"#f7f7f7\"], [0.6, \"#e6f5d0\"], [0.7, \"#b8e186\"], [0.8, \"#7fbc41\"], [0.9, \"#4d9221\"], [1, \"#276419\"]], \"sequential\": [[0.0, \"#0d0887\"], [0.1111111111111111, \"#46039f\"], [0.2222222222222222, \"#7201a8\"], [0.3333333333333333, \"#9c179e\"], [0.4444444444444444, \"#bd3786\"], [0.5555555555555556, \"#d8576b\"], [0.6666666666666666, \"#ed7953\"], [0.7777777777777778, \"#fb9f3a\"], [0.8888888888888888, \"#fdca26\"], [1.0, \"#f0f921\"]], \"sequentialminus\": [[0.0, \"#0d0887\"], [0.1111111111111111, \"#46039f\"], [0.2222222222222222, \"#7201a8\"], [0.3333333333333333, \"#9c179e\"], [0.4444444444444444, \"#bd3786\"], [0.5555555555555556, \"#d8576b\"], [0.6666666666666666, \"#ed7953\"], [0.7777777777777778, \"#fb9f3a\"], [0.8888888888888888, \"#fdca26\"], [1.0, \"#f0f921\"]]}, \"colorway\": [\"#636efa\", \"#EF553B\", \"#00cc96\", \"#ab63fa\", \"#FFA15A\", \"#19d3f3\", \"#FF6692\", \"#B6E880\", \"#FF97FF\", \"#FECB52\"], \"font\": {\"color\": \"#2a3f5f\"}, \"geo\": {\"bgcolor\": \"white\", \"lakecolor\": \"white\", \"landcolor\": \"#E5ECF6\", \"showlakes\": true, \"showland\": true, \"subunitcolor\": \"white\"}, \"hoverlabel\": {\"align\": \"left\"}, \"hovermode\": \"closest\", \"mapbox\": {\"style\": \"light\"}, \"paper_bgcolor\": \"white\", \"plot_bgcolor\": \"#E5ECF6\", \"polar\": {\"angularaxis\": {\"gridcolor\": \"white\", \"linecolor\": \"white\", \"ticks\": \"\"}, \"bgcolor\": \"#E5ECF6\", \"radialaxis\": {\"gridcolor\": \"white\", \"linecolor\": \"white\", \"ticks\": \"\"}}, \"scene\": {\"xaxis\": {\"backgroundcolor\": \"#E5ECF6\", \"gridcolor\": \"white\", \"gridwidth\": 2, \"linecolor\": \"white\", \"showbackground\": true, \"ticks\": \"\", \"zerolinecolor\": \"white\"}, \"yaxis\": {\"backgroundcolor\": \"#E5ECF6\", \"gridcolor\": \"white\", \"gridwidth\": 2, \"linecolor\": \"white\", \"showbackground\": true, \"ticks\": \"\", \"zerolinecolor\": \"white\"}, \"zaxis\": {\"backgroundcolor\": \"#E5ECF6\", \"gridcolor\": \"white\", \"gridwidth\": 2, \"linecolor\": \"white\", \"showbackground\": true, \"ticks\": \"\", \"zerolinecolor\": \"white\"}}, \"shapedefaults\": {\"line\": {\"color\": \"#2a3f5f\"}}, \"ternary\": {\"aaxis\": {\"gridcolor\": \"white\", \"linecolor\": \"white\", \"ticks\": \"\"}, \"baxis\": {\"gridcolor\": \"white\", \"linecolor\": \"white\", \"ticks\": \"\"}, \"bgcolor\": \"#E5ECF6\", \"caxis\": {\"gridcolor\": \"white\", \"linecolor\": \"white\", \"ticks\": \"\"}}, \"title\": {\"x\": 0.05}, \"xaxis\": {\"automargin\": true, \"gridcolor\": \"white\", \"linecolor\": \"white\", \"ticks\": \"\", \"zerolinecolor\": \"white\", \"zerolinewidth\": 2}, \"yaxis\": {\"automargin\": true, \"gridcolor\": \"white\", \"linecolor\": \"white\", \"ticks\": \"\", \"zerolinecolor\": \"white\", \"zerolinewidth\": 2}}}, \"title\": {\"text\": \"July Movies: ROI vs Budget\"}, \"width\": 800, \"xaxis\": {\"anchor\": \"y\", \"domain\": [0.0, 0.98], \"title\": {\"text\": \"Production Budget\"}}, \"yaxis\": {\"anchor\": \"x\", \"domain\": [0.0, 1.0], \"title\": {\"text\": \"ROI ($)\"}}},\n",
       "                        {\"responsive\": true}\n",
       "                    ).then(function(){\n",
       "                            \n",
       "var gd = document.getElementById('f5a15627-0e9a-4491-95cf-db900301a0e9');\n",
       "var x = new MutationObserver(function (mutations, observer) {{\n",
       "        var display = window.getComputedStyle(gd).display;\n",
       "        if (!display || display === 'none') {{\n",
       "            console.log([gd, 'removed!']);\n",
       "            Plotly.purge(gd);\n",
       "            observer.disconnect();\n",
       "        }}\n",
       "}});\n",
       "\n",
       "// Listen for the removal of the full notebook cells\n",
       "var notebookContainer = gd.closest('#notebook-container');\n",
       "if (notebookContainer) {{\n",
       "    x.observe(notebookContainer, {childList: true});\n",
       "}}\n",
       "\n",
       "// Listen for the clearing of the current output cell\n",
       "var outputEl = gd.closest('.output');\n",
       "if (outputEl) {{\n",
       "    x.observe(outputEl, {childList: true});\n",
       "}}\n",
       "\n",
       "                        })\n",
       "                };\n",
       "                });\n",
       "            </script>\n",
       "        </div>"
      ]
     },
     "metadata": {},
     "output_type": "display_data"
    }
   ],
   "source": [
    "import plotly.express as px\n",
    "fig = px.scatter(df_july_movies, x='production_budget', y='domestic_roi', hover_data=['movie'], width=800, height=500)\n",
    "fig.update_layout(title='July Movies: ROI vs Budget',\n",
    "    xaxis_title='Production Budget',\n",
    "    yaxis_title='ROI ($)')\n",
    "\n",
    "fig.show()"
   ]
  },
  {
   "cell_type": "markdown",
   "metadata": {},
   "source": [
    "The good news is, the majority of these movies have budgets on the lower end of this spread. To not get too risky, we can aim to start with a budget of ~50MM. These titles are diverse and contain horror, action, comedy and drama which gives us lots of options!"
   ]
  },
  {
   "cell_type": "code",
   "execution_count": 38,
   "metadata": {
    "scrolled": true
   },
   "outputs": [
    {
     "data": {
      "text/html": [
       "<div>\n",
       "<style scoped>\n",
       "    .dataframe tbody tr th:only-of-type {\n",
       "        vertical-align: middle;\n",
       "    }\n",
       "\n",
       "    .dataframe tbody tr th {\n",
       "        vertical-align: top;\n",
       "    }\n",
       "\n",
       "    .dataframe thead th {\n",
       "        text-align: right;\n",
       "    }\n",
       "</style>\n",
       "<table border=\"1\" class=\"dataframe\">\n",
       "  <thead>\n",
       "    <tr style=\"text-align: right;\">\n",
       "      <th></th>\n",
       "      <th>id</th>\n",
       "      <th>release_date</th>\n",
       "      <th>movie</th>\n",
       "      <th>production_budget</th>\n",
       "      <th>domestic_gross</th>\n",
       "      <th>worldwide_gross</th>\n",
       "      <th>release_year</th>\n",
       "      <th>release_month</th>\n",
       "      <th>domestic_roi</th>\n",
       "    </tr>\n",
       "  </thead>\n",
       "  <tbody>\n",
       "    <tr>\n",
       "      <th>5685</th>\n",
       "      <td>86</td>\n",
       "      <td>2017-07-07</td>\n",
       "      <td>A Ghost Story</td>\n",
       "      <td>100000</td>\n",
       "      <td>1594798</td>\n",
       "      <td>2769782</td>\n",
       "      <td>2017</td>\n",
       "      <td>7</td>\n",
       "      <td>15.947980</td>\n",
       "    </tr>\n",
       "    <tr>\n",
       "      <th>4254</th>\n",
       "      <td>55</td>\n",
       "      <td>2016-07-22</td>\n",
       "      <td>Lights Out</td>\n",
       "      <td>5000000</td>\n",
       "      <td>67268835</td>\n",
       "      <td>148806510</td>\n",
       "      <td>2016</td>\n",
       "      <td>7</td>\n",
       "      <td>13.453767</td>\n",
       "    </tr>\n",
       "    <tr>\n",
       "      <th>5228</th>\n",
       "      <td>29</td>\n",
       "      <td>2018-07-20</td>\n",
       "      <td>Unfriended: Dark Web</td>\n",
       "      <td>1000000</td>\n",
       "      <td>8866745</td>\n",
       "      <td>16434588</td>\n",
       "      <td>2018</td>\n",
       "      <td>7</td>\n",
       "      <td>8.866745</td>\n",
       "    </tr>\n",
       "    <tr>\n",
       "      <th>3770</th>\n",
       "      <td>71</td>\n",
       "      <td>2014-07-18</td>\n",
       "      <td>The Purge: Anarchy</td>\n",
       "      <td>9000000</td>\n",
       "      <td>71562550</td>\n",
       "      <td>111534881</td>\n",
       "      <td>2014</td>\n",
       "      <td>7</td>\n",
       "      <td>7.951394</td>\n",
       "    </tr>\n",
       "    <tr>\n",
       "      <th>3541</th>\n",
       "      <td>42</td>\n",
       "      <td>2016-07-01</td>\n",
       "      <td>The Purge: Election Year</td>\n",
       "      <td>10000000</td>\n",
       "      <td>79042440</td>\n",
       "      <td>118514727</td>\n",
       "      <td>2016</td>\n",
       "      <td>7</td>\n",
       "      <td>7.904244</td>\n",
       "    </tr>\n",
       "    <tr>\n",
       "      <th>4894</th>\n",
       "      <td>95</td>\n",
       "      <td>2018-07-13</td>\n",
       "      <td>Eighth Grade</td>\n",
       "      <td>2000000</td>\n",
       "      <td>13539710</td>\n",
       "      <td>14341016</td>\n",
       "      <td>2018</td>\n",
       "      <td>7</td>\n",
       "      <td>6.769855</td>\n",
       "    </tr>\n",
       "    <tr>\n",
       "      <th>4484</th>\n",
       "      <td>85</td>\n",
       "      <td>2014-07-11</td>\n",
       "      <td>Boyhood</td>\n",
       "      <td>4000000</td>\n",
       "      <td>25379975</td>\n",
       "      <td>57273049</td>\n",
       "      <td>2014</td>\n",
       "      <td>7</td>\n",
       "      <td>6.344994</td>\n",
       "    </tr>\n",
       "    <tr>\n",
       "      <th>2498</th>\n",
       "      <td>99</td>\n",
       "      <td>2016-07-29</td>\n",
       "      <td>Bad Moms</td>\n",
       "      <td>20000000</td>\n",
       "      <td>113257297</td>\n",
       "      <td>180998716</td>\n",
       "      <td>2016</td>\n",
       "      <td>7</td>\n",
       "      <td>5.662865</td>\n",
       "    </tr>\n",
       "    <tr>\n",
       "      <th>4653</th>\n",
       "      <td>54</td>\n",
       "      <td>2018-07-06</td>\n",
       "      <td>Sorry to Bother You</td>\n",
       "      <td>3200000</td>\n",
       "      <td>17493096</td>\n",
       "      <td>18285560</td>\n",
       "      <td>2018</td>\n",
       "      <td>7</td>\n",
       "      <td>5.466592</td>\n",
       "    </tr>\n",
       "    <tr>\n",
       "      <th>3248</th>\n",
       "      <td>49</td>\n",
       "      <td>2018-07-04</td>\n",
       "      <td>The First Purge</td>\n",
       "      <td>13000000</td>\n",
       "      <td>69488745</td>\n",
       "      <td>136617305</td>\n",
       "      <td>2018</td>\n",
       "      <td>7</td>\n",
       "      <td>5.345288</td>\n",
       "    </tr>\n",
       "  </tbody>\n",
       "</table>\n",
       "</div>"
      ],
      "text/plain": [
       "      id release_date                     movie  production_budget  \\\n",
       "5685  86   2017-07-07             A Ghost Story             100000   \n",
       "4254  55   2016-07-22                Lights Out            5000000   \n",
       "5228  29   2018-07-20      Unfriended: Dark Web            1000000   \n",
       "3770  71   2014-07-18        The Purge: Anarchy            9000000   \n",
       "3541  42   2016-07-01  The Purge: Election Year           10000000   \n",
       "4894  95   2018-07-13              Eighth Grade            2000000   \n",
       "4484  85   2014-07-11                   Boyhood            4000000   \n",
       "2498  99   2016-07-29                  Bad Moms           20000000   \n",
       "4653  54   2018-07-06       Sorry to Bother You            3200000   \n",
       "3248  49   2018-07-04           The First Purge           13000000   \n",
       "\n",
       "      domestic_gross  worldwide_gross  release_year  release_month  \\\n",
       "5685         1594798          2769782          2017              7   \n",
       "4254        67268835        148806510          2016              7   \n",
       "5228         8866745         16434588          2018              7   \n",
       "3770        71562550        111534881          2014              7   \n",
       "3541        79042440        118514727          2016              7   \n",
       "4894        13539710         14341016          2018              7   \n",
       "4484        25379975         57273049          2014              7   \n",
       "2498       113257297        180998716          2016              7   \n",
       "4653        17493096         18285560          2018              7   \n",
       "3248        69488745        136617305          2018              7   \n",
       "\n",
       "      domestic_roi  \n",
       "5685     15.947980  \n",
       "4254     13.453767  \n",
       "5228      8.866745  \n",
       "3770      7.951394  \n",
       "3541      7.904244  \n",
       "4894      6.769855  \n",
       "4484      6.344994  \n",
       "2498      5.662865  \n",
       "4653      5.466592  \n",
       "3248      5.345288  "
      ]
     },
     "execution_count": 38,
     "metadata": {},
     "output_type": "execute_result"
    }
   ],
   "source": [
    "df_july_movies[df_july_movies['production_budget'] < 50000000].head(10)"
   ]
  },
  {
   "cell_type": "code",
   "execution_count": 54,
   "metadata": {},
   "outputs": [
    {
     "data": {
      "application/vnd.plotly.v1+json": {
       "config": {
        "plotlyServerURL": "https://plot.ly"
       },
       "data": [
        {
         "customdata": [
          [
           "A Ghost Story"
          ],
          [
           "Lights Out"
          ],
          [
           "Unfriended: Dark Web"
          ],
          [
           "The Purge: Anarchy"
          ],
          [
           "The Purge: Election Year"
          ],
          [
           "Eighth Grade"
          ],
          [
           "Boyhood"
          ],
          [
           "Bad Moms"
          ],
          [
           "Sorry to Bother You"
          ],
          [
           "The First Purge"
          ],
          [
           "The Secret Life of Pets"
          ],
          [
           "Magic Mike XXL"
          ],
          [
           "Minions"
          ],
          [
           "Tammy"
          ],
          [
           "Girls Trip"
          ],
          [
           "An Inconvenient Sequel"
          ],
          [
           "Lucy"
          ],
          [
           "Trainwreck"
          ],
          [
           "Earth to Echo"
          ],
          [
           "Teen Titans Go! To The Movies"
          ],
          [
           "Paper Towns"
          ],
          [
           "Hillaryâs America: The Secret History of the Democratic Party"
          ],
          [
           "Hotel Transylvania 3: Summer Vacation"
          ],
          [
           "Nerve"
          ],
          [
           "Spider-Man: Homecoming"
          ],
          [
           "Vacation"
          ],
          [
           "Southpaw"
          ],
          [
           "The Emoji Movie"
          ],
          [
           "Atomic Blonde"
          ],
          [
           "Ant-Man and the Wasp"
          ],
          [
           "Donât Think Twice"
          ],
          [
           "Mike and Dave Need Wedding Dates"
          ],
          [
           "Ant-Man"
          ],
          [
           "Jason Bourne"
          ],
          [
           "The Equalizer 2"
          ],
          [
           "Mission: ImpossibleâRogue Nation"
          ],
          [
           "Dunkirk"
          ],
          [
           "Mission: ImpossibleâFallout"
          ],
          [
           "Dawn of the Planet of the Apes"
          ],
          [
           "Wish Upon"
          ],
          [
           "Planes: Fire and Rescue"
          ],
          [
           "A Most Wanted Man"
          ],
          [
           "Deliver Us from Evil"
          ],
          [
           "War for the Planet of the Apes"
          ],
          [
           "Sex Tape"
          ],
          [
           "Ghostbusters"
          ],
          [
           "Pixels"
          ],
          [
           "Star Trek Beyond"
          ],
          [
           "And So It Goes"
          ],
          [
           "Hercules"
          ],
          [
           "The Legend of Tarzan"
          ],
          [
           "Bajrangi Bhaijaan"
          ],
          [
           "Ice Age: Collision Course"
          ],
          [
           "Wish I Was Here"
          ],
          [
           "Terminator: Genisys"
          ],
          [
           "Skyscraper"
          ],
          [
           "Sultan"
          ],
          [
           "Self/Less"
          ],
          [
           "Happy Christmas"
          ],
          [
           "The BFG"
          ],
          [
           "I Origins"
          ],
          [
           "The Infiltrator"
          ],
          [
           "Valerian and the City of a Thousand Planets"
          ],
          [
           "Baahubali: The Beginning"
          ],
          [
           "Counting"
          ],
          [
           "The Vatican Tapes"
          ],
          [
           "Dawn of the Crescent Moon"
          ],
          [
           "Beyond the Brick: A LEGO Brickumentary"
          ],
          [
           "As It Is in Heaven"
          ],
          [
           "The Young and Prodigious T.S. Spivet"
          ],
          [
           "Strangerland"
          ],
          [
           "An American in Hollywood"
          ],
          [
           "Tiger Orange"
          ],
          [
           "Crawl"
          ],
          [
           "Stung"
          ],
          [
           "Mutual Friends"
          ],
          [
           "The Dog Lover"
          ],
          [
           "The Outrageous Sophie Tucker"
          ],
          [
           "American Heist"
          ],
          [
           "The Perfect Wave"
          ],
          [
           "Teefa in Trouble"
          ],
          [
           "Fight Valley"
          ]
         ],
         "hoverlabel": {
          "namelength": 0
         },
         "hovertemplate": "production_budget=%{x}<br>domestic_roi=%{y}<br>movie=%{customdata[0]}",
         "legendgroup": "",
         "marker": {
          "color": "#636efa",
          "symbol": "circle"
         },
         "mode": "markers",
         "name": "",
         "showlegend": false,
         "type": "scatter",
         "x": [
          100000,
          5000000,
          1000000,
          9000000,
          10000000,
          2000000,
          4000000,
          20000000,
          3200000,
          13000000,
          75000000,
          14500000,
          74000000,
          20000000,
          28000000,
          1000000,
          40000000,
          35000000,
          13000000,
          10000000,
          12000000,
          5000000,
          65000000,
          20000000,
          175000000,
          31000000,
          30000000,
          50000000,
          30000000,
          130000000,
          3000000,
          33000000,
          130000000,
          120000000,
          77000000,
          150000000,
          150000000,
          178000000,
          170000000,
          12000000,
          50000000,
          15000000,
          30000000,
          152000000,
          40000000,
          144000000,
          90000000,
          185000000,
          18000000,
          100000000,
          180000000,
          13000000,
          105000000,
          6000000,
          155000000,
          125000000,
          11000000,
          26000000,
          70000,
          140000000,
          1000000,
          47500000,
          180000000,
          40000000,
          50000,
          13000000,
          75000,
          1000000,
          450000,
          33000000,
          10000000,
          125000,
          100000,
          17000000,
          2500000,
          450000,
          2000000,
          500000,
          10000000,
          4000000,
          1500000,
          20000000
         ],
         "xaxis": "x",
         "y": [
          15.94798,
          13.453767,
          8.866745,
          7.951394444444444,
          7.904244,
          6.769855,
          6.34499375,
          5.66286485,
          5.4665925,
          5.345288076923077,
          4.911791066666667,
          4.552624620689655,
          4.541159054054054,
          4.2262716,
          4.111018392857143,
          3.496795,
          3.164349,
          3.1489342857142857,
          2.994987846153846,
          2.9790236,
          2.666692,
          2.6199862,
          2.5769244923076924,
          1.9291813,
          1.9097208,
          1.899489935483871,
          1.7473984333333332,
          1.72179026,
          1.7191308333333333,
          1.6665287692307693,
          1.472661,
          1.3942325151515151,
          1.3861704846153846,
          1.3516076666666668,
          1.3257709350649352,
          1.3002825133333333,
          1.2671218666666666,
          1.2368488988764046,
          1.2267387588235295,
          1.1917920833333333,
          1.18315464,
          1.1491903333333333,
          1.0192374,
          0.9663168552631579,
          0.963586825,
          0.8913234305555555,
          0.8751776222222222,
          0.8586396756756757,
          0.8422667222222222,
          0.72688614,
          0.7035725611111111,
          0.629077,
          0.6101238857142857,
          0.5985498333333333,
          0.5791029419354838,
          0.54736096,
          0.509071,
          0.47229580769230767,
          0.43302857142857143,
          0.39631264285714285,
          0.336472,
          0.3249854315789474,
          0.2248853888888889,
          0.16845,
          0.16748,
          0.13728946153846153,
          0.11732,
          0.101531,
          0.02996888888888889,
          0.005359,
          0.0017472,
          0,
          0,
          0,
          0,
          0,
          0,
          0,
          0,
          0,
          0,
          0
         ],
         "yaxis": "y"
        }
       ],
       "layout": {
        "height": 500,
        "legend": {
         "tracegroupgap": 0
        },
        "margin": {
         "t": 60
        },
        "template": {
         "data": {
          "bar": [
           {
            "error_x": {
             "color": "#2a3f5f"
            },
            "error_y": {
             "color": "#2a3f5f"
            },
            "marker": {
             "line": {
              "color": "#E5ECF6",
              "width": 0.5
             }
            },
            "type": "bar"
           }
          ],
          "barpolar": [
           {
            "marker": {
             "line": {
              "color": "#E5ECF6",
              "width": 0.5
             }
            },
            "type": "barpolar"
           }
          ],
          "carpet": [
           {
            "aaxis": {
             "endlinecolor": "#2a3f5f",
             "gridcolor": "white",
             "linecolor": "white",
             "minorgridcolor": "white",
             "startlinecolor": "#2a3f5f"
            },
            "baxis": {
             "endlinecolor": "#2a3f5f",
             "gridcolor": "white",
             "linecolor": "white",
             "minorgridcolor": "white",
             "startlinecolor": "#2a3f5f"
            },
            "type": "carpet"
           }
          ],
          "choropleth": [
           {
            "colorbar": {
             "outlinewidth": 0,
             "ticks": ""
            },
            "type": "choropleth"
           }
          ],
          "contour": [
           {
            "colorbar": {
             "outlinewidth": 0,
             "ticks": ""
            },
            "colorscale": [
             [
              0,
              "#0d0887"
             ],
             [
              0.1111111111111111,
              "#46039f"
             ],
             [
              0.2222222222222222,
              "#7201a8"
             ],
             [
              0.3333333333333333,
              "#9c179e"
             ],
             [
              0.4444444444444444,
              "#bd3786"
             ],
             [
              0.5555555555555556,
              "#d8576b"
             ],
             [
              0.6666666666666666,
              "#ed7953"
             ],
             [
              0.7777777777777778,
              "#fb9f3a"
             ],
             [
              0.8888888888888888,
              "#fdca26"
             ],
             [
              1,
              "#f0f921"
             ]
            ],
            "type": "contour"
           }
          ],
          "contourcarpet": [
           {
            "colorbar": {
             "outlinewidth": 0,
             "ticks": ""
            },
            "type": "contourcarpet"
           }
          ],
          "heatmap": [
           {
            "colorbar": {
             "outlinewidth": 0,
             "ticks": ""
            },
            "colorscale": [
             [
              0,
              "#0d0887"
             ],
             [
              0.1111111111111111,
              "#46039f"
             ],
             [
              0.2222222222222222,
              "#7201a8"
             ],
             [
              0.3333333333333333,
              "#9c179e"
             ],
             [
              0.4444444444444444,
              "#bd3786"
             ],
             [
              0.5555555555555556,
              "#d8576b"
             ],
             [
              0.6666666666666666,
              "#ed7953"
             ],
             [
              0.7777777777777778,
              "#fb9f3a"
             ],
             [
              0.8888888888888888,
              "#fdca26"
             ],
             [
              1,
              "#f0f921"
             ]
            ],
            "type": "heatmap"
           }
          ],
          "heatmapgl": [
           {
            "colorbar": {
             "outlinewidth": 0,
             "ticks": ""
            },
            "colorscale": [
             [
              0,
              "#0d0887"
             ],
             [
              0.1111111111111111,
              "#46039f"
             ],
             [
              0.2222222222222222,
              "#7201a8"
             ],
             [
              0.3333333333333333,
              "#9c179e"
             ],
             [
              0.4444444444444444,
              "#bd3786"
             ],
             [
              0.5555555555555556,
              "#d8576b"
             ],
             [
              0.6666666666666666,
              "#ed7953"
             ],
             [
              0.7777777777777778,
              "#fb9f3a"
             ],
             [
              0.8888888888888888,
              "#fdca26"
             ],
             [
              1,
              "#f0f921"
             ]
            ],
            "type": "heatmapgl"
           }
          ],
          "histogram": [
           {
            "marker": {
             "colorbar": {
              "outlinewidth": 0,
              "ticks": ""
             }
            },
            "type": "histogram"
           }
          ],
          "histogram2d": [
           {
            "colorbar": {
             "outlinewidth": 0,
             "ticks": ""
            },
            "colorscale": [
             [
              0,
              "#0d0887"
             ],
             [
              0.1111111111111111,
              "#46039f"
             ],
             [
              0.2222222222222222,
              "#7201a8"
             ],
             [
              0.3333333333333333,
              "#9c179e"
             ],
             [
              0.4444444444444444,
              "#bd3786"
             ],
             [
              0.5555555555555556,
              "#d8576b"
             ],
             [
              0.6666666666666666,
              "#ed7953"
             ],
             [
              0.7777777777777778,
              "#fb9f3a"
             ],
             [
              0.8888888888888888,
              "#fdca26"
             ],
             [
              1,
              "#f0f921"
             ]
            ],
            "type": "histogram2d"
           }
          ],
          "histogram2dcontour": [
           {
            "colorbar": {
             "outlinewidth": 0,
             "ticks": ""
            },
            "colorscale": [
             [
              0,
              "#0d0887"
             ],
             [
              0.1111111111111111,
              "#46039f"
             ],
             [
              0.2222222222222222,
              "#7201a8"
             ],
             [
              0.3333333333333333,
              "#9c179e"
             ],
             [
              0.4444444444444444,
              "#bd3786"
             ],
             [
              0.5555555555555556,
              "#d8576b"
             ],
             [
              0.6666666666666666,
              "#ed7953"
             ],
             [
              0.7777777777777778,
              "#fb9f3a"
             ],
             [
              0.8888888888888888,
              "#fdca26"
             ],
             [
              1,
              "#f0f921"
             ]
            ],
            "type": "histogram2dcontour"
           }
          ],
          "mesh3d": [
           {
            "colorbar": {
             "outlinewidth": 0,
             "ticks": ""
            },
            "type": "mesh3d"
           }
          ],
          "parcoords": [
           {
            "line": {
             "colorbar": {
              "outlinewidth": 0,
              "ticks": ""
             }
            },
            "type": "parcoords"
           }
          ],
          "scatter": [
           {
            "marker": {
             "colorbar": {
              "outlinewidth": 0,
              "ticks": ""
             }
            },
            "type": "scatter"
           }
          ],
          "scatter3d": [
           {
            "line": {
             "colorbar": {
              "outlinewidth": 0,
              "ticks": ""
             }
            },
            "marker": {
             "colorbar": {
              "outlinewidth": 0,
              "ticks": ""
             }
            },
            "type": "scatter3d"
           }
          ],
          "scattercarpet": [
           {
            "marker": {
             "colorbar": {
              "outlinewidth": 0,
              "ticks": ""
             }
            },
            "type": "scattercarpet"
           }
          ],
          "scattergeo": [
           {
            "marker": {
             "colorbar": {
              "outlinewidth": 0,
              "ticks": ""
             }
            },
            "type": "scattergeo"
           }
          ],
          "scattergl": [
           {
            "marker": {
             "colorbar": {
              "outlinewidth": 0,
              "ticks": ""
             }
            },
            "type": "scattergl"
           }
          ],
          "scattermapbox": [
           {
            "marker": {
             "colorbar": {
              "outlinewidth": 0,
              "ticks": ""
             }
            },
            "type": "scattermapbox"
           }
          ],
          "scatterpolar": [
           {
            "marker": {
             "colorbar": {
              "outlinewidth": 0,
              "ticks": ""
             }
            },
            "type": "scatterpolar"
           }
          ],
          "scatterpolargl": [
           {
            "marker": {
             "colorbar": {
              "outlinewidth": 0,
              "ticks": ""
             }
            },
            "type": "scatterpolargl"
           }
          ],
          "scatterternary": [
           {
            "marker": {
             "colorbar": {
              "outlinewidth": 0,
              "ticks": ""
             }
            },
            "type": "scatterternary"
           }
          ],
          "surface": [
           {
            "colorbar": {
             "outlinewidth": 0,
             "ticks": ""
            },
            "colorscale": [
             [
              0,
              "#0d0887"
             ],
             [
              0.1111111111111111,
              "#46039f"
             ],
             [
              0.2222222222222222,
              "#7201a8"
             ],
             [
              0.3333333333333333,
              "#9c179e"
             ],
             [
              0.4444444444444444,
              "#bd3786"
             ],
             [
              0.5555555555555556,
              "#d8576b"
             ],
             [
              0.6666666666666666,
              "#ed7953"
             ],
             [
              0.7777777777777778,
              "#fb9f3a"
             ],
             [
              0.8888888888888888,
              "#fdca26"
             ],
             [
              1,
              "#f0f921"
             ]
            ],
            "type": "surface"
           }
          ],
          "table": [
           {
            "cells": {
             "fill": {
              "color": "#EBF0F8"
             },
             "line": {
              "color": "white"
             }
            },
            "header": {
             "fill": {
              "color": "#C8D4E3"
             },
             "line": {
              "color": "white"
             }
            },
            "type": "table"
           }
          ]
         },
         "layout": {
          "annotationdefaults": {
           "arrowcolor": "#2a3f5f",
           "arrowhead": 0,
           "arrowwidth": 1
          },
          "colorscale": {
           "diverging": [
            [
             0,
             "#8e0152"
            ],
            [
             0.1,
             "#c51b7d"
            ],
            [
             0.2,
             "#de77ae"
            ],
            [
             0.3,
             "#f1b6da"
            ],
            [
             0.4,
             "#fde0ef"
            ],
            [
             0.5,
             "#f7f7f7"
            ],
            [
             0.6,
             "#e6f5d0"
            ],
            [
             0.7,
             "#b8e186"
            ],
            [
             0.8,
             "#7fbc41"
            ],
            [
             0.9,
             "#4d9221"
            ],
            [
             1,
             "#276419"
            ]
           ],
           "sequential": [
            [
             0,
             "#0d0887"
            ],
            [
             0.1111111111111111,
             "#46039f"
            ],
            [
             0.2222222222222222,
             "#7201a8"
            ],
            [
             0.3333333333333333,
             "#9c179e"
            ],
            [
             0.4444444444444444,
             "#bd3786"
            ],
            [
             0.5555555555555556,
             "#d8576b"
            ],
            [
             0.6666666666666666,
             "#ed7953"
            ],
            [
             0.7777777777777778,
             "#fb9f3a"
            ],
            [
             0.8888888888888888,
             "#fdca26"
            ],
            [
             1,
             "#f0f921"
            ]
           ],
           "sequentialminus": [
            [
             0,
             "#0d0887"
            ],
            [
             0.1111111111111111,
             "#46039f"
            ],
            [
             0.2222222222222222,
             "#7201a8"
            ],
            [
             0.3333333333333333,
             "#9c179e"
            ],
            [
             0.4444444444444444,
             "#bd3786"
            ],
            [
             0.5555555555555556,
             "#d8576b"
            ],
            [
             0.6666666666666666,
             "#ed7953"
            ],
            [
             0.7777777777777778,
             "#fb9f3a"
            ],
            [
             0.8888888888888888,
             "#fdca26"
            ],
            [
             1,
             "#f0f921"
            ]
           ]
          },
          "colorway": [
           "#636efa",
           "#EF553B",
           "#00cc96",
           "#ab63fa",
           "#FFA15A",
           "#19d3f3",
           "#FF6692",
           "#B6E880",
           "#FF97FF",
           "#FECB52"
          ],
          "font": {
           "color": "#2a3f5f"
          },
          "geo": {
           "bgcolor": "white",
           "lakecolor": "white",
           "landcolor": "#E5ECF6",
           "showlakes": true,
           "showland": true,
           "subunitcolor": "white"
          },
          "hoverlabel": {
           "align": "left"
          },
          "hovermode": "closest",
          "mapbox": {
           "style": "light"
          },
          "paper_bgcolor": "white",
          "plot_bgcolor": "#E5ECF6",
          "polar": {
           "angularaxis": {
            "gridcolor": "white",
            "linecolor": "white",
            "ticks": ""
           },
           "bgcolor": "#E5ECF6",
           "radialaxis": {
            "gridcolor": "white",
            "linecolor": "white",
            "ticks": ""
           }
          },
          "scene": {
           "xaxis": {
            "backgroundcolor": "#E5ECF6",
            "gridcolor": "white",
            "gridwidth": 2,
            "linecolor": "white",
            "showbackground": true,
            "ticks": "",
            "zerolinecolor": "white"
           },
           "yaxis": {
            "backgroundcolor": "#E5ECF6",
            "gridcolor": "white",
            "gridwidth": 2,
            "linecolor": "white",
            "showbackground": true,
            "ticks": "",
            "zerolinecolor": "white"
           },
           "zaxis": {
            "backgroundcolor": "#E5ECF6",
            "gridcolor": "white",
            "gridwidth": 2,
            "linecolor": "white",
            "showbackground": true,
            "ticks": "",
            "zerolinecolor": "white"
           }
          },
          "shapedefaults": {
           "line": {
            "color": "#2a3f5f"
           }
          },
          "ternary": {
           "aaxis": {
            "gridcolor": "white",
            "linecolor": "white",
            "ticks": ""
           },
           "baxis": {
            "gridcolor": "white",
            "linecolor": "white",
            "ticks": ""
           },
           "bgcolor": "#E5ECF6",
           "caxis": {
            "gridcolor": "white",
            "linecolor": "white",
            "ticks": ""
           }
          },
          "title": {
           "x": 0.05
          },
          "xaxis": {
           "automargin": true,
           "gridcolor": "white",
           "linecolor": "white",
           "ticks": "",
           "zerolinecolor": "white",
           "zerolinewidth": 2
          },
          "yaxis": {
           "automargin": true,
           "gridcolor": "white",
           "linecolor": "white",
           "ticks": "",
           "zerolinecolor": "white",
           "zerolinewidth": 2
          }
         }
        },
        "title": {
         "text": "July Movies: ROI vs Budget"
        },
        "width": 800,
        "xaxis": {
         "anchor": "y",
         "domain": [
          0,
          0.98
         ],
         "title": {
          "text": "Production Budget"
         }
        },
        "yaxis": {
         "anchor": "x",
         "domain": [
          0,
          1
         ],
         "title": {
          "text": "ROI ($)"
         }
        }
       }
      },
      "text/html": [
       "<div>\n",
       "        \n",
       "        \n",
       "            <div id=\"66b86347-2768-4f68-a893-7b4251d0bf94\" class=\"plotly-graph-div\" style=\"height:500px; width:800px;\"></div>\n",
       "            <script type=\"text/javascript\">\n",
       "                require([\"plotly\"], function(Plotly) {\n",
       "                    window.PLOTLYENV=window.PLOTLYENV || {};\n",
       "                    \n",
       "                if (document.getElementById(\"66b86347-2768-4f68-a893-7b4251d0bf94\")) {\n",
       "                    Plotly.newPlot(\n",
       "                        '66b86347-2768-4f68-a893-7b4251d0bf94',\n",
       "                        [{\"customdata\": [[\"A Ghost Story\"], [\"Lights Out\"], [\"Unfriended: Dark Web\"], [\"The Purge: Anarchy\"], [\"The Purge: Election Year\"], [\"Eighth Grade\"], [\"Boyhood\"], [\"Bad Moms\"], [\"Sorry to Bother You\"], [\"The First Purge\"], [\"The Secret Life of Pets\"], [\"Magic Mike XXL\"], [\"Minions\"], [\"Tammy\"], [\"Girls Trip\"], [\"An Inconvenient Sequel\"], [\"Lucy\"], [\"Trainwreck\"], [\"Earth to Echo\"], [\"Teen Titans Go! To The Movies\"], [\"Paper Towns\"], [\"Hillary\\u00e2\\u0080\\u0099s America: The Secret History of the Democratic Party\"], [\"Hotel Transylvania 3: Summer Vacation\"], [\"Nerve\"], [\"Spider-Man: Homecoming\"], [\"Vacation\"], [\"Southpaw\"], [\"The Emoji Movie\"], [\"Atomic Blonde\"], [\"Ant-Man and the Wasp\"], [\"Don\\u00e2\\u0080\\u0099t Think Twice\"], [\"Mike and Dave Need Wedding Dates\"], [\"Ant-Man\"], [\"Jason Bourne\"], [\"The Equalizer 2\"], [\"Mission: Impossible\\u00e2\\u0080\\u0094Rogue Nation\"], [\"Dunkirk\"], [\"Mission: Impossible\\u00e2\\u0080\\u0094Fallout\"], [\"Dawn of the Planet of the Apes\"], [\"Wish Upon\"], [\"Planes: Fire and Rescue\"], [\"A Most Wanted Man\"], [\"Deliver Us from Evil\"], [\"War for the Planet of the Apes\"], [\"Sex Tape\"], [\"Ghostbusters\"], [\"Pixels\"], [\"Star Trek Beyond\"], [\"And So It Goes\"], [\"Hercules\"], [\"The Legend of Tarzan\"], [\"Bajrangi Bhaijaan\"], [\"Ice Age: Collision Course\"], [\"Wish I Was Here\"], [\"Terminator: Genisys\"], [\"Skyscraper\"], [\"Sultan\"], [\"Self/Less\"], [\"Happy Christmas\"], [\"The BFG\"], [\"I Origins\"], [\"The Infiltrator\"], [\"Valerian and the City of a Thousand Planets\"], [\"Baahubali: The Beginning\"], [\"Counting\"], [\"The Vatican Tapes\"], [\"Dawn of the Crescent Moon\"], [\"Beyond the Brick: A LEGO Brickumentary\"], [\"As It Is in Heaven\"], [\"The Young and Prodigious T.S. Spivet\"], [\"Strangerland\"], [\"An American in Hollywood\"], [\"Tiger Orange\"], [\"Crawl\"], [\"Stung\"], [\"Mutual Friends\"], [\"The Dog Lover\"], [\"The Outrageous Sophie Tucker\"], [\"American Heist\"], [\"The Perfect Wave\"], [\"Teefa in Trouble\"], [\"Fight Valley\"]], \"hoverlabel\": {\"namelength\": 0}, \"hovertemplate\": \"production_budget=%{x}<br>domestic_roi=%{y}<br>movie=%{customdata[0]}\", \"legendgroup\": \"\", \"marker\": {\"color\": \"#636efa\", \"symbol\": \"circle\"}, \"mode\": \"markers\", \"name\": \"\", \"showlegend\": false, \"type\": \"scatter\", \"x\": [100000, 5000000, 1000000, 9000000, 10000000, 2000000, 4000000, 20000000, 3200000, 13000000, 75000000, 14500000, 74000000, 20000000, 28000000, 1000000, 40000000, 35000000, 13000000, 10000000, 12000000, 5000000, 65000000, 20000000, 175000000, 31000000, 30000000, 50000000, 30000000, 130000000, 3000000, 33000000, 130000000, 120000000, 77000000, 150000000, 150000000, 178000000, 170000000, 12000000, 50000000, 15000000, 30000000, 152000000, 40000000, 144000000, 90000000, 185000000, 18000000, 100000000, 180000000, 13000000, 105000000, 6000000, 155000000, 125000000, 11000000, 26000000, 70000, 140000000, 1000000, 47500000, 180000000, 40000000, 50000, 13000000, 75000, 1000000, 450000, 33000000, 10000000, 125000, 100000, 17000000, 2500000, 450000, 2000000, 500000, 10000000, 4000000, 1500000, 20000000], \"xaxis\": \"x\", \"y\": [15.94798, 13.453767, 8.866745, 7.951394444444444, 7.904244, 6.769855, 6.34499375, 5.66286485, 5.4665925, 5.345288076923077, 4.911791066666667, 4.552624620689655, 4.541159054054054, 4.2262716, 4.111018392857143, 3.496795, 3.164349, 3.1489342857142857, 2.994987846153846, 2.9790236, 2.666692, 2.6199862, 2.5769244923076924, 1.9291813, 1.9097208, 1.899489935483871, 1.7473984333333332, 1.72179026, 1.7191308333333333, 1.6665287692307693, 1.472661, 1.3942325151515151, 1.3861704846153846, 1.3516076666666668, 1.3257709350649352, 1.3002825133333333, 1.2671218666666666, 1.2368488988764046, 1.2267387588235295, 1.1917920833333333, 1.18315464, 1.1491903333333333, 1.0192374, 0.9663168552631579, 0.963586825, 0.8913234305555555, 0.8751776222222222, 0.8586396756756757, 0.8422667222222222, 0.72688614, 0.7035725611111111, 0.629077, 0.6101238857142857, 0.5985498333333333, 0.5791029419354838, 0.54736096, 0.509071, 0.47229580769230767, 0.43302857142857143, 0.39631264285714285, 0.336472, 0.3249854315789474, 0.2248853888888889, 0.16845, 0.16748, 0.13728946153846153, 0.11732, 0.101531, 0.02996888888888889, 0.005359, 0.0017472, 0.0, 0.0, 0.0, 0.0, 0.0, 0.0, 0.0, 0.0, 0.0, 0.0, 0.0], \"yaxis\": \"y\"}],\n",
       "                        {\"height\": 500, \"legend\": {\"tracegroupgap\": 0}, \"margin\": {\"t\": 60}, \"template\": {\"data\": {\"bar\": [{\"error_x\": {\"color\": \"#2a3f5f\"}, \"error_y\": {\"color\": \"#2a3f5f\"}, \"marker\": {\"line\": {\"color\": \"#E5ECF6\", \"width\": 0.5}}, \"type\": \"bar\"}], \"barpolar\": [{\"marker\": {\"line\": {\"color\": \"#E5ECF6\", \"width\": 0.5}}, \"type\": \"barpolar\"}], \"carpet\": [{\"aaxis\": {\"endlinecolor\": \"#2a3f5f\", \"gridcolor\": \"white\", \"linecolor\": \"white\", \"minorgridcolor\": \"white\", \"startlinecolor\": \"#2a3f5f\"}, \"baxis\": {\"endlinecolor\": \"#2a3f5f\", \"gridcolor\": \"white\", \"linecolor\": \"white\", \"minorgridcolor\": \"white\", \"startlinecolor\": \"#2a3f5f\"}, \"type\": \"carpet\"}], \"choropleth\": [{\"colorbar\": {\"outlinewidth\": 0, \"ticks\": \"\"}, \"type\": \"choropleth\"}], \"contour\": [{\"colorbar\": {\"outlinewidth\": 0, \"ticks\": \"\"}, \"colorscale\": [[0.0, \"#0d0887\"], [0.1111111111111111, \"#46039f\"], [0.2222222222222222, \"#7201a8\"], [0.3333333333333333, \"#9c179e\"], [0.4444444444444444, \"#bd3786\"], [0.5555555555555556, \"#d8576b\"], [0.6666666666666666, \"#ed7953\"], [0.7777777777777778, \"#fb9f3a\"], [0.8888888888888888, \"#fdca26\"], [1.0, \"#f0f921\"]], \"type\": \"contour\"}], \"contourcarpet\": [{\"colorbar\": {\"outlinewidth\": 0, \"ticks\": \"\"}, \"type\": \"contourcarpet\"}], \"heatmap\": [{\"colorbar\": {\"outlinewidth\": 0, \"ticks\": \"\"}, \"colorscale\": [[0.0, \"#0d0887\"], [0.1111111111111111, \"#46039f\"], [0.2222222222222222, \"#7201a8\"], [0.3333333333333333, \"#9c179e\"], [0.4444444444444444, \"#bd3786\"], [0.5555555555555556, \"#d8576b\"], [0.6666666666666666, \"#ed7953\"], [0.7777777777777778, \"#fb9f3a\"], [0.8888888888888888, \"#fdca26\"], [1.0, \"#f0f921\"]], \"type\": \"heatmap\"}], \"heatmapgl\": [{\"colorbar\": {\"outlinewidth\": 0, \"ticks\": \"\"}, \"colorscale\": [[0.0, \"#0d0887\"], [0.1111111111111111, \"#46039f\"], [0.2222222222222222, \"#7201a8\"], [0.3333333333333333, \"#9c179e\"], [0.4444444444444444, \"#bd3786\"], [0.5555555555555556, \"#d8576b\"], [0.6666666666666666, \"#ed7953\"], [0.7777777777777778, \"#fb9f3a\"], [0.8888888888888888, \"#fdca26\"], [1.0, \"#f0f921\"]], \"type\": \"heatmapgl\"}], \"histogram\": [{\"marker\": {\"colorbar\": {\"outlinewidth\": 0, \"ticks\": \"\"}}, \"type\": \"histogram\"}], \"histogram2d\": [{\"colorbar\": {\"outlinewidth\": 0, \"ticks\": \"\"}, \"colorscale\": [[0.0, \"#0d0887\"], [0.1111111111111111, \"#46039f\"], [0.2222222222222222, \"#7201a8\"], [0.3333333333333333, \"#9c179e\"], [0.4444444444444444, \"#bd3786\"], [0.5555555555555556, \"#d8576b\"], [0.6666666666666666, \"#ed7953\"], [0.7777777777777778, \"#fb9f3a\"], [0.8888888888888888, \"#fdca26\"], [1.0, \"#f0f921\"]], \"type\": \"histogram2d\"}], \"histogram2dcontour\": [{\"colorbar\": {\"outlinewidth\": 0, \"ticks\": \"\"}, \"colorscale\": [[0.0, \"#0d0887\"], [0.1111111111111111, \"#46039f\"], [0.2222222222222222, \"#7201a8\"], [0.3333333333333333, \"#9c179e\"], [0.4444444444444444, \"#bd3786\"], [0.5555555555555556, \"#d8576b\"], [0.6666666666666666, \"#ed7953\"], [0.7777777777777778, \"#fb9f3a\"], [0.8888888888888888, \"#fdca26\"], [1.0, \"#f0f921\"]], \"type\": \"histogram2dcontour\"}], \"mesh3d\": [{\"colorbar\": {\"outlinewidth\": 0, \"ticks\": \"\"}, \"type\": \"mesh3d\"}], \"parcoords\": [{\"line\": {\"colorbar\": {\"outlinewidth\": 0, \"ticks\": \"\"}}, \"type\": \"parcoords\"}], \"scatter\": [{\"marker\": {\"colorbar\": {\"outlinewidth\": 0, \"ticks\": \"\"}}, \"type\": \"scatter\"}], \"scatter3d\": [{\"line\": {\"colorbar\": {\"outlinewidth\": 0, \"ticks\": \"\"}}, \"marker\": {\"colorbar\": {\"outlinewidth\": 0, \"ticks\": \"\"}}, \"type\": \"scatter3d\"}], \"scattercarpet\": [{\"marker\": {\"colorbar\": {\"outlinewidth\": 0, \"ticks\": \"\"}}, \"type\": \"scattercarpet\"}], \"scattergeo\": [{\"marker\": {\"colorbar\": {\"outlinewidth\": 0, \"ticks\": \"\"}}, \"type\": \"scattergeo\"}], \"scattergl\": [{\"marker\": {\"colorbar\": {\"outlinewidth\": 0, \"ticks\": \"\"}}, \"type\": \"scattergl\"}], \"scattermapbox\": [{\"marker\": {\"colorbar\": {\"outlinewidth\": 0, \"ticks\": \"\"}}, \"type\": \"scattermapbox\"}], \"scatterpolar\": [{\"marker\": {\"colorbar\": {\"outlinewidth\": 0, \"ticks\": \"\"}}, \"type\": \"scatterpolar\"}], \"scatterpolargl\": [{\"marker\": {\"colorbar\": {\"outlinewidth\": 0, \"ticks\": \"\"}}, \"type\": \"scatterpolargl\"}], \"scatterternary\": [{\"marker\": {\"colorbar\": {\"outlinewidth\": 0, \"ticks\": \"\"}}, \"type\": \"scatterternary\"}], \"surface\": [{\"colorbar\": {\"outlinewidth\": 0, \"ticks\": \"\"}, \"colorscale\": [[0.0, \"#0d0887\"], [0.1111111111111111, \"#46039f\"], [0.2222222222222222, \"#7201a8\"], [0.3333333333333333, \"#9c179e\"], [0.4444444444444444, \"#bd3786\"], [0.5555555555555556, \"#d8576b\"], [0.6666666666666666, \"#ed7953\"], [0.7777777777777778, \"#fb9f3a\"], [0.8888888888888888, \"#fdca26\"], [1.0, \"#f0f921\"]], \"type\": \"surface\"}], \"table\": [{\"cells\": {\"fill\": {\"color\": \"#EBF0F8\"}, \"line\": {\"color\": \"white\"}}, \"header\": {\"fill\": {\"color\": \"#C8D4E3\"}, \"line\": {\"color\": \"white\"}}, \"type\": \"table\"}]}, \"layout\": {\"annotationdefaults\": {\"arrowcolor\": \"#2a3f5f\", \"arrowhead\": 0, \"arrowwidth\": 1}, \"colorscale\": {\"diverging\": [[0, \"#8e0152\"], [0.1, \"#c51b7d\"], [0.2, \"#de77ae\"], [0.3, \"#f1b6da\"], [0.4, \"#fde0ef\"], [0.5, \"#f7f7f7\"], [0.6, \"#e6f5d0\"], [0.7, \"#b8e186\"], [0.8, \"#7fbc41\"], [0.9, \"#4d9221\"], [1, \"#276419\"]], \"sequential\": [[0.0, \"#0d0887\"], [0.1111111111111111, \"#46039f\"], [0.2222222222222222, \"#7201a8\"], [0.3333333333333333, \"#9c179e\"], [0.4444444444444444, \"#bd3786\"], [0.5555555555555556, \"#d8576b\"], [0.6666666666666666, \"#ed7953\"], [0.7777777777777778, \"#fb9f3a\"], [0.8888888888888888, \"#fdca26\"], [1.0, \"#f0f921\"]], \"sequentialminus\": [[0.0, \"#0d0887\"], [0.1111111111111111, \"#46039f\"], [0.2222222222222222, \"#7201a8\"], [0.3333333333333333, \"#9c179e\"], [0.4444444444444444, \"#bd3786\"], [0.5555555555555556, \"#d8576b\"], [0.6666666666666666, \"#ed7953\"], [0.7777777777777778, \"#fb9f3a\"], [0.8888888888888888, \"#fdca26\"], [1.0, \"#f0f921\"]]}, \"colorway\": [\"#636efa\", \"#EF553B\", \"#00cc96\", \"#ab63fa\", \"#FFA15A\", \"#19d3f3\", \"#FF6692\", \"#B6E880\", \"#FF97FF\", \"#FECB52\"], \"font\": {\"color\": \"#2a3f5f\"}, \"geo\": {\"bgcolor\": \"white\", \"lakecolor\": \"white\", \"landcolor\": \"#E5ECF6\", \"showlakes\": true, \"showland\": true, \"subunitcolor\": \"white\"}, \"hoverlabel\": {\"align\": \"left\"}, \"hovermode\": \"closest\", \"mapbox\": {\"style\": \"light\"}, \"paper_bgcolor\": \"white\", \"plot_bgcolor\": \"#E5ECF6\", \"polar\": {\"angularaxis\": {\"gridcolor\": \"white\", \"linecolor\": \"white\", \"ticks\": \"\"}, \"bgcolor\": \"#E5ECF6\", \"radialaxis\": {\"gridcolor\": \"white\", \"linecolor\": \"white\", \"ticks\": \"\"}}, \"scene\": {\"xaxis\": {\"backgroundcolor\": \"#E5ECF6\", \"gridcolor\": \"white\", \"gridwidth\": 2, \"linecolor\": \"white\", \"showbackground\": true, \"ticks\": \"\", \"zerolinecolor\": \"white\"}, \"yaxis\": {\"backgroundcolor\": \"#E5ECF6\", \"gridcolor\": \"white\", \"gridwidth\": 2, \"linecolor\": \"white\", \"showbackground\": true, \"ticks\": \"\", \"zerolinecolor\": \"white\"}, \"zaxis\": {\"backgroundcolor\": \"#E5ECF6\", \"gridcolor\": \"white\", \"gridwidth\": 2, \"linecolor\": \"white\", \"showbackground\": true, \"ticks\": \"\", \"zerolinecolor\": \"white\"}}, \"shapedefaults\": {\"line\": {\"color\": \"#2a3f5f\"}}, \"ternary\": {\"aaxis\": {\"gridcolor\": \"white\", \"linecolor\": \"white\", \"ticks\": \"\"}, \"baxis\": {\"gridcolor\": \"white\", \"linecolor\": \"white\", \"ticks\": \"\"}, \"bgcolor\": \"#E5ECF6\", \"caxis\": {\"gridcolor\": \"white\", \"linecolor\": \"white\", \"ticks\": \"\"}}, \"title\": {\"x\": 0.05}, \"xaxis\": {\"automargin\": true, \"gridcolor\": \"white\", \"linecolor\": \"white\", \"ticks\": \"\", \"zerolinecolor\": \"white\", \"zerolinewidth\": 2}, \"yaxis\": {\"automargin\": true, \"gridcolor\": \"white\", \"linecolor\": \"white\", \"ticks\": \"\", \"zerolinecolor\": \"white\", \"zerolinewidth\": 2}}}, \"title\": {\"text\": \"July Movies: ROI vs Budget\"}, \"width\": 800, \"xaxis\": {\"anchor\": \"y\", \"domain\": [0.0, 0.98], \"title\": {\"text\": \"Production Budget\"}}, \"yaxis\": {\"anchor\": \"x\", \"domain\": [0.0, 1.0], \"title\": {\"text\": \"ROI ($)\"}}},\n",
       "                        {\"responsive\": true}\n",
       "                    ).then(function(){\n",
       "                            \n",
       "var gd = document.getElementById('66b86347-2768-4f68-a893-7b4251d0bf94');\n",
       "var x = new MutationObserver(function (mutations, observer) {{\n",
       "        var display = window.getComputedStyle(gd).display;\n",
       "        if (!display || display === 'none') {{\n",
       "            console.log([gd, 'removed!']);\n",
       "            Plotly.purge(gd);\n",
       "            observer.disconnect();\n",
       "        }}\n",
       "}});\n",
       "\n",
       "// Listen for the removal of the full notebook cells\n",
       "var notebookContainer = gd.closest('#notebook-container');\n",
       "if (notebookContainer) {{\n",
       "    x.observe(notebookContainer, {childList: true});\n",
       "}}\n",
       "\n",
       "// Listen for the clearing of the current output cell\n",
       "var outputEl = gd.closest('.output');\n",
       "if (outputEl) {{\n",
       "    x.observe(outputEl, {childList: true});\n",
       "}}\n",
       "\n",
       "                        })\n",
       "                };\n",
       "                });\n",
       "            </script>\n",
       "        </div>"
      ]
     },
     "metadata": {},
     "output_type": "display_data"
    }
   ],
   "source": [
    "df_good_years = df_budgets[(df_budgets['release_year'] == 2017) | (df_budgets['release_year'] == 2018)]\n",
    "fig2 = px.scatter(df_good_years, x='production_budget', y='domestic_roi', hover_data=['movie'], width=800, height=600)\n",
    "fig2.update_layout(title='2017-2018 Movies',\n",
    "    xaxis_title='Production Budget',\n",
    "    yaxis_title='ROI ($)')\n",
    "\n",
    "fig.show()"
   ]
  },
  {
   "cell_type": "markdown",
   "metadata": {},
   "source": [
    "So, similarly we get a diverse range of titles with most production budgets falling below $50k.\n",
    "\n",
    "What if we took a different angle and didn't worry about budgets, but instead looked at what movies grosed the highest?"
   ]
  },
  {
   "cell_type": "code",
   "execution_count": 39,
   "metadata": {},
   "outputs": [
    {
     "data": {
      "text/html": [
       "<div>\n",
       "<style scoped>\n",
       "    .dataframe tbody tr th:only-of-type {\n",
       "        vertical-align: middle;\n",
       "    }\n",
       "\n",
       "    .dataframe tbody tr th {\n",
       "        vertical-align: top;\n",
       "    }\n",
       "\n",
       "    .dataframe thead th {\n",
       "        text-align: right;\n",
       "    }\n",
       "</style>\n",
       "<table border=\"1\" class=\"dataframe\">\n",
       "  <thead>\n",
       "    <tr style=\"text-align: right;\">\n",
       "      <th></th>\n",
       "      <th>id</th>\n",
       "      <th>release_date</th>\n",
       "      <th>movie</th>\n",
       "      <th>production_budget</th>\n",
       "      <th>domestic_gross</th>\n",
       "      <th>worldwide_gross</th>\n",
       "      <th>release_year</th>\n",
       "      <th>release_month</th>\n",
       "      <th>domestic_roi</th>\n",
       "    </tr>\n",
       "  </thead>\n",
       "  <tbody>\n",
       "    <tr>\n",
       "      <th>5</th>\n",
       "      <td>6</td>\n",
       "      <td>2015-12-18</td>\n",
       "      <td>Star Wars Ep. VII: The Force Awakens</td>\n",
       "      <td>306000000</td>\n",
       "      <td>936662225</td>\n",
       "      <td>2053311220</td>\n",
       "      <td>2015</td>\n",
       "      <td>12</td>\n",
       "      <td>3.060988</td>\n",
       "    </tr>\n",
       "    <tr>\n",
       "      <th>41</th>\n",
       "      <td>42</td>\n",
       "      <td>2018-02-16</td>\n",
       "      <td>Black Panther</td>\n",
       "      <td>200000000</td>\n",
       "      <td>700059566</td>\n",
       "      <td>1348258224</td>\n",
       "      <td>2018</td>\n",
       "      <td>2</td>\n",
       "      <td>3.500298</td>\n",
       "    </tr>\n",
       "    <tr>\n",
       "      <th>6</th>\n",
       "      <td>7</td>\n",
       "      <td>2018-04-27</td>\n",
       "      <td>Avengers: Infinity War</td>\n",
       "      <td>300000000</td>\n",
       "      <td>678815482</td>\n",
       "      <td>2048134200</td>\n",
       "      <td>2018</td>\n",
       "      <td>4</td>\n",
       "      <td>2.262718</td>\n",
       "    </tr>\n",
       "    <tr>\n",
       "      <th>33</th>\n",
       "      <td>34</td>\n",
       "      <td>2015-06-12</td>\n",
       "      <td>Jurassic World</td>\n",
       "      <td>215000000</td>\n",
       "      <td>652270625</td>\n",
       "      <td>1648854864</td>\n",
       "      <td>2015</td>\n",
       "      <td>6</td>\n",
       "      <td>3.033817</td>\n",
       "    </tr>\n",
       "    <tr>\n",
       "      <th>4</th>\n",
       "      <td>5</td>\n",
       "      <td>2017-12-15</td>\n",
       "      <td>Star Wars Ep. VIII: The Last Jedi</td>\n",
       "      <td>317000000</td>\n",
       "      <td>620181382</td>\n",
       "      <td>1316721747</td>\n",
       "      <td>2017</td>\n",
       "      <td>12</td>\n",
       "      <td>1.956408</td>\n",
       "    </tr>\n",
       "    <tr>\n",
       "      <th>43</th>\n",
       "      <td>44</td>\n",
       "      <td>2018-06-15</td>\n",
       "      <td>Incredibles 2</td>\n",
       "      <td>200000000</td>\n",
       "      <td>608581744</td>\n",
       "      <td>1242520711</td>\n",
       "      <td>2018</td>\n",
       "      <td>6</td>\n",
       "      <td>3.042909</td>\n",
       "    </tr>\n",
       "    <tr>\n",
       "      <th>44</th>\n",
       "      <td>45</td>\n",
       "      <td>2016-12-16</td>\n",
       "      <td>Rogue One: A Star Wars Story</td>\n",
       "      <td>200000000</td>\n",
       "      <td>532177324</td>\n",
       "      <td>1049102856</td>\n",
       "      <td>2016</td>\n",
       "      <td>12</td>\n",
       "      <td>2.660887</td>\n",
       "    </tr>\n",
       "    <tr>\n",
       "      <th>134</th>\n",
       "      <td>35</td>\n",
       "      <td>2017-03-17</td>\n",
       "      <td>Beauty and the Beast</td>\n",
       "      <td>160000000</td>\n",
       "      <td>504014165</td>\n",
       "      <td>1259199706</td>\n",
       "      <td>2017</td>\n",
       "      <td>3</td>\n",
       "      <td>3.150089</td>\n",
       "    </tr>\n",
       "    <tr>\n",
       "      <th>45</th>\n",
       "      <td>46</td>\n",
       "      <td>2016-06-17</td>\n",
       "      <td>Finding Dory</td>\n",
       "      <td>200000000</td>\n",
       "      <td>486295561</td>\n",
       "      <td>1021215193</td>\n",
       "      <td>2016</td>\n",
       "      <td>6</td>\n",
       "      <td>2.431478</td>\n",
       "    </tr>\n",
       "    <tr>\n",
       "      <th>3</th>\n",
       "      <td>4</td>\n",
       "      <td>2015-05-01</td>\n",
       "      <td>Avengers: Age of Ultron</td>\n",
       "      <td>330600000</td>\n",
       "      <td>459005868</td>\n",
       "      <td>1403013963</td>\n",
       "      <td>2015</td>\n",
       "      <td>5</td>\n",
       "      <td>1.388403</td>\n",
       "    </tr>\n",
       "  </tbody>\n",
       "</table>\n",
       "</div>"
      ],
      "text/plain": [
       "     id release_date                                 movie  production_budget  \\\n",
       "5     6   2015-12-18  Star Wars Ep. VII: The Force Awakens          306000000   \n",
       "41   42   2018-02-16                         Black Panther          200000000   \n",
       "6     7   2018-04-27                Avengers: Infinity War          300000000   \n",
       "33   34   2015-06-12                        Jurassic World          215000000   \n",
       "4     5   2017-12-15     Star Wars Ep. VIII: The Last Jedi          317000000   \n",
       "43   44   2018-06-15                         Incredibles 2          200000000   \n",
       "44   45   2016-12-16          Rogue One: A Star Wars Story          200000000   \n",
       "134  35   2017-03-17                  Beauty and the Beast          160000000   \n",
       "45   46   2016-06-17                          Finding Dory          200000000   \n",
       "3     4   2015-05-01               Avengers: Age of Ultron          330600000   \n",
       "\n",
       "     domestic_gross  worldwide_gross  release_year  release_month  \\\n",
       "5         936662225       2053311220          2015             12   \n",
       "41        700059566       1348258224          2018              2   \n",
       "6         678815482       2048134200          2018              4   \n",
       "33        652270625       1648854864          2015              6   \n",
       "4         620181382       1316721747          2017             12   \n",
       "43        608581744       1242520711          2018              6   \n",
       "44        532177324       1049102856          2016             12   \n",
       "134       504014165       1259199706          2017              3   \n",
       "45        486295561       1021215193          2016              6   \n",
       "3         459005868       1403013963          2015              5   \n",
       "\n",
       "     domestic_roi  \n",
       "5        3.060988  \n",
       "41       3.500298  \n",
       "6        2.262718  \n",
       "33       3.033817  \n",
       "4        1.956408  \n",
       "43       3.042909  \n",
       "44       2.660887  \n",
       "134      3.150089  \n",
       "45       2.431478  \n",
       "3        1.388403  "
      ]
     },
     "execution_count": 39,
     "metadata": {},
     "output_type": "execute_result"
    }
   ],
   "source": [
    "df_budgets.sort_values(['domestic_gross'], ascending = False).head(10)"
   ]
  },
  {
   "cell_type": "markdown",
   "metadata": {},
   "source": [
    "These movies all are all pretty major franchises, and in many cases, remakes or sequels. Unless we want to purchase or start a major movie franchise on our first try, let's use 'July Movies' as our goal.\n",
    "\n",
    "So to recap the recommendations from this data analysis, which answers success metric #1: \n",
    "\n",
    "__1. Release a movie in July for the biggest return on investment__\n",
    "\n",
    "__2. Start with a budget below $50MM since most July movies with high returns fell at or below this.__\n",
    "\n",
    "Great, let's move on to #2 and #3, and start working on the ratings data."
   ]
  },
  {
   "cell_type": "code",
   "execution_count": null,
   "metadata": {},
   "outputs": [],
   "source": []
  },
  {
   "cell_type": "code",
   "execution_count": null,
   "metadata": {},
   "outputs": [],
   "source": []
  },
  {
   "cell_type": "code",
   "execution_count": null,
   "metadata": {},
   "outputs": [],
   "source": []
  },
  {
   "cell_type": "code",
   "execution_count": null,
   "metadata": {},
   "outputs": [],
   "source": []
  },
  {
   "cell_type": "code",
   "execution_count": null,
   "metadata": {},
   "outputs": [],
   "source": []
  }
 ],
 "metadata": {
  "kernelspec": {
   "display_name": "learn-env",
   "language": "python",
   "name": "learn-env"
  },
  "language_info": {
   "codemirror_mode": {
    "name": "ipython",
    "version": 3
   },
   "file_extension": ".py",
   "mimetype": "text/x-python",
   "name": "python",
   "nbconvert_exporter": "python",
   "pygments_lexer": "ipython3",
   "version": "3.6.9"
  }
 },
 "nbformat": 4,
 "nbformat_minor": 4
}
