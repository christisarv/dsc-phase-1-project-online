{
 "cells": [
  {
   "cell_type": "markdown",
   "metadata": {},
   "source": [
    "### Overview\n",
    "\n",
    "This project uses several sources related to movie releases and performance to define and analyze what makes a successful movie. It will display results that can be used in decision making for a movie studio creation venture for Microsoft.\n",
    "\n",
    "### Data Sets and Parameters\n",
    "\n",
    "For this analysis, I've chosen to use the 'The Numbers' data set to analyze budgets since it includes a fuller picture than some of the other options. For a qualitative look, I'll use IMDB to look at user reviews and Rotten Tomatoes to look at critic reviews.\n",
    "\n",
    "These data sets use very different categorization & scoring methods, and have different data points. Therefore my methodology to analyze each will be unique, and I will treat them as separate sources. \n",
    "\n",
    "A quick note on some parameters: \n",
    "1. I will be looking at US data only to get a consistent picture of Microsoft's home market as a starting off point \n",
    "2. I'll be cleaning out older movies - since the movie industry & video consumption is changing so rapidly, I want to examine only the most recent data"
   ]
  },
  {
   "cell_type": "code",
   "execution_count": 1,
   "metadata": {},
   "outputs": [],
   "source": [
    "# First I am going to import all necessary libraries and data files\n",
    "import pandas as pd\n",
    "import numpy as np\n",
    "import matplotlib.pyplot as plt\n",
    "%matplotlib inline\n",
    "import seaborn as sns\n",
    "import warnings\n",
    "warnings.filterwarnings('ignore')"
   ]
  },
  {
   "cell_type": "code",
   "execution_count": 2,
   "metadata": {},
   "outputs": [],
   "source": [
    "#import budgets data\n",
    "df_budgets = pd.read_csv('zippedData/tn.movie_budgets.csv.gz', compression='gzip')\n",
    "\n",
    "#import imdb data\n",
    "df_imdb_basics = pd.read_csv('zippedData/imdb.title.basics.csv.gz', compression='gzip')\n",
    "df_imdb_ratings = pd.read_csv('zippedData/imdb.title.ratings.csv.gz', compression='gzip')\n",
    "df_imdb_akas = pd.read_csv('zippedData/imdb.title.akas.csv.gz', compression='gzip')\n",
    "\n",
    "#import rotten tomatoes data\n",
    "df_rt_info = pd.read_csv('zippedData/rt.movie_info.tsv.gz', sep='\\t', compression='gzip')\n",
    "df_rt_rev = pd.read_csv('zippedData/rt.reviews.tsv.gz', sep='\\t', compression='gzip', encoding='iso-8859-1')"
   ]
  },
  {
   "cell_type": "markdown",
   "metadata": {},
   "source": [
    "### Measures of Success \n",
    "\n",
    "So before I dive in, I'll outline my metrics for a successful movie:\n",
    "\n",
    "1. __Positive return on investment:__ Because ultimately, a successful business venture makes money. \n",
    "\n",
    "2. __High user ratings:__ We want people to like the movie! This will (hopefully) help generate word-of-mouth promotion and social media chat to spread positive opinion. \n",
    "\n",
    "3. __High critical ratings:__ Strong critical reviews mean positive press, which will capture media attention. Having clout in the industry as well can mean getting put up for awards, which can be a great set up to draw in better talent to future films, and better funding from potential investors"
   ]
  },
  {
   "cell_type": "markdown",
   "metadata": {},
   "source": [
    "First, I'll be looking at the movie budgets data. I want to see if I can get a sense of movies with highest return on investment. \n",
    "\n",
    "To do this, I need to convert the budget columns into integers and then add a column calculating return on investment. I am also going to clean out older movies, and add year and month columns so I can further analyze the data."
   ]
  },
  {
   "cell_type": "code",
   "execution_count": 3,
   "metadata": {},
   "outputs": [],
   "source": [
    "#convert to date time and add columns for month and year\n",
    "df_budgets['release_date'] = pd.to_datetime(df_budgets['release_date'])\n",
    "df_budgets['release_year'] = df_budgets['release_date'].dt.year\n",
    "df_budgets['release_month'] = df_budgets['release_date'].dt.month\n",
    "#clean out old movies\n",
    "df_budgets = df_budgets[(df_budgets['release_year'] >= 2014)]"
   ]
  },
  {
   "cell_type": "code",
   "execution_count": 4,
   "metadata": {},
   "outputs": [],
   "source": [
    "#make $$ columns into integers\n",
    "df_budgets['production_budget'] = df_budgets['production_budget'].map(lambda price: int(price.replace(\"$\", \"\").replace(\",\", \"\")))\n",
    "df_budgets['domestic_gross'] = df_budgets['domestic_gross'].map(lambda price: int(price.replace(\"$\", \"\").replace(\",\", \"\")))\n",
    "df_budgets['worldwide_gross'] = df_budgets['worldwide_gross'].map(lambda price: int(price.replace(\"$\", \"\").replace(\",\", \"\")))\n",
    "#calculate ROI column\n",
    "df_budgets['domestic_roi'] = df_budgets['domestic_gross'] / df_budgets['production_budget']"
   ]
  },
  {
   "cell_type": "markdown",
   "metadata": {},
   "source": [
    "I'm going to examine ROI using the variables I have in this data set, which are release date-related. I'll create dataframes to look at ROI by month and year and plot the results. "
   ]
  },
  {
   "cell_type": "code",
   "execution_count": 5,
   "metadata": {},
   "outputs": [
    {
     "data": {
      "text/html": [
       "<div>\n",
       "<style scoped>\n",
       "    .dataframe tbody tr th:only-of-type {\n",
       "        vertical-align: middle;\n",
       "    }\n",
       "\n",
       "    .dataframe tbody tr th {\n",
       "        vertical-align: top;\n",
       "    }\n",
       "\n",
       "    .dataframe thead th {\n",
       "        text-align: right;\n",
       "    }\n",
       "</style>\n",
       "<table border=\"1\" class=\"dataframe\">\n",
       "  <thead>\n",
       "    <tr style=\"text-align: right;\">\n",
       "      <th></th>\n",
       "      <th>release_year</th>\n",
       "      <th>domestic_roi</th>\n",
       "    </tr>\n",
       "  </thead>\n",
       "  <tbody>\n",
       "    <tr>\n",
       "      <th>0</th>\n",
       "      <td>2014</td>\n",
       "      <td>1.432386</td>\n",
       "    </tr>\n",
       "    <tr>\n",
       "      <th>1</th>\n",
       "      <td>2015</td>\n",
       "      <td>1.653406</td>\n",
       "    </tr>\n",
       "    <tr>\n",
       "      <th>2</th>\n",
       "      <td>2016</td>\n",
       "      <td>1.599537</td>\n",
       "    </tr>\n",
       "    <tr>\n",
       "      <th>3</th>\n",
       "      <td>2017</td>\n",
       "      <td>1.980350</td>\n",
       "    </tr>\n",
       "    <tr>\n",
       "      <th>4</th>\n",
       "      <td>2018</td>\n",
       "      <td>2.077434</td>\n",
       "    </tr>\n",
       "    <tr>\n",
       "      <th>5</th>\n",
       "      <td>2019</td>\n",
       "      <td>1.224815</td>\n",
       "    </tr>\n",
       "  </tbody>\n",
       "</table>\n",
       "</div>"
      ],
      "text/plain": [
       "   release_year  domestic_roi\n",
       "0          2014      1.432386\n",
       "1          2015      1.653406\n",
       "2          2016      1.599537\n",
       "3          2017      1.980350\n",
       "4          2018      2.077434\n",
       "5          2019      1.224815"
      ]
     },
     "execution_count": 5,
     "metadata": {},
     "output_type": "execute_result"
    }
   ],
   "source": [
    "df_budgets.sort_values(['domestic_roi'], ascending = False)\n",
    "df_roi = df_budgets.groupby(['release_year'])['domestic_roi'].mean()\n",
    "df_roi = df_roi.reset_index()\n",
    "# 2020 has no budget data in this set\n",
    "df_roi = df_roi.drop(index = 6)\n",
    "df_roi"
   ]
  },
  {
   "cell_type": "code",
   "execution_count": 67,
   "metadata": {
    "scrolled": true
   },
   "outputs": [
    {
     "data": {
      "text/html": [
       "<div>\n",
       "<style scoped>\n",
       "    .dataframe tbody tr th:only-of-type {\n",
       "        vertical-align: middle;\n",
       "    }\n",
       "\n",
       "    .dataframe tbody tr th {\n",
       "        vertical-align: top;\n",
       "    }\n",
       "\n",
       "    .dataframe thead th {\n",
       "        text-align: right;\n",
       "    }\n",
       "</style>\n",
       "<table border=\"1\" class=\"dataframe\">\n",
       "  <thead>\n",
       "    <tr style=\"text-align: right;\">\n",
       "      <th></th>\n",
       "      <th>release_month</th>\n",
       "      <th>domestic_roi</th>\n",
       "    </tr>\n",
       "  </thead>\n",
       "  <tbody>\n",
       "    <tr>\n",
       "      <th>0</th>\n",
       "      <td>1</td>\n",
       "      <td>1.620346</td>\n",
       "    </tr>\n",
       "    <tr>\n",
       "      <th>1</th>\n",
       "      <td>2</td>\n",
       "      <td>1.628038</td>\n",
       "    </tr>\n",
       "    <tr>\n",
       "      <th>2</th>\n",
       "      <td>3</td>\n",
       "      <td>1.932508</td>\n",
       "    </tr>\n",
       "    <tr>\n",
       "      <th>3</th>\n",
       "      <td>4</td>\n",
       "      <td>1.876318</td>\n",
       "    </tr>\n",
       "    <tr>\n",
       "      <th>4</th>\n",
       "      <td>5</td>\n",
       "      <td>1.389633</td>\n",
       "    </tr>\n",
       "    <tr>\n",
       "      <th>5</th>\n",
       "      <td>6</td>\n",
       "      <td>1.424333</td>\n",
       "    </tr>\n",
       "    <tr>\n",
       "      <th>6</th>\n",
       "      <td>7</td>\n",
       "      <td>4.815236</td>\n",
       "    </tr>\n",
       "    <tr>\n",
       "      <th>7</th>\n",
       "      <td>8</td>\n",
       "      <td>1.648232</td>\n",
       "    </tr>\n",
       "    <tr>\n",
       "      <th>8</th>\n",
       "      <td>9</td>\n",
       "      <td>1.030946</td>\n",
       "    </tr>\n",
       "    <tr>\n",
       "      <th>9</th>\n",
       "      <td>10</td>\n",
       "      <td>1.628045</td>\n",
       "    </tr>\n",
       "    <tr>\n",
       "      <th>10</th>\n",
       "      <td>11</td>\n",
       "      <td>1.230309</td>\n",
       "    </tr>\n",
       "    <tr>\n",
       "      <th>11</th>\n",
       "      <td>12</td>\n",
       "      <td>0.749591</td>\n",
       "    </tr>\n",
       "  </tbody>\n",
       "</table>\n",
       "</div>"
      ],
      "text/plain": [
       "    release_month  domestic_roi\n",
       "0               1      1.620346\n",
       "1               2      1.628038\n",
       "2               3      1.932508\n",
       "3               4      1.876318\n",
       "4               5      1.389633\n",
       "5               6      1.424333\n",
       "6               7      4.815236\n",
       "7               8      1.648232\n",
       "8               9      1.030946\n",
       "9              10      1.628045\n",
       "10             11      1.230309\n",
       "11             12      0.749591"
      ]
     },
     "execution_count": 67,
     "metadata": {},
     "output_type": "execute_result"
    }
   ],
   "source": [
    "#creating a separate table for months\n",
    "df_roi_mo = df_budgets.groupby(['release_month'])['domestic_roi'].mean()\n",
    "df_roi_mo = df_roi_mo.reset_index()\n",
    "df_roi_mo"
   ]
  },
  {
   "cell_type": "code",
   "execution_count": 70,
   "metadata": {},
   "outputs": [
    {
     "data": {
      "text/plain": [
       "{1: 'Jan',\n",
       " 2: 'Feb',\n",
       " 3: 'Mar',\n",
       " 4: 'Apr',\n",
       " 5: 'May',\n",
       " 6: 'Jun',\n",
       " 7: 'Jul',\n",
       " 8: 'Aug',\n",
       " 9: 'Sep',\n",
       " 10: 'Oct',\n",
       " 11: 'Nov',\n",
       " 12: 'Dec'}"
      ]
     },
     "execution_count": 70,
     "metadata": {},
     "output_type": "execute_result"
    }
   ],
   "source": [
    "month_names = ['Jan', 'Feb', 'Mar', 'Apr', 'May', 'Jun', 'Jul', 'Aug', 'Sep', 'Oct', 'Nov', 'Dec']\n",
    "month_nums = list(df_roi_mo['release_month'])\n",
    "months_dict = dict(zip(month_nums, month_names))\n",
    "months_dict\n"
   ]
  },
  {
   "cell_type": "code",
   "execution_count": 72,
   "metadata": {},
   "outputs": [],
   "source": [
    "df_roi_mo['release_month'] = df_roi_mo['release_month'].map(months_dict)"
   ]
  },
  {
   "cell_type": "code",
   "execution_count": 73,
   "metadata": {},
   "outputs": [
    {
     "data": {
      "text/html": [
       "<div>\n",
       "<style scoped>\n",
       "    .dataframe tbody tr th:only-of-type {\n",
       "        vertical-align: middle;\n",
       "    }\n",
       "\n",
       "    .dataframe tbody tr th {\n",
       "        vertical-align: top;\n",
       "    }\n",
       "\n",
       "    .dataframe thead th {\n",
       "        text-align: right;\n",
       "    }\n",
       "</style>\n",
       "<table border=\"1\" class=\"dataframe\">\n",
       "  <thead>\n",
       "    <tr style=\"text-align: right;\">\n",
       "      <th></th>\n",
       "      <th>release_month</th>\n",
       "      <th>domestic_roi</th>\n",
       "    </tr>\n",
       "  </thead>\n",
       "  <tbody>\n",
       "    <tr>\n",
       "      <th>0</th>\n",
       "      <td>Jan</td>\n",
       "      <td>1.620346</td>\n",
       "    </tr>\n",
       "    <tr>\n",
       "      <th>1</th>\n",
       "      <td>Feb</td>\n",
       "      <td>1.628038</td>\n",
       "    </tr>\n",
       "    <tr>\n",
       "      <th>2</th>\n",
       "      <td>Mar</td>\n",
       "      <td>1.932508</td>\n",
       "    </tr>\n",
       "    <tr>\n",
       "      <th>3</th>\n",
       "      <td>Apr</td>\n",
       "      <td>1.876318</td>\n",
       "    </tr>\n",
       "    <tr>\n",
       "      <th>4</th>\n",
       "      <td>May</td>\n",
       "      <td>1.389633</td>\n",
       "    </tr>\n",
       "    <tr>\n",
       "      <th>5</th>\n",
       "      <td>Jun</td>\n",
       "      <td>1.424333</td>\n",
       "    </tr>\n",
       "    <tr>\n",
       "      <th>6</th>\n",
       "      <td>Jul</td>\n",
       "      <td>4.815236</td>\n",
       "    </tr>\n",
       "    <tr>\n",
       "      <th>7</th>\n",
       "      <td>Aug</td>\n",
       "      <td>1.648232</td>\n",
       "    </tr>\n",
       "    <tr>\n",
       "      <th>8</th>\n",
       "      <td>Sep</td>\n",
       "      <td>1.030946</td>\n",
       "    </tr>\n",
       "    <tr>\n",
       "      <th>9</th>\n",
       "      <td>Oct</td>\n",
       "      <td>1.628045</td>\n",
       "    </tr>\n",
       "    <tr>\n",
       "      <th>10</th>\n",
       "      <td>Nov</td>\n",
       "      <td>1.230309</td>\n",
       "    </tr>\n",
       "    <tr>\n",
       "      <th>11</th>\n",
       "      <td>Dec</td>\n",
       "      <td>0.749591</td>\n",
       "    </tr>\n",
       "  </tbody>\n",
       "</table>\n",
       "</div>"
      ],
      "text/plain": [
       "   release_month  domestic_roi\n",
       "0            Jan      1.620346\n",
       "1            Feb      1.628038\n",
       "2            Mar      1.932508\n",
       "3            Apr      1.876318\n",
       "4            May      1.389633\n",
       "5            Jun      1.424333\n",
       "6            Jul      4.815236\n",
       "7            Aug      1.648232\n",
       "8            Sep      1.030946\n",
       "9            Oct      1.628045\n",
       "10           Nov      1.230309\n",
       "11           Dec      0.749591"
      ]
     },
     "execution_count": 73,
     "metadata": {},
     "output_type": "execute_result"
    }
   ],
   "source": [
    "df_roi_mo"
   ]
  },
  {
   "cell_type": "code",
   "execution_count": 74,
   "metadata": {},
   "outputs": [
    {
     "name": "stdout",
     "output_type": "stream",
     "text": [
      "AxesSubplot(0.125,0.125;0.352273x0.755)\n"
     ]
    },
    {
     "data": {
      "image/png": "[encoded data removed]",
      "text/plain": [
       "<Figure size 1440x720 with 2 Axes>"
      ]
     },
     "metadata": {
      "needs_background": "light"
     },
     "output_type": "display_data"
    }
   ],
   "source": [
    "import matplotlib.ticker as ticker\n",
    "\n",
    "plt.figure(figsize=(20, 10))\n",
    "ax1 = plt.subplot(1, 2, 1)\n",
    "df_roi.plot(x='release_year', y='domestic_roi', ax=ax1, kind = 'bar', legend = False, color = '#AD7EF2')\n",
    "ax1.set_title('ROI by Year')\n",
    "ax1.set_xlabel('Release Year')\n",
    "ax1.set_ylabel('ROI ($)')\n",
    "\n",
    "ax2 = plt.subplot(1,2,2)\n",
    "df_roi_mo.plot(x='release_month', y='domestic_roi', ax=ax2, kind = 'bar', legend = False, color = '#E17EF2')\n",
    "ax2.set_title('ROI by Month (all years)')\n",
    "ax2.set_xlabel('Release Month')\n",
    "ax2.set_ylabel('ROI ($)')\n",
    "ax1.yaxis.set_major_formatter(ticker.StrMethodFormatter('${x:,.2f}'))\n",
    "ax2.yaxis.set_major_formatter(ticker.StrMethodFormatter('${x:,.2f}'))\n",
    "\n",
    "print(ax1)\n",
    "\n",
    "plt.savefig('Images/ROI_bars')"
   ]
  },
  {
   "cell_type": "markdown",
   "metadata": {},
   "source": [
    "So it looks like July is a definite winner - likely because there are often big summer releases, but also because more people are off work/school. Let's aim for our first movie to come out in July. \n",
    "\n",
    "More nuanced is that 2017 and 2018 were good years for the industry. Let's take a look at some July movies first to see if we get a sense of any trends, then some top 2017-2018 releases."
   ]
  },
  {
   "cell_type": "code",
   "execution_count": 12,
   "metadata": {},
   "outputs": [],
   "source": [
    "df_july_movies = df_budgets[df_budgets['release_month'] == 7].sort_values(['domestic_roi'], ascending = False)\n",
    "# the highest movie on this list, 'The Gallows', is a major outlier with a low production budget and a ~$500 ROI so I am dropping it\n",
    "df_july_movies = df_july_movies.drop([5679])"
   ]
  },
  {
   "cell_type": "code",
   "execution_count": 54,
   "metadata": {},
   "outputs": [
    {
     "data": {
      "application/vnd.plotly.v1+json": {
       "config": {
        "plotlyServerURL": "https://plot.ly"
       },
       "data": [
        {
         "customdata": [
          [
           "A Ghost Story"
          ],
          [
           "Lights Out"
          ],
          [
           "Unfriended: Dark Web"
          ],
          [
           "The Purge: Anarchy"
          ],
          [
           "The Purge: Election Year"
          ],
          [
           "Eighth Grade"
          ],
          [
           "Boyhood"
          ],
          [
           "Bad Moms"
          ],
          [
           "Sorry to Bother You"
          ],
          [
           "The First Purge"
          ],
          [
           "The Secret Life of Pets"
          ],
          [
           "Magic Mike XXL"
          ],
          [
           "Minions"
          ],
          [
           "Tammy"
          ],
          [
           "Girls Trip"
          ],
          [
           "An Inconvenient Sequel"
          ],
          [
           "Lucy"
          ],
          [
           "Trainwreck"
          ],
          [
           "Earth to Echo"
          ],
          [
           "Teen Titans Go! To The Movies"
          ],
          [
           "Paper Towns"
          ],
          [
           "Hillaryâs America: The Secret History of the Democratic Party"
          ],
          [
           "Hotel Transylvania 3: Summer Vacation"
          ],
          [
           "Nerve"
          ],
          [
           "Spider-Man: Homecoming"
          ],
          [
           "Vacation"
          ],
          [
           "Southpaw"
          ],
          [
           "The Emoji Movie"
          ],
          [
           "Atomic Blonde"
          ],
          [
           "Ant-Man and the Wasp"
          ],
          [
           "Donât Think Twice"
          ],
          [
           "Mike and Dave Need Wedding Dates"
          ],
          [
           "Ant-Man"
          ],
          [
           "Jason Bourne"
          ],
          [
           "The Equalizer 2"
          ],
          [
           "Mission: ImpossibleâRogue Nation"
          ],
          [
           "Dunkirk"
          ],
          [
           "Mission: ImpossibleâFallout"
          ],
          [
           "Dawn of the Planet of the Apes"
          ],
          [
           "Wish Upon"
          ],
          [
           "Planes: Fire and Rescue"
          ],
          [
           "A Most Wanted Man"
          ],
          [
           "Deliver Us from Evil"
          ],
          [
           "War for the Planet of the Apes"
          ],
          [
           "Sex Tape"
          ],
          [
           "Ghostbusters"
          ],
          [
           "Pixels"
          ],
          [
           "Star Trek Beyond"
          ],
          [
           "And So It Goes"
          ],
          [
           "Hercules"
          ],
          [
           "The Legend of Tarzan"
          ],
          [
           "Bajrangi Bhaijaan"
          ],
          [
           "Ice Age: Collision Course"
          ],
          [
           "Wish I Was Here"
          ],
          [
           "Terminator: Genisys"
          ],
          [
           "Skyscraper"
          ],
          [
           "Sultan"
          ],
          [
           "Self/Less"
          ],
          [
           "Happy Christmas"
          ],
          [
           "The BFG"
          ],
          [
           "I Origins"
          ],
          [
           "The Infiltrator"
          ],
          [
           "Valerian and the City of a Thousand Planets"
          ],
          [
           "Baahubali: The Beginning"
          ],
          [
           "Counting"
          ],
          [
           "The Vatican Tapes"
          ],
          [
           "Dawn of the Crescent Moon"
          ],
          [
           "Beyond the Brick: A LEGO Brickumentary"
          ],
          [
           "As It Is in Heaven"
          ],
          [
           "The Young and Prodigious T.S. Spivet"
          ],
          [
           "Strangerland"
          ],
          [
           "An American in Hollywood"
          ],
          [
           "Tiger Orange"
          ],
          [
           "Crawl"
          ],
          [
           "Stung"
          ],
          [
           "Mutual Friends"
          ],
          [
           "The Dog Lover"
          ],
          [
           "The Outrageous Sophie Tucker"
          ],
          [
           "American Heist"
          ],
          [
           "The Perfect Wave"
          ],
          [
           "Teefa in Trouble"
          ],
          [
           "Fight Valley"
          ]
         ],
         "hoverlabel": {
          "namelength": 0
         },
         "hovertemplate": "production_budget=%{x}<br>domestic_roi=%{y}<br>movie=%{customdata[0]}",
         "legendgroup": "",
         "marker": {
          "color": "#636efa",
          "symbol": "circle"
         },
         "mode": "markers",
         "name": "",
         "showlegend": false,
         "type": "scatter",
         "x": [
          100000,
          5000000,
          1000000,
          9000000,
          10000000,
          2000000,
          4000000,
          20000000,
          3200000,
          13000000,
          75000000,
          14500000,
          74000000,
          20000000,
          28000000,
          1000000,
          40000000,
          35000000,
          13000000,
          10000000,
          12000000,
          5000000,
          65000000,
          20000000,
          175000000,
          31000000,
          30000000,
          50000000,
          30000000,
          130000000,
          3000000,
          33000000,
          130000000,
          120000000,
          77000000,
          150000000,
          150000000,
          178000000,
          170000000,
          12000000,
          50000000,
          15000000,
          30000000,
          152000000,
          40000000,
          144000000,
          90000000,
          185000000,
          18000000,
          100000000,
          180000000,
          13000000,
          105000000,
          6000000,
          155000000,
          125000000,
          11000000,
          26000000,
          70000,
          140000000,
          1000000,
          47500000,
          180000000,
          40000000,
          50000,
          13000000,
          75000,
          1000000,
          450000,
          33000000,
          10000000,
          125000,
          100000,
          17000000,
          2500000,
          450000,
          2000000,
          500000,
          10000000,
          4000000,
          1500000,
          20000000
         ],
         "xaxis": "x",
         "y": [
          15.94798,
          13.453767,
          8.866745,
          7.951394444444444,
          7.904244,
          6.769855,
          6.34499375,
          5.66286485,
          5.4665925,
          5.345288076923077,
          4.911791066666667,
          4.552624620689655,
          4.541159054054054,
          4.2262716,
          4.111018392857143,
          3.496795,
          3.164349,
          3.1489342857142857,
          2.994987846153846,
          2.9790236,
          2.666692,
          2.6199862,
          2.5769244923076924,
          1.9291813,
          1.9097208,
          1.899489935483871,
          1.7473984333333332,
          1.72179026,
          1.7191308333333333,
          1.6665287692307693,
          1.472661,
          1.3942325151515151,
          1.3861704846153846,
          1.3516076666666668,
          1.3257709350649352,
          1.3002825133333333,
          1.2671218666666666,
          1.2368488988764046,
          1.2267387588235295,
          1.1917920833333333,
          1.18315464,
          1.1491903333333333,
          1.0192374,
          0.9663168552631579,
          0.963586825,
          0.8913234305555555,
          0.8751776222222222,
          0.8586396756756757,
          0.8422667222222222,
          0.72688614,
          0.7035725611111111,
          0.629077,
          0.6101238857142857,
          0.5985498333333333,
          0.5791029419354838,
          0.54736096,
          0.509071,
          0.47229580769230767,
          0.43302857142857143,
          0.39631264285714285,
          0.336472,
          0.3249854315789474,
          0.2248853888888889,
          0.16845,
          0.16748,
          0.13728946153846153,
          0.11732,
          0.101531,
          0.02996888888888889,
          0.005359,
          0.0017472,
          0,
          0,
          0,
          0,
          0,
          0,
          0,
          0,
          0,
          0,
          0
         ],
         "yaxis": "y"
        }
       ],
       "layout": {
        "height": 500,
        "legend": {
         "tracegroupgap": 0
        },
        "margin": {
         "t": 60
        },
        "template": {
         "data": {
          "bar": [
           {
            "error_x": {
             "color": "#2a3f5f"
            },
            "error_y": {
             "color": "#2a3f5f"
            },
            "marker": {
             "line": {
              "color": "#E5ECF6",
              "width": 0.5
             }
            },
            "type": "bar"
           }
          ],
          "barpolar": [
           {
            "marker": {
             "line": {
              "color": "#E5ECF6",
              "width": 0.5
             }
            },
            "type": "barpolar"
           }
          ],
          "carpet": [
           {
            "aaxis": {
             "endlinecolor": "#2a3f5f",
             "gridcolor": "white",
             "linecolor": "white",
             "minorgridcolor": "white",
             "startlinecolor": "#2a3f5f"
            },
            "baxis": {
             "endlinecolor": "#2a3f5f",
             "gridcolor": "white",
             "linecolor": "white",
             "minorgridcolor": "white",
             "startlinecolor": "#2a3f5f"
            },
            "type": "carpet"
           }
          ],
          "choropleth": [
           {
            "colorbar": {
             "outlinewidth": 0,
             "ticks": ""
            },
            "type": "choropleth"
           }
          ],
          "contour": [
           {
            "colorbar": {
             "outlinewidth": 0,
             "ticks": ""
            },
            "colorscale": [
             [
              0,
              "#0d0887"
             ],
             [
              0.1111111111111111,
              "#46039f"
             ],
             [
              0.2222222222222222,
              "#7201a8"
             ],
             [
              0.3333333333333333,
              "#9c179e"
             ],
             [
              0.4444444444444444,
              "#bd3786"
             ],
             [
              0.5555555555555556,
              "#d8576b"
             ],
             [
              0.6666666666666666,
              "#ed7953"
             ],
             [
              0.7777777777777778,
              "#fb9f3a"
             ],
             [
              0.8888888888888888,
              "#fdca26"
             ],
             [
              1,
              "#f0f921"
             ]
            ],
            "type": "contour"
           }
          ],
          "contourcarpet": [
           {
            "colorbar": {
             "outlinewidth": 0,
             "ticks": ""
            },
            "type": "contourcarpet"
           }
          ],
          "heatmap": [
           {
            "colorbar": {
             "outlinewidth": 0,
             "ticks": ""
            },
            "colorscale": [
             [
              0,
              "#0d0887"
             ],
             [
              0.1111111111111111,
              "#46039f"
             ],
             [
              0.2222222222222222,
              "#7201a8"
             ],
             [
              0.3333333333333333,
              "#9c179e"
             ],
             [
              0.4444444444444444,
              "#bd3786"
             ],
             [
              0.5555555555555556,
              "#d8576b"
             ],
             [
              0.6666666666666666,
              "#ed7953"
             ],
             [
              0.7777777777777778,
              "#fb9f3a"
             ],
             [
              0.8888888888888888,
              "#fdca26"
             ],
             [
              1,
              "#f0f921"
             ]
            ],
            "type": "heatmap"
           }
          ],
          "heatmapgl": [
           {
            "colorbar": {
             "outlinewidth": 0,
             "ticks": ""
            },
            "colorscale": [
             [
              0,
              "#0d0887"
             ],
             [
              0.1111111111111111,
              "#46039f"
             ],
             [
              0.2222222222222222,
              "#7201a8"
             ],
             [
              0.3333333333333333,
              "#9c179e"
             ],
             [
              0.4444444444444444,
              "#bd3786"
             ],
             [
              0.5555555555555556,
              "#d8576b"
             ],
             [
              0.6666666666666666,
              "#ed7953"
             ],
             [
              0.7777777777777778,
              "#fb9f3a"
             ],
             [
              0.8888888888888888,
              "#fdca26"
             ],
             [
              1,
              "#f0f921"
             ]
            ],
            "type": "heatmapgl"
           }
          ],
          "histogram": [
           {
            "marker": {
             "colorbar": {
              "outlinewidth": 0,
              "ticks": ""
             }
            },
            "type": "histogram"
           }
          ],
          "histogram2d": [
           {
            "colorbar": {
             "outlinewidth": 0,
             "ticks": ""
            },
            "colorscale": [
             [
              0,
              "#0d0887"
             ],
             [
              0.1111111111111111,
              "#46039f"
             ],
             [
              0.2222222222222222,
              "#7201a8"
             ],
             [
              0.3333333333333333,
              "#9c179e"
             ],
             [
              0.4444444444444444,
              "#bd3786"
             ],
             [
              0.5555555555555556,
              "#d8576b"
             ],
             [
              0.6666666666666666,
              "#ed7953"
             ],
             [
              0.7777777777777778,
              "#fb9f3a"
             ],
             [
              0.8888888888888888,
              "#fdca26"
             ],
             [
              1,
              "#f0f921"
             ]
            ],
            "type": "histogram2d"
           }
          ],
          "histogram2dcontour": [
           {
            "colorbar": {
             "outlinewidth": 0,
             "ticks": ""
            },
            "colorscale": [
             [
              0,
              "#0d0887"
             ],
             [
              0.1111111111111111,
              "#46039f"
             ],
             [
              0.2222222222222222,
              "#7201a8"
             ],
             [
              0.3333333333333333,
              "#9c179e"
             ],
             [
              0.4444444444444444,
              "#bd3786"
             ],
             [
              0.5555555555555556,
              "#d8576b"
             ],
             [
              0.6666666666666666,
              "#ed7953"
             ],
             [
              0.7777777777777778,
              "#fb9f3a"
             ],
             [
              0.8888888888888888,
              "#fdca26"
             ],
             [
              1,
              "#f0f921"
             ]
            ],
            "type": "histogram2dcontour"
           }
          ],
          "mesh3d": [
           {
            "colorbar": {
             "outlinewidth": 0,
             "ticks": ""
            },
            "type": "mesh3d"
           }
          ],
          "parcoords": [
           {
            "line": {
             "colorbar": {
              "outlinewidth": 0,
              "ticks": ""
             }
            },
            "type": "parcoords"
           }
          ],
          "scatter": [
           {
            "marker": {
             "colorbar": {
              "outlinewidth": 0,
              "ticks": ""
             }
            },
            "type": "scatter"
           }
          ],
          "scatter3d": [
           {
            "line": {
             "colorbar": {
              "outlinewidth": 0,
              "ticks": ""
             }
            },
            "marker": {
             "colorbar": {
              "outlinewidth": 0,
              "ticks": ""
             }
            },
            "type": "scatter3d"
           }
          ],
          "scattercarpet": [
           {
            "marker": {
             "colorbar": {
              "outlinewidth": 0,
              "ticks": ""
             }
            },
            "type": "scattercarpet"
           }
          ],
          "scattergeo": [
           {
            "marker": {
             "colorbar": {
              "outlinewidth": 0,
              "ticks": ""
             }
            },
            "type": "scattergeo"
           }
          ],
          "scattergl": [
           {
            "marker": {
             "colorbar": {
              "outlinewidth": 0,
              "ticks": ""
             }
            },
            "type": "scattergl"
           }
          ],
          "scattermapbox": [
           {
            "marker": {
             "colorbar": {
              "outlinewidth": 0,
              "ticks": ""
             }
            },
            "type": "scattermapbox"
           }
          ],
          "scatterpolar": [
           {
            "marker": {
             "colorbar": {
              "outlinewidth": 0,
              "ticks": ""
             }
            },
            "type": "scatterpolar"
           }
          ],
          "scatterpolargl": [
           {
            "marker": {
             "colorbar": {
              "outlinewidth": 0,
              "ticks": ""
             }
            },
            "type": "scatterpolargl"
           }
          ],
          "scatterternary": [
           {
            "marker": {
             "colorbar": {
              "outlinewidth": 0,
              "ticks": ""
             }
            },
            "type": "scatterternary"
           }
          ],
          "surface": [
           {
            "colorbar": {
             "outlinewidth": 0,
             "ticks": ""
            },
            "colorscale": [
             [
              0,
              "#0d0887"
             ],
             [
              0.1111111111111111,
              "#46039f"
             ],
             [
              0.2222222222222222,
              "#7201a8"
             ],
             [
              0.3333333333333333,
              "#9c179e"
             ],
             [
              0.4444444444444444,
              "#bd3786"
             ],
             [
              0.5555555555555556,
              "#d8576b"
             ],
             [
              0.6666666666666666,
              "#ed7953"
             ],
             [
              0.7777777777777778,
              "#fb9f3a"
             ],
             [
              0.8888888888888888,
              "#fdca26"
             ],
             [
              1,
              "#f0f921"
             ]
            ],
            "type": "surface"
           }
          ],
          "table": [
           {
            "cells": {
             "fill": {
              "color": "#EBF0F8"
             },
             "line": {
              "color": "white"
             }
            },
            "header": {
             "fill": {
              "color": "#C8D4E3"
             },
             "line": {
              "color": "white"
             }
            },
            "type": "table"
           }
          ]
         },
         "layout": {
          "annotationdefaults": {
           "arrowcolor": "#2a3f5f",
           "arrowhead": 0,
           "arrowwidth": 1
          },
          "colorscale": {
           "diverging": [
            [
             0,
             "#8e0152"
            ],
            [
             0.1,
             "#c51b7d"
            ],
            [
             0.2,
             "#de77ae"
            ],
            [
             0.3,
             "#f1b6da"
            ],
            [
             0.4,
             "#fde0ef"
            ],
            [
             0.5,
             "#f7f7f7"
            ],
            [
             0.6,
             "#e6f5d0"
            ],
            [
             0.7,
             "#b8e186"
            ],
            [
             0.8,
             "#7fbc41"
            ],
            [
             0.9,
             "#4d9221"
            ],
            [
             1,
             "#276419"
            ]
           ],
           "sequential": [
            [
             0,
             "#0d0887"
            ],
            [
             0.1111111111111111,
             "#46039f"
            ],
            [
             0.2222222222222222,
             "#7201a8"
            ],
            [
             0.3333333333333333,
             "#9c179e"
            ],
            [
             0.4444444444444444,
             "#bd3786"
            ],
            [
             0.5555555555555556,
             "#d8576b"
            ],
            [
             0.6666666666666666,
             "#ed7953"
            ],
            [
             0.7777777777777778,
             "#fb9f3a"
            ],
            [
             0.8888888888888888,
             "#fdca26"
            ],
            [
             1,
             "#f0f921"
            ]
           ],
           "sequentialminus": [
            [
             0,
             "#0d0887"
            ],
            [
             0.1111111111111111,
             "#46039f"
            ],
            [
             0.2222222222222222,
             "#7201a8"
            ],
            [
             0.3333333333333333,
             "#9c179e"
            ],
            [
             0.4444444444444444,
             "#bd3786"
            ],
            [
             0.5555555555555556,
             "#d8576b"
            ],
            [
             0.6666666666666666,
             "#ed7953"
            ],
            [
             0.7777777777777778,
             "#fb9f3a"
            ],
            [
             0.8888888888888888,
             "#fdca26"
            ],
            [
             1,
             "#f0f921"
            ]
           ]
          },
          "colorway": [
           "#636efa",
           "#EF553B",
           "#00cc96",
           "#ab63fa",
           "#FFA15A",
           "#19d3f3",
           "#FF6692",
           "#B6E880",
           "#FF97FF",
           "#FECB52"
          ],
          "font": {
           "color": "#2a3f5f"
          },
          "geo": {
           "bgcolor": "white",
           "lakecolor": "white",
           "landcolor": "#E5ECF6",
           "showlakes": true,
           "showland": true,
           "subunitcolor": "white"
          },
          "hoverlabel": {
           "align": "left"
          },
          "hovermode": "closest",
          "mapbox": {
           "style": "light"
          },
          "paper_bgcolor": "white",
          "plot_bgcolor": "#E5ECF6",
          "polar": {
           "angularaxis": {
            "gridcolor": "white",
            "linecolor": "white",
            "ticks": ""
           },
           "bgcolor": "#E5ECF6",
           "radialaxis": {
            "gridcolor": "white",
            "linecolor": "white",
            "ticks": ""
           }
          },
          "scene": {
           "xaxis": {
            "backgroundcolor": "#E5ECF6",
            "gridcolor": "white",
            "gridwidth": 2,
            "linecolor": "white",
            "showbackground": true,
            "ticks": "",
            "zerolinecolor": "white"
           },
           "yaxis": {
            "backgroundcolor": "#E5ECF6",
            "gridcolor": "white",
            "gridwidth": 2,
            "linecolor": "white",
            "showbackground": true,
            "ticks": "",
            "zerolinecolor": "white"
           },
           "zaxis": {
            "backgroundcolor": "#E5ECF6",
            "gridcolor": "white",
            "gridwidth": 2,
            "linecolor": "white",
            "showbackground": true,
            "ticks": "",
            "zerolinecolor": "white"
           }
          },
          "shapedefaults": {
           "line": {
            "color": "#2a3f5f"
           }
          },
          "ternary": {
           "aaxis": {
            "gridcolor": "white",
            "linecolor": "white",
            "ticks": ""
           },
           "baxis": {
            "gridcolor": "white",
            "linecolor": "white",
            "ticks": ""
           },
           "bgcolor": "#E5ECF6",
           "caxis": {
            "gridcolor": "white",
            "linecolor": "white",
            "ticks": ""
           }
          },
          "title": {
           "x": 0.05
          },
          "xaxis": {
           "automargin": true,
           "gridcolor": "white",
           "linecolor": "white",
           "ticks": "",
           "zerolinecolor": "white",
           "zerolinewidth": 2
          },
          "yaxis": {
           "automargin": true,
           "gridcolor": "white",
           "linecolor": "white",
           "ticks": "",
           "zerolinecolor": "white",
           "zerolinewidth": 2
          }
         }
        },
        "title": {
         "text": "July Movies: ROI vs Budget"
        },
        "width": 800,
        "xaxis": {
         "anchor": "y",
         "domain": [
          0,
          0.98
         ],
         "tickprefix": "$",
         "title": {
          "text": "Production Budget"
         }
        },
        "yaxis": {
         "anchor": "x",
         "domain": [
          0,
          1
         ],
         "tickprefix": "$",
         "title": {
          "text": "ROI ($)"
         }
        }
       }
      },
      "text/html": [
       "<div>\n",
       "        \n",
       "        \n",
       "            <div id=\"d2f966c7-f6ce-4c49-a69d-600a9ed966d0\" class=\"plotly-graph-div\" style=\"height:500px; width:800px;\"></div>\n",
       "            <script type=\"text/javascript\">\n",
       "                require([\"plotly\"], function(Plotly) {\n",
       "                    window.PLOTLYENV=window.PLOTLYENV || {};\n",
       "                    \n",
       "                if (document.getElementById(\"d2f966c7-f6ce-4c49-a69d-600a9ed966d0\")) {\n",
       "                    Plotly.newPlot(\n",
       "                        'd2f966c7-f6ce-4c49-a69d-600a9ed966d0',\n",
       "                        [{\"customdata\": [[\"A Ghost Story\"], [\"Lights Out\"], [\"Unfriended: Dark Web\"], [\"The Purge: Anarchy\"], [\"The Purge: Election Year\"], [\"Eighth Grade\"], [\"Boyhood\"], [\"Bad Moms\"], [\"Sorry to Bother You\"], [\"The First Purge\"], [\"The Secret Life of Pets\"], [\"Magic Mike XXL\"], [\"Minions\"], [\"Tammy\"], [\"Girls Trip\"], [\"An Inconvenient Sequel\"], [\"Lucy\"], [\"Trainwreck\"], [\"Earth to Echo\"], [\"Teen Titans Go! To The Movies\"], [\"Paper Towns\"], [\"Hillary\\u00e2\\u0080\\u0099s America: The Secret History of the Democratic Party\"], [\"Hotel Transylvania 3: Summer Vacation\"], [\"Nerve\"], [\"Spider-Man: Homecoming\"], [\"Vacation\"], [\"Southpaw\"], [\"The Emoji Movie\"], [\"Atomic Blonde\"], [\"Ant-Man and the Wasp\"], [\"Don\\u00e2\\u0080\\u0099t Think Twice\"], [\"Mike and Dave Need Wedding Dates\"], [\"Ant-Man\"], [\"Jason Bourne\"], [\"The Equalizer 2\"], [\"Mission: Impossible\\u00e2\\u0080\\u0094Rogue Nation\"], [\"Dunkirk\"], [\"Mission: Impossible\\u00e2\\u0080\\u0094Fallout\"], [\"Dawn of the Planet of the Apes\"], [\"Wish Upon\"], [\"Planes: Fire and Rescue\"], [\"A Most Wanted Man\"], [\"Deliver Us from Evil\"], [\"War for the Planet of the Apes\"], [\"Sex Tape\"], [\"Ghostbusters\"], [\"Pixels\"], [\"Star Trek Beyond\"], [\"And So It Goes\"], [\"Hercules\"], [\"The Legend of Tarzan\"], [\"Bajrangi Bhaijaan\"], [\"Ice Age: Collision Course\"], [\"Wish I Was Here\"], [\"Terminator: Genisys\"], [\"Skyscraper\"], [\"Sultan\"], [\"Self/Less\"], [\"Happy Christmas\"], [\"The BFG\"], [\"I Origins\"], [\"The Infiltrator\"], [\"Valerian and the City of a Thousand Planets\"], [\"Baahubali: The Beginning\"], [\"Counting\"], [\"The Vatican Tapes\"], [\"Dawn of the Crescent Moon\"], [\"Beyond the Brick: A LEGO Brickumentary\"], [\"As It Is in Heaven\"], [\"The Young and Prodigious T.S. Spivet\"], [\"Strangerland\"], [\"An American in Hollywood\"], [\"Tiger Orange\"], [\"Crawl\"], [\"Stung\"], [\"Mutual Friends\"], [\"The Dog Lover\"], [\"The Outrageous Sophie Tucker\"], [\"American Heist\"], [\"The Perfect Wave\"], [\"Teefa in Trouble\"], [\"Fight Valley\"]], \"hoverlabel\": {\"namelength\": 0}, \"hovertemplate\": \"production_budget=%{x}<br>domestic_roi=%{y}<br>movie=%{customdata[0]}\", \"legendgroup\": \"\", \"marker\": {\"color\": \"#636efa\", \"symbol\": \"circle\"}, \"mode\": \"markers\", \"name\": \"\", \"showlegend\": false, \"type\": \"scatter\", \"x\": [100000, 5000000, 1000000, 9000000, 10000000, 2000000, 4000000, 20000000, 3200000, 13000000, 75000000, 14500000, 74000000, 20000000, 28000000, 1000000, 40000000, 35000000, 13000000, 10000000, 12000000, 5000000, 65000000, 20000000, 175000000, 31000000, 30000000, 50000000, 30000000, 130000000, 3000000, 33000000, 130000000, 120000000, 77000000, 150000000, 150000000, 178000000, 170000000, 12000000, 50000000, 15000000, 30000000, 152000000, 40000000, 144000000, 90000000, 185000000, 18000000, 100000000, 180000000, 13000000, 105000000, 6000000, 155000000, 125000000, 11000000, 26000000, 70000, 140000000, 1000000, 47500000, 180000000, 40000000, 50000, 13000000, 75000, 1000000, 450000, 33000000, 10000000, 125000, 100000, 17000000, 2500000, 450000, 2000000, 500000, 10000000, 4000000, 1500000, 20000000], \"xaxis\": \"x\", \"y\": [15.94798, 13.453767, 8.866745, 7.951394444444444, 7.904244, 6.769855, 6.34499375, 5.66286485, 5.4665925, 5.345288076923077, 4.911791066666667, 4.552624620689655, 4.541159054054054, 4.2262716, 4.111018392857143, 3.496795, 3.164349, 3.1489342857142857, 2.994987846153846, 2.9790236, 2.666692, 2.6199862, 2.5769244923076924, 1.9291813, 1.9097208, 1.899489935483871, 1.7473984333333332, 1.72179026, 1.7191308333333333, 1.6665287692307693, 1.472661, 1.3942325151515151, 1.3861704846153846, 1.3516076666666668, 1.3257709350649352, 1.3002825133333333, 1.2671218666666666, 1.2368488988764046, 1.2267387588235295, 1.1917920833333333, 1.18315464, 1.1491903333333333, 1.0192374, 0.9663168552631579, 0.963586825, 0.8913234305555555, 0.8751776222222222, 0.8586396756756757, 0.8422667222222222, 0.72688614, 0.7035725611111111, 0.629077, 0.6101238857142857, 0.5985498333333333, 0.5791029419354838, 0.54736096, 0.509071, 0.47229580769230767, 0.43302857142857143, 0.39631264285714285, 0.336472, 0.3249854315789474, 0.2248853888888889, 0.16845, 0.16748, 0.13728946153846153, 0.11732, 0.101531, 0.02996888888888889, 0.005359, 0.0017472, 0.0, 0.0, 0.0, 0.0, 0.0, 0.0, 0.0, 0.0, 0.0, 0.0, 0.0], \"yaxis\": \"y\"}],\n",
       "                        {\"height\": 500, \"legend\": {\"tracegroupgap\": 0}, \"margin\": {\"t\": 60}, \"template\": {\"data\": {\"bar\": [{\"error_x\": {\"color\": \"#2a3f5f\"}, \"error_y\": {\"color\": \"#2a3f5f\"}, \"marker\": {\"line\": {\"color\": \"#E5ECF6\", \"width\": 0.5}}, \"type\": \"bar\"}], \"barpolar\": [{\"marker\": {\"line\": {\"color\": \"#E5ECF6\", \"width\": 0.5}}, \"type\": \"barpolar\"}], \"carpet\": [{\"aaxis\": {\"endlinecolor\": \"#2a3f5f\", \"gridcolor\": \"white\", \"linecolor\": \"white\", \"minorgridcolor\": \"white\", \"startlinecolor\": \"#2a3f5f\"}, \"baxis\": {\"endlinecolor\": \"#2a3f5f\", \"gridcolor\": \"white\", \"linecolor\": \"white\", \"minorgridcolor\": \"white\", \"startlinecolor\": \"#2a3f5f\"}, \"type\": \"carpet\"}], \"choropleth\": [{\"colorbar\": {\"outlinewidth\": 0, \"ticks\": \"\"}, \"type\": \"choropleth\"}], \"contour\": [{\"colorbar\": {\"outlinewidth\": 0, \"ticks\": \"\"}, \"colorscale\": [[0.0, \"#0d0887\"], [0.1111111111111111, \"#46039f\"], [0.2222222222222222, \"#7201a8\"], [0.3333333333333333, \"#9c179e\"], [0.4444444444444444, \"#bd3786\"], [0.5555555555555556, \"#d8576b\"], [0.6666666666666666, \"#ed7953\"], [0.7777777777777778, \"#fb9f3a\"], [0.8888888888888888, \"#fdca26\"], [1.0, \"#f0f921\"]], \"type\": \"contour\"}], \"contourcarpet\": [{\"colorbar\": {\"outlinewidth\": 0, \"ticks\": \"\"}, \"type\": \"contourcarpet\"}], \"heatmap\": [{\"colorbar\": {\"outlinewidth\": 0, \"ticks\": \"\"}, \"colorscale\": [[0.0, \"#0d0887\"], [0.1111111111111111, \"#46039f\"], [0.2222222222222222, \"#7201a8\"], [0.3333333333333333, \"#9c179e\"], [0.4444444444444444, \"#bd3786\"], [0.5555555555555556, \"#d8576b\"], [0.6666666666666666, \"#ed7953\"], [0.7777777777777778, \"#fb9f3a\"], [0.8888888888888888, \"#fdca26\"], [1.0, \"#f0f921\"]], \"type\": \"heatmap\"}], \"heatmapgl\": [{\"colorbar\": {\"outlinewidth\": 0, \"ticks\": \"\"}, \"colorscale\": [[0.0, \"#0d0887\"], [0.1111111111111111, \"#46039f\"], [0.2222222222222222, \"#7201a8\"], [0.3333333333333333, \"#9c179e\"], [0.4444444444444444, \"#bd3786\"], [0.5555555555555556, \"#d8576b\"], [0.6666666666666666, \"#ed7953\"], [0.7777777777777778, \"#fb9f3a\"], [0.8888888888888888, \"#fdca26\"], [1.0, \"#f0f921\"]], \"type\": \"heatmapgl\"}], \"histogram\": [{\"marker\": {\"colorbar\": {\"outlinewidth\": 0, \"ticks\": \"\"}}, \"type\": \"histogram\"}], \"histogram2d\": [{\"colorbar\": {\"outlinewidth\": 0, \"ticks\": \"\"}, \"colorscale\": [[0.0, \"#0d0887\"], [0.1111111111111111, \"#46039f\"], [0.2222222222222222, \"#7201a8\"], [0.3333333333333333, \"#9c179e\"], [0.4444444444444444, \"#bd3786\"], [0.5555555555555556, \"#d8576b\"], [0.6666666666666666, \"#ed7953\"], [0.7777777777777778, \"#fb9f3a\"], [0.8888888888888888, \"#fdca26\"], [1.0, \"#f0f921\"]], \"type\": \"histogram2d\"}], \"histogram2dcontour\": [{\"colorbar\": {\"outlinewidth\": 0, \"ticks\": \"\"}, \"colorscale\": [[0.0, \"#0d0887\"], [0.1111111111111111, \"#46039f\"], [0.2222222222222222, \"#7201a8\"], [0.3333333333333333, \"#9c179e\"], [0.4444444444444444, \"#bd3786\"], [0.5555555555555556, \"#d8576b\"], [0.6666666666666666, \"#ed7953\"], [0.7777777777777778, \"#fb9f3a\"], [0.8888888888888888, \"#fdca26\"], [1.0, \"#f0f921\"]], \"type\": \"histogram2dcontour\"}], \"mesh3d\": [{\"colorbar\": {\"outlinewidth\": 0, \"ticks\": \"\"}, \"type\": \"mesh3d\"}], \"parcoords\": [{\"line\": {\"colorbar\": {\"outlinewidth\": 0, \"ticks\": \"\"}}, \"type\": \"parcoords\"}], \"scatter\": [{\"marker\": {\"colorbar\": {\"outlinewidth\": 0, \"ticks\": \"\"}}, \"type\": \"scatter\"}], \"scatter3d\": [{\"line\": {\"colorbar\": {\"outlinewidth\": 0, \"ticks\": \"\"}}, \"marker\": {\"colorbar\": {\"outlinewidth\": 0, \"ticks\": \"\"}}, \"type\": \"scatter3d\"}], \"scattercarpet\": [{\"marker\": {\"colorbar\": {\"outlinewidth\": 0, \"ticks\": \"\"}}, \"type\": \"scattercarpet\"}], \"scattergeo\": [{\"marker\": {\"colorbar\": {\"outlinewidth\": 0, \"ticks\": \"\"}}, \"type\": \"scattergeo\"}], \"scattergl\": [{\"marker\": {\"colorbar\": {\"outlinewidth\": 0, \"ticks\": \"\"}}, \"type\": \"scattergl\"}], \"scattermapbox\": [{\"marker\": {\"colorbar\": {\"outlinewidth\": 0, \"ticks\": \"\"}}, \"type\": \"scattermapbox\"}], \"scatterpolar\": [{\"marker\": {\"colorbar\": {\"outlinewidth\": 0, \"ticks\": \"\"}}, \"type\": \"scatterpolar\"}], \"scatterpolargl\": [{\"marker\": {\"colorbar\": {\"outlinewidth\": 0, \"ticks\": \"\"}}, \"type\": \"scatterpolargl\"}], \"scatterternary\": [{\"marker\": {\"colorbar\": {\"outlinewidth\": 0, \"ticks\": \"\"}}, \"type\": \"scatterternary\"}], \"surface\": [{\"colorbar\": {\"outlinewidth\": 0, \"ticks\": \"\"}, \"colorscale\": [[0.0, \"#0d0887\"], [0.1111111111111111, \"#46039f\"], [0.2222222222222222, \"#7201a8\"], [0.3333333333333333, \"#9c179e\"], [0.4444444444444444, \"#bd3786\"], [0.5555555555555556, \"#d8576b\"], [0.6666666666666666, \"#ed7953\"], [0.7777777777777778, \"#fb9f3a\"], [0.8888888888888888, \"#fdca26\"], [1.0, \"#f0f921\"]], \"type\": \"surface\"}], \"table\": [{\"cells\": {\"fill\": {\"color\": \"#EBF0F8\"}, \"line\": {\"color\": \"white\"}}, \"header\": {\"fill\": {\"color\": \"#C8D4E3\"}, \"line\": {\"color\": \"white\"}}, \"type\": \"table\"}]}, \"layout\": {\"annotationdefaults\": {\"arrowcolor\": \"#2a3f5f\", \"arrowhead\": 0, \"arrowwidth\": 1}, \"colorscale\": {\"diverging\": [[0, \"#8e0152\"], [0.1, \"#c51b7d\"], [0.2, \"#de77ae\"], [0.3, \"#f1b6da\"], [0.4, \"#fde0ef\"], [0.5, \"#f7f7f7\"], [0.6, \"#e6f5d0\"], [0.7, \"#b8e186\"], [0.8, \"#7fbc41\"], [0.9, \"#4d9221\"], [1, \"#276419\"]], \"sequential\": [[0.0, \"#0d0887\"], [0.1111111111111111, \"#46039f\"], [0.2222222222222222, \"#7201a8\"], [0.3333333333333333, \"#9c179e\"], [0.4444444444444444, \"#bd3786\"], [0.5555555555555556, \"#d8576b\"], [0.6666666666666666, \"#ed7953\"], [0.7777777777777778, \"#fb9f3a\"], [0.8888888888888888, \"#fdca26\"], [1.0, \"#f0f921\"]], \"sequentialminus\": [[0.0, \"#0d0887\"], [0.1111111111111111, \"#46039f\"], [0.2222222222222222, \"#7201a8\"], [0.3333333333333333, \"#9c179e\"], [0.4444444444444444, \"#bd3786\"], [0.5555555555555556, \"#d8576b\"], [0.6666666666666666, \"#ed7953\"], [0.7777777777777778, \"#fb9f3a\"], [0.8888888888888888, \"#fdca26\"], [1.0, \"#f0f921\"]]}, \"colorway\": [\"#636efa\", \"#EF553B\", \"#00cc96\", \"#ab63fa\", \"#FFA15A\", \"#19d3f3\", \"#FF6692\", \"#B6E880\", \"#FF97FF\", \"#FECB52\"], \"font\": {\"color\": \"#2a3f5f\"}, \"geo\": {\"bgcolor\": \"white\", \"lakecolor\": \"white\", \"landcolor\": \"#E5ECF6\", \"showlakes\": true, \"showland\": true, \"subunitcolor\": \"white\"}, \"hoverlabel\": {\"align\": \"left\"}, \"hovermode\": \"closest\", \"mapbox\": {\"style\": \"light\"}, \"paper_bgcolor\": \"white\", \"plot_bgcolor\": \"#E5ECF6\", \"polar\": {\"angularaxis\": {\"gridcolor\": \"white\", \"linecolor\": \"white\", \"ticks\": \"\"}, \"bgcolor\": \"#E5ECF6\", \"radialaxis\": {\"gridcolor\": \"white\", \"linecolor\": \"white\", \"ticks\": \"\"}}, \"scene\": {\"xaxis\": {\"backgroundcolor\": \"#E5ECF6\", \"gridcolor\": \"white\", \"gridwidth\": 2, \"linecolor\": \"white\", \"showbackground\": true, \"ticks\": \"\", \"zerolinecolor\": \"white\"}, \"yaxis\": {\"backgroundcolor\": \"#E5ECF6\", \"gridcolor\": \"white\", \"gridwidth\": 2, \"linecolor\": \"white\", \"showbackground\": true, \"ticks\": \"\", \"zerolinecolor\": \"white\"}, \"zaxis\": {\"backgroundcolor\": \"#E5ECF6\", \"gridcolor\": \"white\", \"gridwidth\": 2, \"linecolor\": \"white\", \"showbackground\": true, \"ticks\": \"\", \"zerolinecolor\": \"white\"}}, \"shapedefaults\": {\"line\": {\"color\": \"#2a3f5f\"}}, \"ternary\": {\"aaxis\": {\"gridcolor\": \"white\", \"linecolor\": \"white\", \"ticks\": \"\"}, \"baxis\": {\"gridcolor\": \"white\", \"linecolor\": \"white\", \"ticks\": \"\"}, \"bgcolor\": \"#E5ECF6\", \"caxis\": {\"gridcolor\": \"white\", \"linecolor\": \"white\", \"ticks\": \"\"}}, \"title\": {\"x\": 0.05}, \"xaxis\": {\"automargin\": true, \"gridcolor\": \"white\", \"linecolor\": \"white\", \"ticks\": \"\", \"zerolinecolor\": \"white\", \"zerolinewidth\": 2}, \"yaxis\": {\"automargin\": true, \"gridcolor\": \"white\", \"linecolor\": \"white\", \"ticks\": \"\", \"zerolinecolor\": \"white\", \"zerolinewidth\": 2}}}, \"title\": {\"text\": \"July Movies: ROI vs Budget\"}, \"width\": 800, \"xaxis\": {\"anchor\": \"y\", \"domain\": [0.0, 0.98], \"tickprefix\": \"$\", \"title\": {\"text\": \"Production Budget\"}}, \"yaxis\": {\"anchor\": \"x\", \"domain\": [0.0, 1.0], \"tickprefix\": \"$\", \"title\": {\"text\": \"ROI ($)\"}}},\n",
       "                        {\"responsive\": true}\n",
       "                    ).then(function(){\n",
       "                            \n",
       "var gd = document.getElementById('d2f966c7-f6ce-4c49-a69d-600a9ed966d0');\n",
       "var x = new MutationObserver(function (mutations, observer) {{\n",
       "        var display = window.getComputedStyle(gd).display;\n",
       "        if (!display || display === 'none') {{\n",
       "            console.log([gd, 'removed!']);\n",
       "            Plotly.purge(gd);\n",
       "            observer.disconnect();\n",
       "        }}\n",
       "}});\n",
       "\n",
       "// Listen for the removal of the full notebook cells\n",
       "var notebookContainer = gd.closest('#notebook-container');\n",
       "if (notebookContainer) {{\n",
       "    x.observe(notebookContainer, {childList: true});\n",
       "}}\n",
       "\n",
       "// Listen for the clearing of the current output cell\n",
       "var outputEl = gd.closest('.output');\n",
       "if (outputEl) {{\n",
       "    x.observe(outputEl, {childList: true});\n",
       "}}\n",
       "\n",
       "                        })\n",
       "                };\n",
       "                });\n",
       "            </script>\n",
       "        </div>"
      ]
     },
     "metadata": {},
     "output_type": "display_data"
    }
   ],
   "source": [
    "import plotly.express as px\n",
    "fig = px.scatter(df_july_movies, x='production_budget', y='domestic_roi', hover_data=['movie'], width=800, height=500)\n",
    "fig.update_layout(title='July Movies: ROI vs Budget',\n",
    "    xaxis_title='Production Budget',\n",
    "    yaxis_title='ROI ($)')\n",
    "\n",
    "fig.update_yaxes(tickprefix=\"$\")\n",
    "fig.update_xaxes(tickprefix=\"$\")\n",
    "\n",
    "\n",
    "fig.show()\n",
    "#plt.savefig('Images/July_scatter')"
   ]
  },
  {
   "cell_type": "markdown",
   "metadata": {},
   "source": [
    "The good news is, the majority of these movies have budgets on the lower end of this spread. To not get too risky, we can aim to start with a budget of ~50MM. These titles are diverse and contain horror, action, comedy and drama which gives us lots of options!"
   ]
  },
  {
   "cell_type": "code",
   "execution_count": 14,
   "metadata": {
    "scrolled": true
   },
   "outputs": [
    {
     "data": {
      "text/html": [
       "<div>\n",
       "<style scoped>\n",
       "    .dataframe tbody tr th:only-of-type {\n",
       "        vertical-align: middle;\n",
       "    }\n",
       "\n",
       "    .dataframe tbody tr th {\n",
       "        vertical-align: top;\n",
       "    }\n",
       "\n",
       "    .dataframe thead th {\n",
       "        text-align: right;\n",
       "    }\n",
       "</style>\n",
       "<table border=\"1\" class=\"dataframe\">\n",
       "  <thead>\n",
       "    <tr style=\"text-align: right;\">\n",
       "      <th></th>\n",
       "      <th>id</th>\n",
       "      <th>release_date</th>\n",
       "      <th>movie</th>\n",
       "      <th>production_budget</th>\n",
       "      <th>domestic_gross</th>\n",
       "      <th>worldwide_gross</th>\n",
       "      <th>release_year</th>\n",
       "      <th>release_month</th>\n",
       "      <th>domestic_roi</th>\n",
       "    </tr>\n",
       "  </thead>\n",
       "  <tbody>\n",
       "    <tr>\n",
       "      <th>5685</th>\n",
       "      <td>86</td>\n",
       "      <td>2017-07-07</td>\n",
       "      <td>A Ghost Story</td>\n",
       "      <td>100000</td>\n",
       "      <td>1594798</td>\n",
       "      <td>2769782</td>\n",
       "      <td>2017</td>\n",
       "      <td>7</td>\n",
       "      <td>15.947980</td>\n",
       "    </tr>\n",
       "    <tr>\n",
       "      <th>4254</th>\n",
       "      <td>55</td>\n",
       "      <td>2016-07-22</td>\n",
       "      <td>Lights Out</td>\n",
       "      <td>5000000</td>\n",
       "      <td>67268835</td>\n",
       "      <td>148806510</td>\n",
       "      <td>2016</td>\n",
       "      <td>7</td>\n",
       "      <td>13.453767</td>\n",
       "    </tr>\n",
       "    <tr>\n",
       "      <th>5228</th>\n",
       "      <td>29</td>\n",
       "      <td>2018-07-20</td>\n",
       "      <td>Unfriended: Dark Web</td>\n",
       "      <td>1000000</td>\n",
       "      <td>8866745</td>\n",
       "      <td>16434588</td>\n",
       "      <td>2018</td>\n",
       "      <td>7</td>\n",
       "      <td>8.866745</td>\n",
       "    </tr>\n",
       "    <tr>\n",
       "      <th>3770</th>\n",
       "      <td>71</td>\n",
       "      <td>2014-07-18</td>\n",
       "      <td>The Purge: Anarchy</td>\n",
       "      <td>9000000</td>\n",
       "      <td>71562550</td>\n",
       "      <td>111534881</td>\n",
       "      <td>2014</td>\n",
       "      <td>7</td>\n",
       "      <td>7.951394</td>\n",
       "    </tr>\n",
       "    <tr>\n",
       "      <th>3541</th>\n",
       "      <td>42</td>\n",
       "      <td>2016-07-01</td>\n",
       "      <td>The Purge: Election Year</td>\n",
       "      <td>10000000</td>\n",
       "      <td>79042440</td>\n",
       "      <td>118514727</td>\n",
       "      <td>2016</td>\n",
       "      <td>7</td>\n",
       "      <td>7.904244</td>\n",
       "    </tr>\n",
       "    <tr>\n",
       "      <th>4894</th>\n",
       "      <td>95</td>\n",
       "      <td>2018-07-13</td>\n",
       "      <td>Eighth Grade</td>\n",
       "      <td>2000000</td>\n",
       "      <td>13539710</td>\n",
       "      <td>14341016</td>\n",
       "      <td>2018</td>\n",
       "      <td>7</td>\n",
       "      <td>6.769855</td>\n",
       "    </tr>\n",
       "    <tr>\n",
       "      <th>4484</th>\n",
       "      <td>85</td>\n",
       "      <td>2014-07-11</td>\n",
       "      <td>Boyhood</td>\n",
       "      <td>4000000</td>\n",
       "      <td>25379975</td>\n",
       "      <td>57273049</td>\n",
       "      <td>2014</td>\n",
       "      <td>7</td>\n",
       "      <td>6.344994</td>\n",
       "    </tr>\n",
       "    <tr>\n",
       "      <th>2498</th>\n",
       "      <td>99</td>\n",
       "      <td>2016-07-29</td>\n",
       "      <td>Bad Moms</td>\n",
       "      <td>20000000</td>\n",
       "      <td>113257297</td>\n",
       "      <td>180998716</td>\n",
       "      <td>2016</td>\n",
       "      <td>7</td>\n",
       "      <td>5.662865</td>\n",
       "    </tr>\n",
       "    <tr>\n",
       "      <th>4653</th>\n",
       "      <td>54</td>\n",
       "      <td>2018-07-06</td>\n",
       "      <td>Sorry to Bother You</td>\n",
       "      <td>3200000</td>\n",
       "      <td>17493096</td>\n",
       "      <td>18285560</td>\n",
       "      <td>2018</td>\n",
       "      <td>7</td>\n",
       "      <td>5.466592</td>\n",
       "    </tr>\n",
       "    <tr>\n",
       "      <th>3248</th>\n",
       "      <td>49</td>\n",
       "      <td>2018-07-04</td>\n",
       "      <td>The First Purge</td>\n",
       "      <td>13000000</td>\n",
       "      <td>69488745</td>\n",
       "      <td>136617305</td>\n",
       "      <td>2018</td>\n",
       "      <td>7</td>\n",
       "      <td>5.345288</td>\n",
       "    </tr>\n",
       "  </tbody>\n",
       "</table>\n",
       "</div>"
      ],
      "text/plain": [
       "      id release_date                     movie  production_budget  \\\n",
       "5685  86   2017-07-07             A Ghost Story             100000   \n",
       "4254  55   2016-07-22                Lights Out            5000000   \n",
       "5228  29   2018-07-20      Unfriended: Dark Web            1000000   \n",
       "3770  71   2014-07-18        The Purge: Anarchy            9000000   \n",
       "3541  42   2016-07-01  The Purge: Election Year           10000000   \n",
       "4894  95   2018-07-13              Eighth Grade            2000000   \n",
       "4484  85   2014-07-11                   Boyhood            4000000   \n",
       "2498  99   2016-07-29                  Bad Moms           20000000   \n",
       "4653  54   2018-07-06       Sorry to Bother You            3200000   \n",
       "3248  49   2018-07-04           The First Purge           13000000   \n",
       "\n",
       "      domestic_gross  worldwide_gross  release_year  release_month  \\\n",
       "5685         1594798          2769782          2017              7   \n",
       "4254        67268835        148806510          2016              7   \n",
       "5228         8866745         16434588          2018              7   \n",
       "3770        71562550        111534881          2014              7   \n",
       "3541        79042440        118514727          2016              7   \n",
       "4894        13539710         14341016          2018              7   \n",
       "4484        25379975         57273049          2014              7   \n",
       "2498       113257297        180998716          2016              7   \n",
       "4653        17493096         18285560          2018              7   \n",
       "3248        69488745        136617305          2018              7   \n",
       "\n",
       "      domestic_roi  \n",
       "5685     15.947980  \n",
       "4254     13.453767  \n",
       "5228      8.866745  \n",
       "3770      7.951394  \n",
       "3541      7.904244  \n",
       "4894      6.769855  \n",
       "4484      6.344994  \n",
       "2498      5.662865  \n",
       "4653      5.466592  \n",
       "3248      5.345288  "
      ]
     },
     "execution_count": 14,
     "metadata": {},
     "output_type": "execute_result"
    }
   ],
   "source": [
    "df_july_movies[df_july_movies['production_budget'] < 50000000].head(10)"
   ]
  },
  {
   "cell_type": "code",
   "execution_count": 55,
   "metadata": {},
   "outputs": [
    {
     "data": {
      "application/vnd.plotly.v1+json": {
       "config": {
        "plotlyServerURL": "https://plot.ly"
       },
       "data": [
        {
         "customdata": [
          [
           "Star Wars Ep. VIII: The Last Jedi"
          ],
          [
           "Avengers: Infinity War"
          ],
          [
           "Justice League"
          ],
          [
           "Solo: A Star Wars Story"
          ],
          [
           "The Fate of the Furious"
          ],
          [
           "Pirates of the Caribbean: Dead Men Tell No Tales"
          ],
          [
           "Transformers: The Last Knight"
          ],
          [
           "Black Panther"
          ],
          [
           "Incredibles 2"
          ],
          [
           "Guardians of the Galaxy Vol 2"
          ],
          [
           "Fantastic Beasts: The Crimes of Grindelwald"
          ],
          [
           "The Mummy"
          ],
          [
           "Kong: Skull Island"
          ],
          [
           "Blade Runner 2049"
          ],
          [
           "Thor: Ragnarok"
          ],
          [
           "Valerian and the City of a Thousand Planets"
          ],
          [
           "Mission: ImpossibleâFallout"
          ],
          [
           "The Meg"
          ],
          [
           "Spider-Man: Homecoming"
          ],
          [
           "Coco"
          ],
          [
           "Ralph Breaks The Internet"
          ],
          [
           "Cars 3"
          ],
          [
           "King Arthur: Legend of the Sword"
          ],
          [
           "Jurassic World: Fallen Kingdom"
          ],
          [
           "Beauty and the Beast"
          ],
          [
           "Aquaman"
          ],
          [
           "Pacific Rim: Uprising"
          ],
          [
           "War for the Planet of the Apes"
          ],
          [
           "Wonder Woman"
          ],
          [
           "Dunkirk"
          ],
          [
           "Ready Player One"
          ],
          [
           "The Great Wall"
          ],
          [
           "The Nutcracker and the Four Realms"
          ],
          [
           "Ant-Man and the Wasp"
          ],
          [
           "Mary Poppins Returns"
          ],
          [
           "Logan"
          ],
          [
           "The Boss Baby"
          ],
          [
           "Skyscraper"
          ],
          [
           "Monster Trucks"
          ],
          [
           "Rampage"
          ],
          [
           "Power Rangers"
          ],
          [
           "Venom"
          ],
          [
           "Ferdinand"
          ],
          [
           "Deadpool 2"
          ],
          [
           "Ghost in the Shell"
          ],
          [
           "Kingsman: The Golden Circle"
          ],
          [
           "A Wrinkle in Time"
          ],
          [
           "Bumblebee"
          ],
          [
           "Geostorm"
          ],
          [
           "Mortal Engines"
          ],
          [
           "Robin Hood"
          ],
          [
           "Alien: Covenant"
          ],
          [
           "Jumanji: Welcome to the Jungle"
          ],
          [
           "Spider-Man: Into The Spider-Verse 3D"
          ],
          [
           "Tomb Raider"
          ],
          [
           "The Promise"
          ],
          [
           "Bright"
          ],
          [
           "The Predator"
          ],
          [
           "xXx: Return of Xander Cage"
          ],
          [
           "The Greatest Showman"
          ],
          [
           "The Lego Batman Movie"
          ],
          [
           "Smallfoot"
          ],
          [
           "The Equalizer 2"
          ],
          [
           "Dr. Seussâ The Grinch"
          ],
          [
           "Despicable Me 3"
          ],
          [
           "Christopher Robin"
          ],
          [
           "Oceanâs 8"
          ],
          [
           "Daddyâs Home 2"
          ],
          [
           "The Lego Ninjago Movie"
          ],
          [
           "Red Sparrow"
          ],
          [
           "Downsizing"
          ],
          [
           "Hotel Transylvania 3: Summer Vacation"
          ],
          [
           "Air Strike"
          ],
          [
           "American Assassin"
          ],
          [
           "Maze Runner: The Death Cure"
          ],
          [
           "Baywatch"
          ],
          [
           "The Dark Tower"
          ],
          [
           "Vice"
          ],
          [
           "Smurfs: The Lost Village"
          ],
          [
           "First Man"
          ],
          [
           "Rock Dog"
          ],
          [
           "Sherlock Gnomes"
          ],
          [
           "Life"
          ],
          [
           "Bohemian Rhapsody"
          ],
          [
           "Fifty Shades Darker"
          ],
          [
           "Murder on the Orient Express"
          ],
          [
           "Fifty Shades Freed"
          ],
          [
           "Annihilation"
          ],
          [
           "Alpha"
          ],
          [
           "Creed II"
          ],
          [
           "Peter Rabbit"
          ],
          [
           "The Mule"
          ],
          [
           "The Emoji Movie"
          ],
          [
           "The Post"
          ],
          [
           "American Made"
          ],
          [
           "Early Man"
          ],
          [
           "Instant Family"
          ],
          [
           "Pitch Perfect 3"
          ],
          [
           "All Eyez on Me"
          ],
          [
           "Welcome to Marwen"
          ],
          [
           "The Girl in the Spiderâs Web"
          ],
          [
           "A Monster Calls"
          ],
          [
           "Snatched"
          ],
          [
           "Holmes & Watson"
          ],
          [
           "John Wick: Chapter Two"
          ],
          [
           "The House with a Clock in its Walls"
          ],
          [
           "Widows"
          ],
          [
           "The Commuter"
          ],
          [
           "The Nut Job 2: Nutty by Nature"
          ],
          [
           "Resident Evil: The Final Chapter"
          ],
          [
           "The House"
          ],
          [
           "The Hurricane Heist"
          ],
          [
           "The Crow"
          ],
          [
           "Captain Underpants: The First Epic Movie"
          ],
          [
           "Only the Brave"
          ],
          [
           "The Sisters Brothers"
          ],
          [
           "Game Night"
          ],
          [
           "A Star is Born"
          ],
          [
           "Queen of the Desert"
          ],
          [
           "It"
          ],
          [
           "Sicario: Day of the Soldado"
          ],
          [
           "Goosebumps 2: Haunted Halloween"
          ],
          [
           "12 Strong"
          ],
          [
           "Mile 22"
          ],
          [
           "The Foreigner"
          ],
          [
           "Adrift"
          ],
          [
           "Underworld: Blood Wars"
          ],
          [
           "The Snowman"
          ],
          [
           "Baby Driver"
          ],
          [
           "The Darkest Minds"
          ],
          [
           "I Feel Pretty"
          ],
          [
           "Bad Times at the El Royale"
          ],
          [
           "Birth of the Dragon"
          ],
          [
           "Crazy Rich Asians"
          ],
          [
           "The Hitmanâs Bodyguard"
          ],
          [
           "Darkest Hour"
          ],
          [
           "Life of the Party"
          ],
          [
           "Atomic Blonde"
          ],
          [
           "Den of Thieves"
          ],
          [
           "The 15:17 to Paris"
          ],
          [
           "Death Wish"
          ],
          [
           "Mollyâs Game"
          ],
          [
           "White Boy Rick"
          ],
          [
           "Ballerina"
          ],
          [
           "Proud Mary"
          ],
          [
           "Baahubali 2: The Conclusion"
          ],
          [
           "mother!"
          ],
          [
           "The Lost City of Z"
          ],
          [
           "The Space Between Us"
          ],
          [
           "Kin"
          ],
          [
           "Stronger"
          ],
          [
           "Bilal: A New Breed of Hero"
          ],
          [
           "Collide"
          ],
          [
           "Night School"
          ],
          [
           "Logan Lucky"
          ],
          [
           "Girls Trip"
          ],
          [
           "A Bad Moms Christmas"
          ],
          [
           "Tag"
          ],
          [
           "A Dogâs Purpose"
          ],
          [
           "Peppermint"
          ],
          [
           "Fist Fight"
          ],
          [
           "Rings"
          ],
          [
           "CHiPS"
          ],
          [
           "Father Figures"
          ],
          [
           "Mary Queen of Scots"
          ],
          [
           "Battle of the Sexes"
          ],
          [
           "Beautiful Boy"
          ],
          [
           "Sgt. Stubby: An American Hero"
          ],
          [
           "Tulip Fever"
          ],
          [
           "Matilda"
          ],
          [
           "Going in Style"
          ],
          [
           "Green Book"
          ],
          [
           "The Hate U Give"
          ],
          [
           "ChÄi dÃ n zhuÄnjiÄ"
          ],
          [
           "Diary of a Wimpy Kid: The Long Haul"
          ],
          [
           "Roman J. Israel, Esq."
          ],
          [
           "Just Getting Started"
          ],
          [
           "Blockers"
          ],
          [
           "Kidnap"
          ],
          [
           "Victoria and Abdul"
          ],
          [
           "Bitter Harvest"
          ],
          [
           "Wonder"
          ],
          [
           "A Simple Favor"
          ],
          [
           "Tyler Perryâs Boo 2! A Madea Halloween"
          ],
          [
           "Acrimony"
          ],
          [
           "The Star"
          ],
          [
           "On the Basis of Sex"
          ],
          [
           "Rough Night"
          ],
          [
           "The Zookeeperâs Wife"
          ],
          [
           "Flatliners"
          ],
          [
           "Thank You for Your Service"
          ],
          [
           "Suspiria"
          ],
          [
           "LBJ"
          ],
          [
           "JÃ¬yÃ¬ dÃ shÄ«"
          ],
          [
           "The Thousand Miles"
          ],
          [
           "Bird Box"
          ],
          [
           "The Shape of Water"
          ],
          [
           "Nobodyâs Fool"
          ],
          [
           "Action Point"
          ],
          [
           "Uncle Drew"
          ],
          [
           "The Circle"
          ],
          [
           "T2: Trainspotting"
          ],
          [
           "A Quiet Place"
          ],
          [
           "Mune, le gardien de la lune"
          ],
          [
           "Superfly"
          ],
          [
           "Second Act"
          ],
          [
           "Annabelle: Creation"
          ],
          [
           "BlacKkKlansman"
          ],
          [
           "The Favourite"
          ],
          [
           "Home Again"
          ],
          [
           "The Founder"
          ],
          [
           "Hotel Artemis"
          ],
          [
           "The Comedian"
          ],
          [
           "In Dubious Battle"
          ],
          [
           "The First Purge"
          ],
          [
           "Ben is Back"
          ],
          [
           "Three Billboards Outside Ebbing, Missouri"
          ],
          [
           "Overboard"
          ],
          [
           "If Beale Street Could Talk"
          ],
          [
           "Wish Upon"
          ],
          [
           "Unforgettable"
          ],
          [
           "Marshall"
          ],
          [
           "I, Tonya"
          ],
          [
           "Halloween"
          ],
          [
           "Book Club"
          ],
          [
           "Insidious: The Last Key"
          ],
          [
           "Lady Bird"
          ],
          [
           "Hereditary"
          ],
          [
           "Love, Simon"
          ],
          [
           "Jigsaw"
          ],
          [
           "Everything, Everything"
          ],
          [
           "How to Be a Latin Lover"
          ],
          [
           "Slender Man"
          ],
          [
           "Teen Titans Go! To The Movies"
          ],
          [
           "The Disaster Artist"
          ],
          [
           "Can You Ever Forgive Me?"
          ],
          [
           "Gotti"
          ],
          [
           "Free Fire"
          ],
          [
           "Churchill"
          ],
          [
           "Friend Request"
          ],
          [
           "Destroyer"
          ],
          [
           "Posledniy bogatyr"
          ],
          [
           "Lean on Pete"
          ],
          [
           "London Fields"
          ],
          [
           "Don Gato, el inicio de la pandilla"
          ],
          [
           "Backstabbing For Beginners"
          ],
          [
           "Borg vs McEnroe"
          ],
          [
           "The Bye Bye Man"
          ],
          [
           "I Can Only Imagine"
          ],
          [
           "Gifted"
          ],
          [
           "Two Lovers and a Bear"
          ],
          [
           "Same Kind of Different as Me"
          ],
          [
           "Breaking In"
          ],
          [
           "The Possession of Hannah Grace"
          ],
          [
           "Mandy"
          ],
          [
           "Hell Fest"
          ],
          [
           "The Girl with all the Gifts"
          ],
          [
           "Get Out"
          ],
          [
           "Split"
          ],
          [
           "Happy Death Day"
          ],
          [
           "The Big Sick"
          ],
          [
           "The Strangers: Prey at Night"
          ],
          [
           "Paul, Apostle of Christ"
          ],
          [
           "It Comes at Night"
          ],
          [
           "Before I Fall"
          ],
          [
           "The Belko Experiment"
          ],
          [
           "Fahrenheit 11/9"
          ],
          [
           "Table 19"
          ],
          [
           "Thoroughbreds"
          ],
          [
           "Daisy Winters"
          ],
          [
           "Polina danser sa vie"
          ],
          [
           "Perfectos Desconocidos"
          ],
          [
           "Hevi reissu"
          ],
          [
           "UtÃ¸ya 22. juli"
          ],
          [
           "Truth or Dare"
          ],
          [
           "Winchester"
          ],
          [
           "Forever My Girl"
          ],
          [
           "First Reformed"
          ],
          [
           "Sorry to Bother You"
          ],
          [
           "Upgrade"
          ],
          [
           "Let There Be Light"
          ],
          [
           "The Wall"
          ],
          [
           "Demonic"
          ],
          [
           "Indivisible"
          ],
          [
           "Sky Sharks"
          ],
          [
           "Eighth Grade"
          ],
          [
           "The Florida Project"
          ],
          [
           "All Saints"
          ],
          [
           "Hearts Beat Loud"
          ],
          [
           "The Resurrection of Gavin Stone"
          ],
          [
           "Growing up Smith"
          ],
          [
           "Unsane"
          ],
          [
           "Teefa in Trouble"
          ],
          [
           "Werk ohne Autor"
          ],
          [
           "Blood Feast"
          ],
          [
           "The Islands"
          ],
          [
           "Departure"
          ],
          [
           "Unfriended: Dark Web"
          ],
          [
           "I Am Not Your Negro"
          ],
          [
           "An Inconvenient Sequel"
          ],
          [
           "Visages villages"
          ],
          [
           "Patti Cake$"
          ],
          [
           "Lowriders"
          ],
          [
           "Columbus"
          ],
          [
           "That Way Madness Lies"
          ],
          [
           "Higher Power"
          ],
          [
           "Sleight"
          ],
          [
           "Arrowhead"
          ],
          [
           "A Ghost Story"
          ],
          [
           "Emily"
          ],
          [
           "Red 11"
          ]
         ],
         "hoverlabel": {
          "namelength": 0
         },
         "hovertemplate": "production_budget=%{x}<br>domestic_roi=%{y}<br>movie=%{customdata[0]}",
         "legendgroup": "",
         "marker": {
          "color": "#636efa",
          "symbol": "circle"
         },
         "mode": "markers",
         "name": "",
         "showlegend": false,
         "type": "scatter",
         "x": [
          317000000,
          300000000,
          300000000,
          275000000,
          250000000,
          230000000,
          217000000,
          200000000,
          200000000,
          200000000,
          200000000,
          195000000,
          185000000,
          185000000,
          180000000,
          180000000,
          178000000,
          178000000,
          175000000,
          175000000,
          175000000,
          175000000,
          175000000,
          170000000,
          160000000,
          160000000,
          155000000,
          152000000,
          150000000,
          150000000,
          150000000,
          150000000,
          132900000,
          130000000,
          130000000,
          127000000,
          125000000,
          125000000,
          125000000,
          120000000,
          120000000,
          116000000,
          111000000,
          110000000,
          110000000,
          104000000,
          103000000,
          102000000,
          100000000,
          100000000,
          99000000,
          97000000,
          90000000,
          90000000,
          90000000,
          90000000,
          90000000,
          88000000,
          85000000,
          84000000,
          80000000,
          80000000,
          77000000,
          75000000,
          75000000,
          75000000,
          70000000,
          70000000,
          70000000,
          69000000,
          68000000,
          65000000,
          65000000,
          63000000,
          61000000,
          60000000,
          60000000,
          60000000,
          60000000,
          60000000,
          60000000,
          59000000,
          58000000,
          55000000,
          55000000,
          55000000,
          55000000,
          55000000,
          51000000,
          50000000,
          50000000,
          50000000,
          50000000,
          50000000,
          50000000,
          50000000,
          48000000,
          45000000,
          45000000,
          45000000,
          43000000,
          43000000,
          42000000,
          42000000,
          40000000,
          40000000,
          40000000,
          40000000,
          40000000,
          40000000,
          40000000,
          40000000,
          40000000,
          38000000,
          38000000,
          38000000,
          37000000,
          36000000,
          36000000,
          35000000,
          35000000,
          35000000,
          35000000,
          35000000,
          35000000,
          35000000,
          35000000,
          35000000,
          34000000,
          34000000,
          32000000,
          32000000,
          31000000,
          30000000,
          30000000,
          30000000,
          30000000,
          30000000,
          30000000,
          30000000,
          30000000,
          30000000,
          30000000,
          30000000,
          30000000,
          30000000,
          30000000,
          30000000,
          30000000,
          30000000,
          30000000,
          30000000,
          29200000,
          29000000,
          29000000,
          28000000,
          28000000,
          28000000,
          25000000,
          25000000,
          25000000,
          25000000,
          25000000,
          25000000,
          25000000,
          25000000,
          25000000,
          25000000,
          25000000,
          25000000,
          24000000,
          23000000,
          23000000,
          23000000,
          22000000,
          22000000,
          22000000,
          21000000,
          21000000,
          21000000,
          21000000,
          20000000,
          20000000,
          20000000,
          20000000,
          20000000,
          20000000,
          20000000,
          20000000,
          20000000,
          20000000,
          20000000,
          20000000,
          20000000,
          20000000,
          19800000,
          19500000,
          19000000,
          19000000,
          18000000,
          18000000,
          18000000,
          17000000,
          17000000,
          16000000,
          15700000,
          15000000,
          15000000,
          15000000,
          15000000,
          15000000,
          15000000,
          15000000,
          15000000,
          13000000,
          13000000,
          12000000,
          12000000,
          12000000,
          12000000,
          12000000,
          12000000,
          11000000,
          10000000,
          10000000,
          10000000,
          10000000,
          10000000,
          10000000,
          10000000,
          10000000,
          10000000,
          10000000,
          10000000,
          10000000,
          10000000,
          10000000,
          10000000,
          10000000,
          9900000,
          9000000,
          8500000,
          8000000,
          8000000,
          8000000,
          8000000,
          7500000,
          7400000,
          7000000,
          7000000,
          6840000,
          6500000,
          6000000,
          6000000,
          6000000,
          5500000,
          5250000,
          5000000,
          5000000,
          5000000,
          5000000,
          5000000,
          5000000,
          5000000,
          5000000,
          5000000,
          5000000,
          5000000,
          5000000,
          4500000,
          4000000,
          4000000,
          3800000,
          3600000,
          3500000,
          3500000,
          3500000,
          3500000,
          3200000,
          3000000,
          3000000,
          3000000,
          3000000,
          2700000,
          2500000,
          2000000,
          2000000,
          2000000,
          2000000,
          2000000,
          2000000,
          1500000,
          1500000,
          1400000,
          1200000,
          1200000,
          1100000,
          1000000,
          1000000,
          1000000,
          1000000,
          1000000,
          916000,
          700000,
          650000,
          500000,
          250000,
          180000,
          100000,
          27000,
          7000
         ],
         "xaxis": "x",
         "y": [
          1.95640814511041,
          2.2627182733333333,
          0.7634143166666667,
          0.7773364072727272,
          0.90305906,
          0.7502559826086956,
          0.5998556820276497,
          3.50029783,
          3.04290872,
          1.949065505,
          0.797779505,
          0.410775,
          0.9083935783783784,
          0.49759004864864864,
          1.7503238277777777,
          0.2248853888888889,
          1.2368488988764046,
          0.8170996741573033,
          1.9097208,
          1.1984343714285715,
          1.1490954914285714,
          0.8737206571428572,
          0.22385752,
          2.4571750588235295,
          3.15008853125,
          2.09413629375,
          0.38628725806451614,
          0.9663168552631579,
          2.75042272,
          1.2671218666666666,
          0.91793448,
          0.30104736666666665,
          0.41278292701279157,
          1.6665287692307693,
          1.3227572153846154,
          1.7817091968503938,
          1.400024264,
          0.54736096,
          0.266961328,
          0.8419019416666667,
          0.7113704166666667,
          1.8406155862068965,
          0.7604538738738739,
          2.9508339545454545,
          0.3687596090909091,
          0.9637965192307693,
          0.9755204660194174,
          1.2470155784313726,
          0.3370016,
          0.1595104,
          0.3113598787878788,
          0.7655879484536082,
          4.494543511111111,
          2.1130355,
          0.6472311444444444,
          0.09138097777777777,
          0,
          0.5798262272727273,
          0.5282166235294118,
          2.075478261904762,
          2.1968798,
          1.0405012875,
          1.3257709350649352,
          3.6082793333333334,
          3.528324,
          1.3228672266666666,
          2.0031244428571426,
          1.4861349,
          0.8468793571428571,
          0.679340652173913,
          0.35955520588235296,
          2.5769244923076924,
          0,
          0.5753916507936508,
          0.9513515245901639,
          0.9676697666666667,
          0.8450220833333333,
          0.7972713666666666,
          0.7503380333333334,
          0.7489424166666667,
          0.1570091,
          0.7329300169491525,
          0.5212762413793104,
          3.9327879818181817,
          2.0806183636363635,
          1.8695735090909091,
          1.8255956363636363,
          0.5951327454545454,
          0.7029682156862745,
          2.31431778,
          2.30468186,
          2.07608814,
          1.72179026,
          1.63806916,
          1.02684,
          0.16535088,
          1.4034007708333334,
          2.331056222222222,
          0.9982733777777778,
          0.23918933333333334,
          0.34485011627906975,
          0.08699588372093023,
          1.0917185238095237,
          0.7278272142857143,
          2.3007296,
          1.713742375,
          1.0600658,
          0.90859645,
          0.70926305,
          0.6711173,
          0.6396126,
          0.1528956,
          0,
          1.9452894736842106,
          0.48263292105263156,
          0.082712,
          1.8697044864864865,
          5.980246277777778,
          0,
          9.356621371428572,
          1.4304528571428572,
          1.3342091714285715,
          1.309134657142857,
          1.0316788,
          0.9826716285714285,
          0.8984288857142857,
          0.8672563714285715,
          0.19059328571428572,
          3.171348882352941,
          0.3734026764705882,
          1.52486253125,
          0.55747234375,
          0.2226440322580645,
          5.817764033333333,
          2.5156194333333333,
          1.8814373333333334,
          1.7686637,
          1.7191308333333333,
          1.4982540666666666,
          1.2092095333333333,
          1.1339009333333334,
          0.9593581333333333,
          0.8001611,
          0.7286023333333334,
          0.6956212666666667,
          0.6328598,
          0.5933334666666666,
          0.2858113,
          0.2628431333333333,
          0.1906032,
          0.14037096666666668,
          0.016365766666666667,
          0.07808232876712329,
          2.666866551724138,
          0.9578842068965517,
          4.111018392857143,
          2.5753806785714284,
          1.9546651785714286,
          2.5728756,
          1.41674892,
          1.28748068,
          1.11172072,
          0.74400608,
          0.70004976,
          0.65873996,
          0.50554104,
          0.30539068,
          0.1221714,
          0.0982254,
          0,
          1.8757725416666666,
          3.6991378695652175,
          1.2921514347826086,
          0,
          0.9426692727272727,
          0.5437596363636363,
          0.2758911363636364,
          2.8719759523809523,
          1.462767,
          1.0592890476190475,
          0.026535285714285713,
          6.62114045,
          2.6774293,
          2.3659786,
          2.1774548,
          2.04239975,
          1.23113435,
          1.10528215,
          0.8722593,
          0.84415575,
          0.4739695,
          0.1241736,
          0.12343415,
          0.0293735,
          0,
          0,
          3.2748428205128204,
          1.6691110526315789,
          0.26629515789473684,
          2.3594414444444443,
          1.1387691111111111,
          0.13344466666666666,
          11.060256529411765,
          0,
          1.2835710625,
          2.5020526751592356,
          6.806146733333334,
          3.285022666666667,
          2.291118866666667,
          1.8013522666666666,
          0.8524035333333333,
          0.44720913333333334,
          0.1105804,
          0,
          5.345288076923077,
          0.2848601538461538,
          4.542811666666666,
          4.19301025,
          1.2429810833333332,
          1.1917920833333333,
          0.9473343333333333,
          0.83763825,
          2.728594,
          15.9342015,
          6.8566296,
          6.774533,
          4.8958273,
          4.4069456,
          4.0826341,
          3.8052832,
          3.412114,
          3.2149404,
          3.0564825,
          2.9790236,
          2.1120616,
          0.8803865,
          0.4286367,
          0.1799322,
          0.1279681,
          0.3797048484848485,
          0.17036933333333334,
          0,
          0.145382,
          0.0315845,
          0,
          0,
          0.030846133333333334,
          3.0264602702702703,
          11.926050285714286,
          3.543030285714286,
          0,
          0.9882469230769231,
          7.806765,
          2.4726956666666666,
          0.20242083333333333,
          2.019532909090909,
          0,
          35.208133,
          27.628317,
          11.136769,
          8.5744934,
          4.8862944,
          3.5095998,
          2.7970234,
          2.4482144,
          2.033364,
          1.2704612,
          0.7229792,
          0.614521,
          0,
          0.04130075,
          0,
          0.002671842105263158,
          0,
          11.83171857142857,
          7.169090285714286,
          4.678876,
          0.985216,
          5.4665925,
          3.9923766666666665,
          2.411157,
          0.6010213333333333,
          0,
          1.3005248148148147,
          0,
          6.769855,
          2.952183,
          2.901104,
          1.193127,
          1.151896,
          0.017656,
          5.126696,
          0,
          0.9312478571428572,
          0.0072566666666666665,
          0,
          0,
          8.866745,
          7.123919,
          3.496795,
          0.952432,
          0.800148,
          6.7466757641921395,
          1.45301,
          0.002226153846153846,
          0.001056,
          15.72396,
          0,
          15.94798,
          0.13137037037037036,
          0
         ],
         "yaxis": "y"
        }
       ],
       "layout": {
        "height": 600,
        "legend": {
         "tracegroupgap": 0
        },
        "margin": {
         "t": 60
        },
        "template": {
         "data": {
          "bar": [
           {
            "error_x": {
             "color": "#2a3f5f"
            },
            "error_y": {
             "color": "#2a3f5f"
            },
            "marker": {
             "line": {
              "color": "#E5ECF6",
              "width": 0.5
             }
            },
            "type": "bar"
           }
          ],
          "barpolar": [
           {
            "marker": {
             "line": {
              "color": "#E5ECF6",
              "width": 0.5
             }
            },
            "type": "barpolar"
           }
          ],
          "carpet": [
           {
            "aaxis": {
             "endlinecolor": "#2a3f5f",
             "gridcolor": "white",
             "linecolor": "white",
             "minorgridcolor": "white",
             "startlinecolor": "#2a3f5f"
            },
            "baxis": {
             "endlinecolor": "#2a3f5f",
             "gridcolor": "white",
             "linecolor": "white",
             "minorgridcolor": "white",
             "startlinecolor": "#2a3f5f"
            },
            "type": "carpet"
           }
          ],
          "choropleth": [
           {
            "colorbar": {
             "outlinewidth": 0,
             "ticks": ""
            },
            "type": "choropleth"
           }
          ],
          "contour": [
           {
            "colorbar": {
             "outlinewidth": 0,
             "ticks": ""
            },
            "colorscale": [
             [
              0,
              "#0d0887"
             ],
             [
              0.1111111111111111,
              "#46039f"
             ],
             [
              0.2222222222222222,
              "#7201a8"
             ],
             [
              0.3333333333333333,
              "#9c179e"
             ],
             [
              0.4444444444444444,
              "#bd3786"
             ],
             [
              0.5555555555555556,
              "#d8576b"
             ],
             [
              0.6666666666666666,
              "#ed7953"
             ],
             [
              0.7777777777777778,
              "#fb9f3a"
             ],
             [
              0.8888888888888888,
              "#fdca26"
             ],
             [
              1,
              "#f0f921"
             ]
            ],
            "type": "contour"
           }
          ],
          "contourcarpet": [
           {
            "colorbar": {
             "outlinewidth": 0,
             "ticks": ""
            },
            "type": "contourcarpet"
           }
          ],
          "heatmap": [
           {
            "colorbar": {
             "outlinewidth": 0,
             "ticks": ""
            },
            "colorscale": [
             [
              0,
              "#0d0887"
             ],
             [
              0.1111111111111111,
              "#46039f"
             ],
             [
              0.2222222222222222,
              "#7201a8"
             ],
             [
              0.3333333333333333,
              "#9c179e"
             ],
             [
              0.4444444444444444,
              "#bd3786"
             ],
             [
              0.5555555555555556,
              "#d8576b"
             ],
             [
              0.6666666666666666,
              "#ed7953"
             ],
             [
              0.7777777777777778,
              "#fb9f3a"
             ],
             [
              0.8888888888888888,
              "#fdca26"
             ],
             [
              1,
              "#f0f921"
             ]
            ],
            "type": "heatmap"
           }
          ],
          "heatmapgl": [
           {
            "colorbar": {
             "outlinewidth": 0,
             "ticks": ""
            },
            "colorscale": [
             [
              0,
              "#0d0887"
             ],
             [
              0.1111111111111111,
              "#46039f"
             ],
             [
              0.2222222222222222,
              "#7201a8"
             ],
             [
              0.3333333333333333,
              "#9c179e"
             ],
             [
              0.4444444444444444,
              "#bd3786"
             ],
             [
              0.5555555555555556,
              "#d8576b"
             ],
             [
              0.6666666666666666,
              "#ed7953"
             ],
             [
              0.7777777777777778,
              "#fb9f3a"
             ],
             [
              0.8888888888888888,
              "#fdca26"
             ],
             [
              1,
              "#f0f921"
             ]
            ],
            "type": "heatmapgl"
           }
          ],
          "histogram": [
           {
            "marker": {
             "colorbar": {
              "outlinewidth": 0,
              "ticks": ""
             }
            },
            "type": "histogram"
           }
          ],
          "histogram2d": [
           {
            "colorbar": {
             "outlinewidth": 0,
             "ticks": ""
            },
            "colorscale": [
             [
              0,
              "#0d0887"
             ],
             [
              0.1111111111111111,
              "#46039f"
             ],
             [
              0.2222222222222222,
              "#7201a8"
             ],
             [
              0.3333333333333333,
              "#9c179e"
             ],
             [
              0.4444444444444444,
              "#bd3786"
             ],
             [
              0.5555555555555556,
              "#d8576b"
             ],
             [
              0.6666666666666666,
              "#ed7953"
             ],
             [
              0.7777777777777778,
              "#fb9f3a"
             ],
             [
              0.8888888888888888,
              "#fdca26"
             ],
             [
              1,
              "#f0f921"
             ]
            ],
            "type": "histogram2d"
           }
          ],
          "histogram2dcontour": [
           {
            "colorbar": {
             "outlinewidth": 0,
             "ticks": ""
            },
            "colorscale": [
             [
              0,
              "#0d0887"
             ],
             [
              0.1111111111111111,
              "#46039f"
             ],
             [
              0.2222222222222222,
              "#7201a8"
             ],
             [
              0.3333333333333333,
              "#9c179e"
             ],
             [
              0.4444444444444444,
              "#bd3786"
             ],
             [
              0.5555555555555556,
              "#d8576b"
             ],
             [
              0.6666666666666666,
              "#ed7953"
             ],
             [
              0.7777777777777778,
              "#fb9f3a"
             ],
             [
              0.8888888888888888,
              "#fdca26"
             ],
             [
              1,
              "#f0f921"
             ]
            ],
            "type": "histogram2dcontour"
           }
          ],
          "mesh3d": [
           {
            "colorbar": {
             "outlinewidth": 0,
             "ticks": ""
            },
            "type": "mesh3d"
           }
          ],
          "parcoords": [
           {
            "line": {
             "colorbar": {
              "outlinewidth": 0,
              "ticks": ""
             }
            },
            "type": "parcoords"
           }
          ],
          "scatter": [
           {
            "marker": {
             "colorbar": {
              "outlinewidth": 0,
              "ticks": ""
             }
            },
            "type": "scatter"
           }
          ],
          "scatter3d": [
           {
            "line": {
             "colorbar": {
              "outlinewidth": 0,
              "ticks": ""
             }
            },
            "marker": {
             "colorbar": {
              "outlinewidth": 0,
              "ticks": ""
             }
            },
            "type": "scatter3d"
           }
          ],
          "scattercarpet": [
           {
            "marker": {
             "colorbar": {
              "outlinewidth": 0,
              "ticks": ""
             }
            },
            "type": "scattercarpet"
           }
          ],
          "scattergeo": [
           {
            "marker": {
             "colorbar": {
              "outlinewidth": 0,
              "ticks": ""
             }
            },
            "type": "scattergeo"
           }
          ],
          "scattergl": [
           {
            "marker": {
             "colorbar": {
              "outlinewidth": 0,
              "ticks": ""
             }
            },
            "type": "scattergl"
           }
          ],
          "scattermapbox": [
           {
            "marker": {
             "colorbar": {
              "outlinewidth": 0,
              "ticks": ""
             }
            },
            "type": "scattermapbox"
           }
          ],
          "scatterpolar": [
           {
            "marker": {
             "colorbar": {
              "outlinewidth": 0,
              "ticks": ""
             }
            },
            "type": "scatterpolar"
           }
          ],
          "scatterpolargl": [
           {
            "marker": {
             "colorbar": {
              "outlinewidth": 0,
              "ticks": ""
             }
            },
            "type": "scatterpolargl"
           }
          ],
          "scatterternary": [
           {
            "marker": {
             "colorbar": {
              "outlinewidth": 0,
              "ticks": ""
             }
            },
            "type": "scatterternary"
           }
          ],
          "surface": [
           {
            "colorbar": {
             "outlinewidth": 0,
             "ticks": ""
            },
            "colorscale": [
             [
              0,
              "#0d0887"
             ],
             [
              0.1111111111111111,
              "#46039f"
             ],
             [
              0.2222222222222222,
              "#7201a8"
             ],
             [
              0.3333333333333333,
              "#9c179e"
             ],
             [
              0.4444444444444444,
              "#bd3786"
             ],
             [
              0.5555555555555556,
              "#d8576b"
             ],
             [
              0.6666666666666666,
              "#ed7953"
             ],
             [
              0.7777777777777778,
              "#fb9f3a"
             ],
             [
              0.8888888888888888,
              "#fdca26"
             ],
             [
              1,
              "#f0f921"
             ]
            ],
            "type": "surface"
           }
          ],
          "table": [
           {
            "cells": {
             "fill": {
              "color": "#EBF0F8"
             },
             "line": {
              "color": "white"
             }
            },
            "header": {
             "fill": {
              "color": "#C8D4E3"
             },
             "line": {
              "color": "white"
             }
            },
            "type": "table"
           }
          ]
         },
         "layout": {
          "annotationdefaults": {
           "arrowcolor": "#2a3f5f",
           "arrowhead": 0,
           "arrowwidth": 1
          },
          "colorscale": {
           "diverging": [
            [
             0,
             "#8e0152"
            ],
            [
             0.1,
             "#c51b7d"
            ],
            [
             0.2,
             "#de77ae"
            ],
            [
             0.3,
             "#f1b6da"
            ],
            [
             0.4,
             "#fde0ef"
            ],
            [
             0.5,
             "#f7f7f7"
            ],
            [
             0.6,
             "#e6f5d0"
            ],
            [
             0.7,
             "#b8e186"
            ],
            [
             0.8,
             "#7fbc41"
            ],
            [
             0.9,
             "#4d9221"
            ],
            [
             1,
             "#276419"
            ]
           ],
           "sequential": [
            [
             0,
             "#0d0887"
            ],
            [
             0.1111111111111111,
             "#46039f"
            ],
            [
             0.2222222222222222,
             "#7201a8"
            ],
            [
             0.3333333333333333,
             "#9c179e"
            ],
            [
             0.4444444444444444,
             "#bd3786"
            ],
            [
             0.5555555555555556,
             "#d8576b"
            ],
            [
             0.6666666666666666,
             "#ed7953"
            ],
            [
             0.7777777777777778,
             "#fb9f3a"
            ],
            [
             0.8888888888888888,
             "#fdca26"
            ],
            [
             1,
             "#f0f921"
            ]
           ],
           "sequentialminus": [
            [
             0,
             "#0d0887"
            ],
            [
             0.1111111111111111,
             "#46039f"
            ],
            [
             0.2222222222222222,
             "#7201a8"
            ],
            [
             0.3333333333333333,
             "#9c179e"
            ],
            [
             0.4444444444444444,
             "#bd3786"
            ],
            [
             0.5555555555555556,
             "#d8576b"
            ],
            [
             0.6666666666666666,
             "#ed7953"
            ],
            [
             0.7777777777777778,
             "#fb9f3a"
            ],
            [
             0.8888888888888888,
             "#fdca26"
            ],
            [
             1,
             "#f0f921"
            ]
           ]
          },
          "colorway": [
           "#636efa",
           "#EF553B",
           "#00cc96",
           "#ab63fa",
           "#FFA15A",
           "#19d3f3",
           "#FF6692",
           "#B6E880",
           "#FF97FF",
           "#FECB52"
          ],
          "font": {
           "color": "#2a3f5f"
          },
          "geo": {
           "bgcolor": "white",
           "lakecolor": "white",
           "landcolor": "#E5ECF6",
           "showlakes": true,
           "showland": true,
           "subunitcolor": "white"
          },
          "hoverlabel": {
           "align": "left"
          },
          "hovermode": "closest",
          "mapbox": {
           "style": "light"
          },
          "paper_bgcolor": "white",
          "plot_bgcolor": "#E5ECF6",
          "polar": {
           "angularaxis": {
            "gridcolor": "white",
            "linecolor": "white",
            "ticks": ""
           },
           "bgcolor": "#E5ECF6",
           "radialaxis": {
            "gridcolor": "white",
            "linecolor": "white",
            "ticks": ""
           }
          },
          "scene": {
           "xaxis": {
            "backgroundcolor": "#E5ECF6",
            "gridcolor": "white",
            "gridwidth": 2,
            "linecolor": "white",
            "showbackground": true,
            "ticks": "",
            "zerolinecolor": "white"
           },
           "yaxis": {
            "backgroundcolor": "#E5ECF6",
            "gridcolor": "white",
            "gridwidth": 2,
            "linecolor": "white",
            "showbackground": true,
            "ticks": "",
            "zerolinecolor": "white"
           },
           "zaxis": {
            "backgroundcolor": "#E5ECF6",
            "gridcolor": "white",
            "gridwidth": 2,
            "linecolor": "white",
            "showbackground": true,
            "ticks": "",
            "zerolinecolor": "white"
           }
          },
          "shapedefaults": {
           "line": {
            "color": "#2a3f5f"
           }
          },
          "ternary": {
           "aaxis": {
            "gridcolor": "white",
            "linecolor": "white",
            "ticks": ""
           },
           "baxis": {
            "gridcolor": "white",
            "linecolor": "white",
            "ticks": ""
           },
           "bgcolor": "#E5ECF6",
           "caxis": {
            "gridcolor": "white",
            "linecolor": "white",
            "ticks": ""
           }
          },
          "title": {
           "x": 0.05
          },
          "xaxis": {
           "automargin": true,
           "gridcolor": "white",
           "linecolor": "white",
           "ticks": "",
           "zerolinecolor": "white",
           "zerolinewidth": 2
          },
          "yaxis": {
           "automargin": true,
           "gridcolor": "white",
           "linecolor": "white",
           "ticks": "",
           "zerolinecolor": "white",
           "zerolinewidth": 2
          }
         }
        },
        "title": {
         "text": "2017-2018 Budget by ROI"
        },
        "width": 800,
        "xaxis": {
         "anchor": "y",
         "domain": [
          0,
          0.98
         ],
         "tickprefix": "$",
         "title": {
          "text": "Production Budget"
         }
        },
        "yaxis": {
         "anchor": "x",
         "domain": [
          0,
          1
         ],
         "tickprefix": "$",
         "title": {
          "text": "ROI ($)"
         }
        }
       }
      },
      "text/html": [
       "<div>\n",
       "        \n",
       "        \n",
       "            <div id=\"f59ccdf3-4a3d-4a77-8133-d78015f4025c\" class=\"plotly-graph-div\" style=\"height:600px; width:800px;\"></div>\n",
       "            <script type=\"text/javascript\">\n",
       "                require([\"plotly\"], function(Plotly) {\n",
       "                    window.PLOTLYENV=window.PLOTLYENV || {};\n",
       "                    \n",
       "                if (document.getElementById(\"f59ccdf3-4a3d-4a77-8133-d78015f4025c\")) {\n",
       "                    Plotly.newPlot(\n",
       "                        'f59ccdf3-4a3d-4a77-8133-d78015f4025c',\n",
       "                        [{\"customdata\": [[\"Star Wars Ep. VIII: The Last Jedi\"], [\"Avengers: Infinity War\"], [\"Justice League\"], [\"Solo: A Star Wars Story\"], [\"The Fate of the Furious\"], [\"Pirates of the Caribbean: Dead Men Tell No Tales\"], [\"Transformers: The Last Knight\"], [\"Black Panther\"], [\"Incredibles 2\"], [\"Guardians of the Galaxy Vol 2\"], [\"Fantastic Beasts: The Crimes of Grindelwald\"], [\"The Mummy\"], [\"Kong: Skull Island\"], [\"Blade Runner 2049\"], [\"Thor: Ragnarok\"], [\"Valerian and the City of a Thousand Planets\"], [\"Mission: Impossible\\u00e2\\u0080\\u0094Fallout\"], [\"The Meg\"], [\"Spider-Man: Homecoming\"], [\"Coco\"], [\"Ralph Breaks The Internet\"], [\"Cars 3\"], [\"King Arthur: Legend of the Sword\"], [\"Jurassic World: Fallen Kingdom\"], [\"Beauty and the Beast\"], [\"Aquaman\"], [\"Pacific Rim: Uprising\"], [\"War for the Planet of the Apes\"], [\"Wonder Woman\"], [\"Dunkirk\"], [\"Ready Player One\"], [\"The Great Wall\"], [\"The Nutcracker and the Four Realms\"], [\"Ant-Man and the Wasp\"], [\"Mary Poppins Returns\"], [\"Logan\"], [\"The Boss Baby\"], [\"Skyscraper\"], [\"Monster Trucks\"], [\"Rampage\"], [\"Power Rangers\"], [\"Venom\"], [\"Ferdinand\"], [\"Deadpool 2\"], [\"Ghost in the Shell\"], [\"Kingsman: The Golden Circle\"], [\"A Wrinkle in Time\"], [\"Bumblebee\"], [\"Geostorm\"], [\"Mortal Engines\"], [\"Robin Hood\"], [\"Alien: Covenant\"], [\"Jumanji: Welcome to the Jungle\"], [\"Spider-Man: Into The Spider-Verse 3D\"], [\"Tomb Raider\"], [\"The Promise\"], [\"Bright\"], [\"The Predator\"], [\"xXx: Return of Xander Cage\"], [\"The Greatest Showman\"], [\"The Lego Batman Movie\"], [\"Smallfoot\"], [\"The Equalizer 2\"], [\"Dr. Seuss\\u00e2\\u0080\\u0099 The Grinch\"], [\"Despicable Me 3\"], [\"Christopher Robin\"], [\"Ocean\\u00e2\\u0080\\u0099s 8\"], [\"Daddy\\u00e2\\u0080\\u0099s Home 2\"], [\"The Lego Ninjago Movie\"], [\"Red Sparrow\"], [\"Downsizing\"], [\"Hotel Transylvania 3: Summer Vacation\"], [\"Air Strike\"], [\"American Assassin\"], [\"Maze Runner: The Death Cure\"], [\"Baywatch\"], [\"The Dark Tower\"], [\"Vice\"], [\"Smurfs: The Lost Village\"], [\"First Man\"], [\"Rock Dog\"], [\"Sherlock Gnomes\"], [\"Life\"], [\"Bohemian Rhapsody\"], [\"Fifty Shades Darker\"], [\"Murder on the Orient Express\"], [\"Fifty Shades Freed\"], [\"Annihilation\"], [\"Alpha\"], [\"Creed II\"], [\"Peter Rabbit\"], [\"The Mule\"], [\"The Emoji Movie\"], [\"The Post\"], [\"American Made\"], [\"Early Man\"], [\"Instant Family\"], [\"Pitch Perfect 3\"], [\"All Eyez on Me\"], [\"Welcome to Marwen\"], [\"The Girl in the Spider\\u00e2\\u0080\\u0099s Web\"], [\"A Monster Calls\"], [\"Snatched\"], [\"Holmes & Watson\"], [\"John Wick: Chapter Two\"], [\"The House with a Clock in its Walls\"], [\"Widows\"], [\"The Commuter\"], [\"The Nut Job 2: Nutty by Nature\"], [\"Resident Evil: The Final Chapter\"], [\"The House\"], [\"The Hurricane Heist\"], [\"The Crow\"], [\"Captain Underpants: The First Epic Movie\"], [\"Only the Brave\"], [\"The Sisters Brothers\"], [\"Game Night\"], [\"A Star is Born\"], [\"Queen of the Desert\"], [\"It\"], [\"Sicario: Day of the Soldado\"], [\"Goosebumps 2: Haunted Halloween\"], [\"12 Strong\"], [\"Mile 22\"], [\"The Foreigner\"], [\"Adrift\"], [\"Underworld: Blood Wars\"], [\"The Snowman\"], [\"Baby Driver\"], [\"The Darkest Minds\"], [\"I Feel Pretty\"], [\"Bad Times at the El Royale\"], [\"Birth of the Dragon\"], [\"Crazy Rich Asians\"], [\"The Hitman\\u00e2\\u0080\\u0099s Bodyguard\"], [\"Darkest Hour\"], [\"Life of the Party\"], [\"Atomic Blonde\"], [\"Den of Thieves\"], [\"The 15:17 to Paris\"], [\"Death Wish\"], [\"Molly\\u00e2\\u0080\\u0099s Game\"], [\"White Boy Rick\"], [\"Ballerina\"], [\"Proud Mary\"], [\"Baahubali 2: The Conclusion\"], [\"mother!\"], [\"The Lost City of Z\"], [\"The Space Between Us\"], [\"Kin\"], [\"Stronger\"], [\"Bilal: A New Breed of Hero\"], [\"Collide\"], [\"Night School\"], [\"Logan Lucky\"], [\"Girls Trip\"], [\"A Bad Moms Christmas\"], [\"Tag\"], [\"A Dog\\u00e2\\u0080\\u0099s Purpose\"], [\"Peppermint\"], [\"Fist Fight\"], [\"Rings\"], [\"CHiPS\"], [\"Father Figures\"], [\"Mary Queen of Scots\"], [\"Battle of the Sexes\"], [\"Beautiful Boy\"], [\"Sgt. Stubby: An American Hero\"], [\"Tulip Fever\"], [\"Matilda\"], [\"Going in Style\"], [\"Green Book\"], [\"The Hate U Give\"], [\"Ch\\u00c4\\u0081i d\\u00c3\\u00a0n zhu\\u00c4\\u0081nji\\u00c4\\u0081\"], [\"Diary of a Wimpy Kid: The Long Haul\"], [\"Roman J. Israel, Esq.\"], [\"Just Getting Started\"], [\"Blockers\"], [\"Kidnap\"], [\"Victoria and Abdul\"], [\"Bitter Harvest\"], [\"Wonder\"], [\"A Simple Favor\"], [\"Tyler Perry\\u00e2\\u0080\\u0099s Boo 2! A Madea Halloween\"], [\"Acrimony\"], [\"The Star\"], [\"On the Basis of Sex\"], [\"Rough Night\"], [\"The Zookeeper\\u00e2\\u0080\\u0099s Wife\"], [\"Flatliners\"], [\"Thank You for Your Service\"], [\"Suspiria\"], [\"LBJ\"], [\"J\\u00c3\\u00acy\\u00c3\\u00ac d\\u00c3\\u00a0sh\\u00c4\\u00ab\"], [\"The Thousand Miles\"], [\"Bird Box\"], [\"The Shape of Water\"], [\"Nobody\\u00e2\\u0080\\u0099s Fool\"], [\"Action Point\"], [\"Uncle Drew\"], [\"The Circle\"], [\"T2: Trainspotting\"], [\"A Quiet Place\"], [\"Mune, le gardien de la lune\"], [\"Superfly\"], [\"Second Act\"], [\"Annabelle: Creation\"], [\"BlacKkKlansman\"], [\"The Favourite\"], [\"Home Again\"], [\"The Founder\"], [\"Hotel Artemis\"], [\"The Comedian\"], [\"In Dubious Battle\"], [\"The First Purge\"], [\"Ben is Back\"], [\"Three Billboards Outside Ebbing, Missouri\"], [\"Overboard\"], [\"If Beale Street Could Talk\"], [\"Wish Upon\"], [\"Unforgettable\"], [\"Marshall\"], [\"I, Tonya\"], [\"Halloween\"], [\"Book Club\"], [\"Insidious: The Last Key\"], [\"Lady Bird\"], [\"Hereditary\"], [\"Love, Simon\"], [\"Jigsaw\"], [\"Everything, Everything\"], [\"How to Be a Latin Lover\"], [\"Slender Man\"], [\"Teen Titans Go! To The Movies\"], [\"The Disaster Artist\"], [\"Can You Ever Forgive Me?\"], [\"Gotti\"], [\"Free Fire\"], [\"Churchill\"], [\"Friend Request\"], [\"Destroyer\"], [\"Posledniy bogatyr\"], [\"Lean on Pete\"], [\"London Fields\"], [\"Don Gato, el inicio de la pandilla\"], [\"Backstabbing For Beginners\"], [\"Borg vs McEnroe\"], [\"The Bye Bye Man\"], [\"I Can Only Imagine\"], [\"Gifted\"], [\"Two Lovers and a Bear\"], [\"Same Kind of Different as Me\"], [\"Breaking In\"], [\"The Possession of Hannah Grace\"], [\"Mandy\"], [\"Hell Fest\"], [\"The Girl with all the Gifts\"], [\"Get Out\"], [\"Split\"], [\"Happy Death Day\"], [\"The Big Sick\"], [\"The Strangers: Prey at Night\"], [\"Paul, Apostle of Christ\"], [\"It Comes at Night\"], [\"Before I Fall\"], [\"The Belko Experiment\"], [\"Fahrenheit 11/9\"], [\"Table 19\"], [\"Thoroughbreds\"], [\"Daisy Winters\"], [\"Polina danser sa vie\"], [\"Perfectos Desconocidos\"], [\"Hevi reissu\"], [\"Ut\\u00c3\\u00b8ya 22. juli\"], [\"Truth or Dare\"], [\"Winchester\"], [\"Forever My Girl\"], [\"First Reformed\"], [\"Sorry to Bother You\"], [\"Upgrade\"], [\"Let There Be Light\"], [\"The Wall\"], [\"Demonic\"], [\"Indivisible\"], [\"Sky Sharks\"], [\"Eighth Grade\"], [\"The Florida Project\"], [\"All Saints\"], [\"Hearts Beat Loud\"], [\"The Resurrection of Gavin Stone\"], [\"Growing up Smith\"], [\"Unsane\"], [\"Teefa in Trouble\"], [\"Werk ohne Autor\"], [\"Blood Feast\"], [\"The Islands\"], [\"Departure\"], [\"Unfriended: Dark Web\"], [\"I Am Not Your Negro\"], [\"An Inconvenient Sequel\"], [\"Visages villages\"], [\"Patti Cake$\"], [\"Lowriders\"], [\"Columbus\"], [\"That Way Madness Lies\"], [\"Higher Power\"], [\"Sleight\"], [\"Arrowhead\"], [\"A Ghost Story\"], [\"Emily\"], [\"Red 11\"]], \"hoverlabel\": {\"namelength\": 0}, \"hovertemplate\": \"production_budget=%{x}<br>domestic_roi=%{y}<br>movie=%{customdata[0]}\", \"legendgroup\": \"\", \"marker\": {\"color\": \"#636efa\", \"symbol\": \"circle\"}, \"mode\": \"markers\", \"name\": \"\", \"showlegend\": false, \"type\": \"scatter\", \"x\": [317000000, 300000000, 300000000, 275000000, 250000000, 230000000, 217000000, 200000000, 200000000, 200000000, 200000000, 195000000, 185000000, 185000000, 180000000, 180000000, 178000000, 178000000, 175000000, 175000000, 175000000, 175000000, 175000000, 170000000, 160000000, 160000000, 155000000, 152000000, 150000000, 150000000, 150000000, 150000000, 132900000, 130000000, 130000000, 127000000, 125000000, 125000000, 125000000, 120000000, 120000000, 116000000, 111000000, 110000000, 110000000, 104000000, 103000000, 102000000, 100000000, 100000000, 99000000, 97000000, 90000000, 90000000, 90000000, 90000000, 90000000, 88000000, 85000000, 84000000, 80000000, 80000000, 77000000, 75000000, 75000000, 75000000, 70000000, 70000000, 70000000, 69000000, 68000000, 65000000, 65000000, 63000000, 61000000, 60000000, 60000000, 60000000, 60000000, 60000000, 60000000, 59000000, 58000000, 55000000, 55000000, 55000000, 55000000, 55000000, 51000000, 50000000, 50000000, 50000000, 50000000, 50000000, 50000000, 50000000, 48000000, 45000000, 45000000, 45000000, 43000000, 43000000, 42000000, 42000000, 40000000, 40000000, 40000000, 40000000, 40000000, 40000000, 40000000, 40000000, 40000000, 38000000, 38000000, 38000000, 37000000, 36000000, 36000000, 35000000, 35000000, 35000000, 35000000, 35000000, 35000000, 35000000, 35000000, 35000000, 34000000, 34000000, 32000000, 32000000, 31000000, 30000000, 30000000, 30000000, 30000000, 30000000, 30000000, 30000000, 30000000, 30000000, 30000000, 30000000, 30000000, 30000000, 30000000, 30000000, 30000000, 30000000, 30000000, 30000000, 29200000, 29000000, 29000000, 28000000, 28000000, 28000000, 25000000, 25000000, 25000000, 25000000, 25000000, 25000000, 25000000, 25000000, 25000000, 25000000, 25000000, 25000000, 24000000, 23000000, 23000000, 23000000, 22000000, 22000000, 22000000, 21000000, 21000000, 21000000, 21000000, 20000000, 20000000, 20000000, 20000000, 20000000, 20000000, 20000000, 20000000, 20000000, 20000000, 20000000, 20000000, 20000000, 20000000, 19800000, 19500000, 19000000, 19000000, 18000000, 18000000, 18000000, 17000000, 17000000, 16000000, 15700000, 15000000, 15000000, 15000000, 15000000, 15000000, 15000000, 15000000, 15000000, 13000000, 13000000, 12000000, 12000000, 12000000, 12000000, 12000000, 12000000, 11000000, 10000000, 10000000, 10000000, 10000000, 10000000, 10000000, 10000000, 10000000, 10000000, 10000000, 10000000, 10000000, 10000000, 10000000, 10000000, 10000000, 9900000, 9000000, 8500000, 8000000, 8000000, 8000000, 8000000, 7500000, 7400000, 7000000, 7000000, 6840000, 6500000, 6000000, 6000000, 6000000, 5500000, 5250000, 5000000, 5000000, 5000000, 5000000, 5000000, 5000000, 5000000, 5000000, 5000000, 5000000, 5000000, 5000000, 4500000, 4000000, 4000000, 3800000, 3600000, 3500000, 3500000, 3500000, 3500000, 3200000, 3000000, 3000000, 3000000, 3000000, 2700000, 2500000, 2000000, 2000000, 2000000, 2000000, 2000000, 2000000, 1500000, 1500000, 1400000, 1200000, 1200000, 1100000, 1000000, 1000000, 1000000, 1000000, 1000000, 916000, 700000, 650000, 500000, 250000, 180000, 100000, 27000, 7000], \"xaxis\": \"x\", \"y\": [1.95640814511041, 2.2627182733333333, 0.7634143166666667, 0.7773364072727272, 0.90305906, 0.7502559826086956, 0.5998556820276497, 3.50029783, 3.04290872, 1.949065505, 0.797779505, 0.410775, 0.9083935783783784, 0.49759004864864864, 1.7503238277777777, 0.2248853888888889, 1.2368488988764046, 0.8170996741573033, 1.9097208, 1.1984343714285715, 1.1490954914285714, 0.8737206571428572, 0.22385752, 2.4571750588235295, 3.15008853125, 2.09413629375, 0.38628725806451614, 0.9663168552631579, 2.75042272, 1.2671218666666666, 0.91793448, 0.30104736666666665, 0.41278292701279157, 1.6665287692307693, 1.3227572153846154, 1.7817091968503938, 1.400024264, 0.54736096, 0.266961328, 0.8419019416666667, 0.7113704166666667, 1.8406155862068965, 0.7604538738738739, 2.9508339545454545, 0.3687596090909091, 0.9637965192307693, 0.9755204660194174, 1.2470155784313726, 0.3370016, 0.1595104, 0.3113598787878788, 0.7655879484536082, 4.494543511111111, 2.1130355, 0.6472311444444444, 0.09138097777777777, 0.0, 0.5798262272727273, 0.5282166235294118, 2.075478261904762, 2.1968798, 1.0405012875, 1.3257709350649352, 3.6082793333333334, 3.528324, 1.3228672266666666, 2.0031244428571426, 1.4861349, 0.8468793571428571, 0.679340652173913, 0.35955520588235296, 2.5769244923076924, 0.0, 0.5753916507936508, 0.9513515245901639, 0.9676697666666667, 0.8450220833333333, 0.7972713666666666, 0.7503380333333334, 0.7489424166666667, 0.1570091, 0.7329300169491525, 0.5212762413793104, 3.9327879818181817, 2.0806183636363635, 1.8695735090909091, 1.8255956363636363, 0.5951327454545454, 0.7029682156862745, 2.31431778, 2.30468186, 2.07608814, 1.72179026, 1.63806916, 1.02684, 0.16535088, 1.4034007708333334, 2.331056222222222, 0.9982733777777778, 0.23918933333333334, 0.34485011627906975, 0.08699588372093023, 1.0917185238095237, 0.7278272142857143, 2.3007296, 1.713742375, 1.0600658, 0.90859645, 0.70926305, 0.6711173, 0.6396126, 0.1528956, 0.0, 1.9452894736842106, 0.48263292105263156, 0.082712, 1.8697044864864865, 5.980246277777778, 0.0, 9.356621371428572, 1.4304528571428572, 1.3342091714285715, 1.309134657142857, 1.0316788, 0.9826716285714285, 0.8984288857142857, 0.8672563714285715, 0.19059328571428572, 3.171348882352941, 0.3734026764705882, 1.52486253125, 0.55747234375, 0.2226440322580645, 5.817764033333333, 2.5156194333333333, 1.8814373333333334, 1.7686637, 1.7191308333333333, 1.4982540666666666, 1.2092095333333333, 1.1339009333333334, 0.9593581333333333, 0.8001611, 0.7286023333333334, 0.6956212666666667, 0.6328598, 0.5933334666666666, 0.2858113, 0.2628431333333333, 0.1906032, 0.14037096666666668, 0.016365766666666667, 0.07808232876712329, 2.666866551724138, 0.9578842068965517, 4.111018392857143, 2.5753806785714284, 1.9546651785714286, 2.5728756, 1.41674892, 1.28748068, 1.11172072, 0.74400608, 0.70004976, 0.65873996, 0.50554104, 0.30539068, 0.1221714, 0.0982254, 0.0, 1.8757725416666666, 3.6991378695652175, 1.2921514347826086, 0.0, 0.9426692727272727, 0.5437596363636363, 0.2758911363636364, 2.8719759523809523, 1.462767, 1.0592890476190475, 0.026535285714285713, 6.62114045, 2.6774293, 2.3659786, 2.1774548, 2.04239975, 1.23113435, 1.10528215, 0.8722593, 0.84415575, 0.4739695, 0.1241736, 0.12343415, 0.0293735, 0.0, 0.0, 3.2748428205128204, 1.6691110526315789, 0.26629515789473684, 2.3594414444444443, 1.1387691111111111, 0.13344466666666666, 11.060256529411765, 0.0, 1.2835710625, 2.5020526751592356, 6.806146733333334, 3.285022666666667, 2.291118866666667, 1.8013522666666666, 0.8524035333333333, 0.44720913333333334, 0.1105804, 0.0, 5.345288076923077, 0.2848601538461538, 4.542811666666666, 4.19301025, 1.2429810833333332, 1.1917920833333333, 0.9473343333333333, 0.83763825, 2.728594, 15.9342015, 6.8566296, 6.774533, 4.8958273, 4.4069456, 4.0826341, 3.8052832, 3.412114, 3.2149404, 3.0564825, 2.9790236, 2.1120616, 0.8803865, 0.4286367, 0.1799322, 0.1279681, 0.3797048484848485, 0.17036933333333334, 0.0, 0.145382, 0.0315845, 0.0, 0.0, 0.030846133333333334, 3.0264602702702703, 11.926050285714286, 3.543030285714286, 0.0, 0.9882469230769231, 7.806765, 2.4726956666666666, 0.20242083333333333, 2.019532909090909, 0.0, 35.208133, 27.628317, 11.136769, 8.5744934, 4.8862944, 3.5095998, 2.7970234, 2.4482144, 2.033364, 1.2704612, 0.7229792, 0.614521, 0.0, 0.04130075, 0.0, 0.002671842105263158, 0.0, 11.83171857142857, 7.169090285714286, 4.678876, 0.985216, 5.4665925, 3.9923766666666665, 2.411157, 0.6010213333333333, 0.0, 1.3005248148148147, 0.0, 6.769855, 2.952183, 2.901104, 1.193127, 1.151896, 0.017656, 5.126696, 0.0, 0.9312478571428572, 0.0072566666666666665, 0.0, 0.0, 8.866745, 7.123919, 3.496795, 0.952432, 0.800148, 6.7466757641921395, 1.45301, 0.002226153846153846, 0.001056, 15.72396, 0.0, 15.94798, 0.13137037037037036, 0.0], \"yaxis\": \"y\"}],\n",
       "                        {\"height\": 600, \"legend\": {\"tracegroupgap\": 0}, \"margin\": {\"t\": 60}, \"template\": {\"data\": {\"bar\": [{\"error_x\": {\"color\": \"#2a3f5f\"}, \"error_y\": {\"color\": \"#2a3f5f\"}, \"marker\": {\"line\": {\"color\": \"#E5ECF6\", \"width\": 0.5}}, \"type\": \"bar\"}], \"barpolar\": [{\"marker\": {\"line\": {\"color\": \"#E5ECF6\", \"width\": 0.5}}, \"type\": \"barpolar\"}], \"carpet\": [{\"aaxis\": {\"endlinecolor\": \"#2a3f5f\", \"gridcolor\": \"white\", \"linecolor\": \"white\", \"minorgridcolor\": \"white\", \"startlinecolor\": \"#2a3f5f\"}, \"baxis\": {\"endlinecolor\": \"#2a3f5f\", \"gridcolor\": \"white\", \"linecolor\": \"white\", \"minorgridcolor\": \"white\", \"startlinecolor\": \"#2a3f5f\"}, \"type\": \"carpet\"}], \"choropleth\": [{\"colorbar\": {\"outlinewidth\": 0, \"ticks\": \"\"}, \"type\": \"choropleth\"}], \"contour\": [{\"colorbar\": {\"outlinewidth\": 0, \"ticks\": \"\"}, \"colorscale\": [[0.0, \"#0d0887\"], [0.1111111111111111, \"#46039f\"], [0.2222222222222222, \"#7201a8\"], [0.3333333333333333, \"#9c179e\"], [0.4444444444444444, \"#bd3786\"], [0.5555555555555556, \"#d8576b\"], [0.6666666666666666, \"#ed7953\"], [0.7777777777777778, \"#fb9f3a\"], [0.8888888888888888, \"#fdca26\"], [1.0, \"#f0f921\"]], \"type\": \"contour\"}], \"contourcarpet\": [{\"colorbar\": {\"outlinewidth\": 0, \"ticks\": \"\"}, \"type\": \"contourcarpet\"}], \"heatmap\": [{\"colorbar\": {\"outlinewidth\": 0, \"ticks\": \"\"}, \"colorscale\": [[0.0, \"#0d0887\"], [0.1111111111111111, \"#46039f\"], [0.2222222222222222, \"#7201a8\"], [0.3333333333333333, \"#9c179e\"], [0.4444444444444444, \"#bd3786\"], [0.5555555555555556, \"#d8576b\"], [0.6666666666666666, \"#ed7953\"], [0.7777777777777778, \"#fb9f3a\"], [0.8888888888888888, \"#fdca26\"], [1.0, \"#f0f921\"]], \"type\": \"heatmap\"}], \"heatmapgl\": [{\"colorbar\": {\"outlinewidth\": 0, \"ticks\": \"\"}, \"colorscale\": [[0.0, \"#0d0887\"], [0.1111111111111111, \"#46039f\"], [0.2222222222222222, \"#7201a8\"], [0.3333333333333333, \"#9c179e\"], [0.4444444444444444, \"#bd3786\"], [0.5555555555555556, \"#d8576b\"], [0.6666666666666666, \"#ed7953\"], [0.7777777777777778, \"#fb9f3a\"], [0.8888888888888888, \"#fdca26\"], [1.0, \"#f0f921\"]], \"type\": \"heatmapgl\"}], \"histogram\": [{\"marker\": {\"colorbar\": {\"outlinewidth\": 0, \"ticks\": \"\"}}, \"type\": \"histogram\"}], \"histogram2d\": [{\"colorbar\": {\"outlinewidth\": 0, \"ticks\": \"\"}, \"colorscale\": [[0.0, \"#0d0887\"], [0.1111111111111111, \"#46039f\"], [0.2222222222222222, \"#7201a8\"], [0.3333333333333333, \"#9c179e\"], [0.4444444444444444, \"#bd3786\"], [0.5555555555555556, \"#d8576b\"], [0.6666666666666666, \"#ed7953\"], [0.7777777777777778, \"#fb9f3a\"], [0.8888888888888888, \"#fdca26\"], [1.0, \"#f0f921\"]], \"type\": \"histogram2d\"}], \"histogram2dcontour\": [{\"colorbar\": {\"outlinewidth\": 0, \"ticks\": \"\"}, \"colorscale\": [[0.0, \"#0d0887\"], [0.1111111111111111, \"#46039f\"], [0.2222222222222222, \"#7201a8\"], [0.3333333333333333, \"#9c179e\"], [0.4444444444444444, \"#bd3786\"], [0.5555555555555556, \"#d8576b\"], [0.6666666666666666, \"#ed7953\"], [0.7777777777777778, \"#fb9f3a\"], [0.8888888888888888, \"#fdca26\"], [1.0, \"#f0f921\"]], \"type\": \"histogram2dcontour\"}], \"mesh3d\": [{\"colorbar\": {\"outlinewidth\": 0, \"ticks\": \"\"}, \"type\": \"mesh3d\"}], \"parcoords\": [{\"line\": {\"colorbar\": {\"outlinewidth\": 0, \"ticks\": \"\"}}, \"type\": \"parcoords\"}], \"scatter\": [{\"marker\": {\"colorbar\": {\"outlinewidth\": 0, \"ticks\": \"\"}}, \"type\": \"scatter\"}], \"scatter3d\": [{\"line\": {\"colorbar\": {\"outlinewidth\": 0, \"ticks\": \"\"}}, \"marker\": {\"colorbar\": {\"outlinewidth\": 0, \"ticks\": \"\"}}, \"type\": \"scatter3d\"}], \"scattercarpet\": [{\"marker\": {\"colorbar\": {\"outlinewidth\": 0, \"ticks\": \"\"}}, \"type\": \"scattercarpet\"}], \"scattergeo\": [{\"marker\": {\"colorbar\": {\"outlinewidth\": 0, \"ticks\": \"\"}}, \"type\": \"scattergeo\"}], \"scattergl\": [{\"marker\": {\"colorbar\": {\"outlinewidth\": 0, \"ticks\": \"\"}}, \"type\": \"scattergl\"}], \"scattermapbox\": [{\"marker\": {\"colorbar\": {\"outlinewidth\": 0, \"ticks\": \"\"}}, \"type\": \"scattermapbox\"}], \"scatterpolar\": [{\"marker\": {\"colorbar\": {\"outlinewidth\": 0, \"ticks\": \"\"}}, \"type\": \"scatterpolar\"}], \"scatterpolargl\": [{\"marker\": {\"colorbar\": {\"outlinewidth\": 0, \"ticks\": \"\"}}, \"type\": \"scatterpolargl\"}], \"scatterternary\": [{\"marker\": {\"colorbar\": {\"outlinewidth\": 0, \"ticks\": \"\"}}, \"type\": \"scatterternary\"}], \"surface\": [{\"colorbar\": {\"outlinewidth\": 0, \"ticks\": \"\"}, \"colorscale\": [[0.0, \"#0d0887\"], [0.1111111111111111, \"#46039f\"], [0.2222222222222222, \"#7201a8\"], [0.3333333333333333, \"#9c179e\"], [0.4444444444444444, \"#bd3786\"], [0.5555555555555556, \"#d8576b\"], [0.6666666666666666, \"#ed7953\"], [0.7777777777777778, \"#fb9f3a\"], [0.8888888888888888, \"#fdca26\"], [1.0, \"#f0f921\"]], \"type\": \"surface\"}], \"table\": [{\"cells\": {\"fill\": {\"color\": \"#EBF0F8\"}, \"line\": {\"color\": \"white\"}}, \"header\": {\"fill\": {\"color\": \"#C8D4E3\"}, \"line\": {\"color\": \"white\"}}, \"type\": \"table\"}]}, \"layout\": {\"annotationdefaults\": {\"arrowcolor\": \"#2a3f5f\", \"arrowhead\": 0, \"arrowwidth\": 1}, \"colorscale\": {\"diverging\": [[0, \"#8e0152\"], [0.1, \"#c51b7d\"], [0.2, \"#de77ae\"], [0.3, \"#f1b6da\"], [0.4, \"#fde0ef\"], [0.5, \"#f7f7f7\"], [0.6, \"#e6f5d0\"], [0.7, \"#b8e186\"], [0.8, \"#7fbc41\"], [0.9, \"#4d9221\"], [1, \"#276419\"]], \"sequential\": [[0.0, \"#0d0887\"], [0.1111111111111111, \"#46039f\"], [0.2222222222222222, \"#7201a8\"], [0.3333333333333333, \"#9c179e\"], [0.4444444444444444, \"#bd3786\"], [0.5555555555555556, \"#d8576b\"], [0.6666666666666666, \"#ed7953\"], [0.7777777777777778, \"#fb9f3a\"], [0.8888888888888888, \"#fdca26\"], [1.0, \"#f0f921\"]], \"sequentialminus\": [[0.0, \"#0d0887\"], [0.1111111111111111, \"#46039f\"], [0.2222222222222222, \"#7201a8\"], [0.3333333333333333, \"#9c179e\"], [0.4444444444444444, \"#bd3786\"], [0.5555555555555556, \"#d8576b\"], [0.6666666666666666, \"#ed7953\"], [0.7777777777777778, \"#fb9f3a\"], [0.8888888888888888, \"#fdca26\"], [1.0, \"#f0f921\"]]}, \"colorway\": [\"#636efa\", \"#EF553B\", \"#00cc96\", \"#ab63fa\", \"#FFA15A\", \"#19d3f3\", \"#FF6692\", \"#B6E880\", \"#FF97FF\", \"#FECB52\"], \"font\": {\"color\": \"#2a3f5f\"}, \"geo\": {\"bgcolor\": \"white\", \"lakecolor\": \"white\", \"landcolor\": \"#E5ECF6\", \"showlakes\": true, \"showland\": true, \"subunitcolor\": \"white\"}, \"hoverlabel\": {\"align\": \"left\"}, \"hovermode\": \"closest\", \"mapbox\": {\"style\": \"light\"}, \"paper_bgcolor\": \"white\", \"plot_bgcolor\": \"#E5ECF6\", \"polar\": {\"angularaxis\": {\"gridcolor\": \"white\", \"linecolor\": \"white\", \"ticks\": \"\"}, \"bgcolor\": \"#E5ECF6\", \"radialaxis\": {\"gridcolor\": \"white\", \"linecolor\": \"white\", \"ticks\": \"\"}}, \"scene\": {\"xaxis\": {\"backgroundcolor\": \"#E5ECF6\", \"gridcolor\": \"white\", \"gridwidth\": 2, \"linecolor\": \"white\", \"showbackground\": true, \"ticks\": \"\", \"zerolinecolor\": \"white\"}, \"yaxis\": {\"backgroundcolor\": \"#E5ECF6\", \"gridcolor\": \"white\", \"gridwidth\": 2, \"linecolor\": \"white\", \"showbackground\": true, \"ticks\": \"\", \"zerolinecolor\": \"white\"}, \"zaxis\": {\"backgroundcolor\": \"#E5ECF6\", \"gridcolor\": \"white\", \"gridwidth\": 2, \"linecolor\": \"white\", \"showbackground\": true, \"ticks\": \"\", \"zerolinecolor\": \"white\"}}, \"shapedefaults\": {\"line\": {\"color\": \"#2a3f5f\"}}, \"ternary\": {\"aaxis\": {\"gridcolor\": \"white\", \"linecolor\": \"white\", \"ticks\": \"\"}, \"baxis\": {\"gridcolor\": \"white\", \"linecolor\": \"white\", \"ticks\": \"\"}, \"bgcolor\": \"#E5ECF6\", \"caxis\": {\"gridcolor\": \"white\", \"linecolor\": \"white\", \"ticks\": \"\"}}, \"title\": {\"x\": 0.05}, \"xaxis\": {\"automargin\": true, \"gridcolor\": \"white\", \"linecolor\": \"white\", \"ticks\": \"\", \"zerolinecolor\": \"white\", \"zerolinewidth\": 2}, \"yaxis\": {\"automargin\": true, \"gridcolor\": \"white\", \"linecolor\": \"white\", \"ticks\": \"\", \"zerolinecolor\": \"white\", \"zerolinewidth\": 2}}}, \"title\": {\"text\": \"2017-2018 Budget by ROI\"}, \"width\": 800, \"xaxis\": {\"anchor\": \"y\", \"domain\": [0.0, 0.98], \"tickprefix\": \"$\", \"title\": {\"text\": \"Production Budget\"}}, \"yaxis\": {\"anchor\": \"x\", \"domain\": [0.0, 1.0], \"tickprefix\": \"$\", \"title\": {\"text\": \"ROI ($)\"}}},\n",
       "                        {\"responsive\": true}\n",
       "                    ).then(function(){\n",
       "                            \n",
       "var gd = document.getElementById('f59ccdf3-4a3d-4a77-8133-d78015f4025c');\n",
       "var x = new MutationObserver(function (mutations, observer) {{\n",
       "        var display = window.getComputedStyle(gd).display;\n",
       "        if (!display || display === 'none') {{\n",
       "            console.log([gd, 'removed!']);\n",
       "            Plotly.purge(gd);\n",
       "            observer.disconnect();\n",
       "        }}\n",
       "}});\n",
       "\n",
       "// Listen for the removal of the full notebook cells\n",
       "var notebookContainer = gd.closest('#notebook-container');\n",
       "if (notebookContainer) {{\n",
       "    x.observe(notebookContainer, {childList: true});\n",
       "}}\n",
       "\n",
       "// Listen for the clearing of the current output cell\n",
       "var outputEl = gd.closest('.output');\n",
       "if (outputEl) {{\n",
       "    x.observe(outputEl, {childList: true});\n",
       "}}\n",
       "\n",
       "                        })\n",
       "                };\n",
       "                });\n",
       "            </script>\n",
       "        </div>"
      ]
     },
     "metadata": {},
     "output_type": "display_data"
    }
   ],
   "source": [
    "df_good_years = df_budgets[(df_budgets['release_year'] == 2017) | (df_budgets['release_year'] == 2018)]\n",
    "fig2 = px.scatter(df_good_years, x='production_budget', y='domestic_roi', hover_data=['movie'], width=800, height=600)\n",
    "fig2.update_layout(xaxis_title='Production Budget', yaxis_title='ROI ($)', title = '2017-2018 Budget by ROI')\n",
    "fig2.update_yaxes(tickprefix=\"$\")\n",
    "fig2.update_xaxes(tickprefix=\"$\")\n",
    "fig2.show()\n",
    "#plt.savefig('Images/July_scatter')"
   ]
  },
  {
   "cell_type": "markdown",
   "metadata": {},
   "source": [
    "So, similarly we get a diverse range of titles with most production budgets falling below $50k.\n",
    "\n",
    "What if we took a different angle and didn't worry about budgets, but instead looked at what movies grosed the highest?"
   ]
  },
  {
   "cell_type": "code",
   "execution_count": 16,
   "metadata": {},
   "outputs": [
    {
     "data": {
      "text/html": [
       "<div>\n",
       "<style scoped>\n",
       "    .dataframe tbody tr th:only-of-type {\n",
       "        vertical-align: middle;\n",
       "    }\n",
       "\n",
       "    .dataframe tbody tr th {\n",
       "        vertical-align: top;\n",
       "    }\n",
       "\n",
       "    .dataframe thead th {\n",
       "        text-align: right;\n",
       "    }\n",
       "</style>\n",
       "<table border=\"1\" class=\"dataframe\">\n",
       "  <thead>\n",
       "    <tr style=\"text-align: right;\">\n",
       "      <th></th>\n",
       "      <th>id</th>\n",
       "      <th>release_date</th>\n",
       "      <th>movie</th>\n",
       "      <th>production_budget</th>\n",
       "      <th>domestic_gross</th>\n",
       "      <th>worldwide_gross</th>\n",
       "      <th>release_year</th>\n",
       "      <th>release_month</th>\n",
       "      <th>domestic_roi</th>\n",
       "    </tr>\n",
       "  </thead>\n",
       "  <tbody>\n",
       "    <tr>\n",
       "      <th>5</th>\n",
       "      <td>6</td>\n",
       "      <td>2015-12-18</td>\n",
       "      <td>Star Wars Ep. VII: The Force Awakens</td>\n",
       "      <td>306000000</td>\n",
       "      <td>936662225</td>\n",
       "      <td>2053311220</td>\n",
       "      <td>2015</td>\n",
       "      <td>12</td>\n",
       "      <td>3.060988</td>\n",
       "    </tr>\n",
       "    <tr>\n",
       "      <th>41</th>\n",
       "      <td>42</td>\n",
       "      <td>2018-02-16</td>\n",
       "      <td>Black Panther</td>\n",
       "      <td>200000000</td>\n",
       "      <td>700059566</td>\n",
       "      <td>1348258224</td>\n",
       "      <td>2018</td>\n",
       "      <td>2</td>\n",
       "      <td>3.500298</td>\n",
       "    </tr>\n",
       "    <tr>\n",
       "      <th>6</th>\n",
       "      <td>7</td>\n",
       "      <td>2018-04-27</td>\n",
       "      <td>Avengers: Infinity War</td>\n",
       "      <td>300000000</td>\n",
       "      <td>678815482</td>\n",
       "      <td>2048134200</td>\n",
       "      <td>2018</td>\n",
       "      <td>4</td>\n",
       "      <td>2.262718</td>\n",
       "    </tr>\n",
       "    <tr>\n",
       "      <th>33</th>\n",
       "      <td>34</td>\n",
       "      <td>2015-06-12</td>\n",
       "      <td>Jurassic World</td>\n",
       "      <td>215000000</td>\n",
       "      <td>652270625</td>\n",
       "      <td>1648854864</td>\n",
       "      <td>2015</td>\n",
       "      <td>6</td>\n",
       "      <td>3.033817</td>\n",
       "    </tr>\n",
       "    <tr>\n",
       "      <th>4</th>\n",
       "      <td>5</td>\n",
       "      <td>2017-12-15</td>\n",
       "      <td>Star Wars Ep. VIII: The Last Jedi</td>\n",
       "      <td>317000000</td>\n",
       "      <td>620181382</td>\n",
       "      <td>1316721747</td>\n",
       "      <td>2017</td>\n",
       "      <td>12</td>\n",
       "      <td>1.956408</td>\n",
       "    </tr>\n",
       "    <tr>\n",
       "      <th>43</th>\n",
       "      <td>44</td>\n",
       "      <td>2018-06-15</td>\n",
       "      <td>Incredibles 2</td>\n",
       "      <td>200000000</td>\n",
       "      <td>608581744</td>\n",
       "      <td>1242520711</td>\n",
       "      <td>2018</td>\n",
       "      <td>6</td>\n",
       "      <td>3.042909</td>\n",
       "    </tr>\n",
       "    <tr>\n",
       "      <th>44</th>\n",
       "      <td>45</td>\n",
       "      <td>2016-12-16</td>\n",
       "      <td>Rogue One: A Star Wars Story</td>\n",
       "      <td>200000000</td>\n",
       "      <td>532177324</td>\n",
       "      <td>1049102856</td>\n",
       "      <td>2016</td>\n",
       "      <td>12</td>\n",
       "      <td>2.660887</td>\n",
       "    </tr>\n",
       "    <tr>\n",
       "      <th>134</th>\n",
       "      <td>35</td>\n",
       "      <td>2017-03-17</td>\n",
       "      <td>Beauty and the Beast</td>\n",
       "      <td>160000000</td>\n",
       "      <td>504014165</td>\n",
       "      <td>1259199706</td>\n",
       "      <td>2017</td>\n",
       "      <td>3</td>\n",
       "      <td>3.150089</td>\n",
       "    </tr>\n",
       "    <tr>\n",
       "      <th>45</th>\n",
       "      <td>46</td>\n",
       "      <td>2016-06-17</td>\n",
       "      <td>Finding Dory</td>\n",
       "      <td>200000000</td>\n",
       "      <td>486295561</td>\n",
       "      <td>1021215193</td>\n",
       "      <td>2016</td>\n",
       "      <td>6</td>\n",
       "      <td>2.431478</td>\n",
       "    </tr>\n",
       "    <tr>\n",
       "      <th>3</th>\n",
       "      <td>4</td>\n",
       "      <td>2015-05-01</td>\n",
       "      <td>Avengers: Age of Ultron</td>\n",
       "      <td>330600000</td>\n",
       "      <td>459005868</td>\n",
       "      <td>1403013963</td>\n",
       "      <td>2015</td>\n",
       "      <td>5</td>\n",
       "      <td>1.388403</td>\n",
       "    </tr>\n",
       "  </tbody>\n",
       "</table>\n",
       "</div>"
      ],
      "text/plain": [
       "     id release_date                                 movie  production_budget  \\\n",
       "5     6   2015-12-18  Star Wars Ep. VII: The Force Awakens          306000000   \n",
       "41   42   2018-02-16                         Black Panther          200000000   \n",
       "6     7   2018-04-27                Avengers: Infinity War          300000000   \n",
       "33   34   2015-06-12                        Jurassic World          215000000   \n",
       "4     5   2017-12-15     Star Wars Ep. VIII: The Last Jedi          317000000   \n",
       "43   44   2018-06-15                         Incredibles 2          200000000   \n",
       "44   45   2016-12-16          Rogue One: A Star Wars Story          200000000   \n",
       "134  35   2017-03-17                  Beauty and the Beast          160000000   \n",
       "45   46   2016-06-17                          Finding Dory          200000000   \n",
       "3     4   2015-05-01               Avengers: Age of Ultron          330600000   \n",
       "\n",
       "     domestic_gross  worldwide_gross  release_year  release_month  \\\n",
       "5         936662225       2053311220          2015             12   \n",
       "41        700059566       1348258224          2018              2   \n",
       "6         678815482       2048134200          2018              4   \n",
       "33        652270625       1648854864          2015              6   \n",
       "4         620181382       1316721747          2017             12   \n",
       "43        608581744       1242520711          2018              6   \n",
       "44        532177324       1049102856          2016             12   \n",
       "134       504014165       1259199706          2017              3   \n",
       "45        486295561       1021215193          2016              6   \n",
       "3         459005868       1403013963          2015              5   \n",
       "\n",
       "     domestic_roi  \n",
       "5        3.060988  \n",
       "41       3.500298  \n",
       "6        2.262718  \n",
       "33       3.033817  \n",
       "4        1.956408  \n",
       "43       3.042909  \n",
       "44       2.660887  \n",
       "134      3.150089  \n",
       "45       2.431478  \n",
       "3        1.388403  "
      ]
     },
     "execution_count": 16,
     "metadata": {},
     "output_type": "execute_result"
    }
   ],
   "source": [
    "df_budgets.sort_values(['domestic_gross'], ascending = False).head(10)"
   ]
  },
  {
   "cell_type": "markdown",
   "metadata": {},
   "source": [
    "These movies all are all pretty major franchises, and in many cases, remakes or sequels. Unless we want to purchase or start a major movie franchise on our first try, let's use 'July Movies' as our goal.\n",
    "\n",
    "So to recap the recommendations from this data analysis, which answers success metric #1: \n",
    "\n",
    "__1. Release a movie in July for the biggest return on investment__\n",
    "\n",
    "__2. Start with a budget below $50MM since most July movies with high returns fell at or below this.__\n",
    "\n",
    "Now I'll move on to #2 and #3, and start working on the ratings data. First, I'm going to do some cleaning. "
   ]
  },
  {
   "cell_type": "code",
   "execution_count": 17,
   "metadata": {},
   "outputs": [],
   "source": [
    "#remove older years\n",
    "df_filtered = df_imdb_basics[(df_imdb_basics['start_year'] <= 2020) & (df_imdb_basics['start_year'] >= 2014)]\n",
    "#drop null values\n",
    "df_filtered = df_filtered.dropna(subset=['genres'])\n",
    "#drop titles with a low number of votes since there isn't statistical significance\n",
    "df_imdb_ratings = df_imdb_ratings[(df_imdb_ratings['numvotes'] > 100)]"
   ]
  },
  {
   "cell_type": "markdown",
   "metadata": {},
   "source": [
    "Now I am going to split out the genres into multiple columns."
   ]
  },
  {
   "cell_type": "code",
   "execution_count": 18,
   "metadata": {},
   "outputs": [
    {
     "data": {
      "text/html": [
       "<div>\n",
       "<style scoped>\n",
       "    .dataframe tbody tr th:only-of-type {\n",
       "        vertical-align: middle;\n",
       "    }\n",
       "\n",
       "    .dataframe tbody tr th {\n",
       "        vertical-align: top;\n",
       "    }\n",
       "\n",
       "    .dataframe thead th {\n",
       "        text-align: right;\n",
       "    }\n",
       "</style>\n",
       "<table border=\"1\" class=\"dataframe\">\n",
       "  <thead>\n",
       "    <tr style=\"text-align: right;\">\n",
       "      <th></th>\n",
       "      <th>tconst</th>\n",
       "      <th>primary_title</th>\n",
       "      <th>original_title</th>\n",
       "      <th>start_year</th>\n",
       "      <th>runtime_minutes</th>\n",
       "      <th>genres</th>\n",
       "      <th>genre1</th>\n",
       "      <th>genre2</th>\n",
       "      <th>genre3</th>\n",
       "    </tr>\n",
       "  </thead>\n",
       "  <tbody>\n",
       "    <tr>\n",
       "      <th>1</th>\n",
       "      <td>tt0066787</td>\n",
       "      <td>One Day Before the Rainy Season</td>\n",
       "      <td>Ashad Ka Ek Din</td>\n",
       "      <td>2019</td>\n",
       "      <td>114.0</td>\n",
       "      <td>Biography,Drama</td>\n",
       "      <td>Biography</td>\n",
       "      <td>Drama</td>\n",
       "      <td>None</td>\n",
       "    </tr>\n",
       "    <tr>\n",
       "      <th>2</th>\n",
       "      <td>tt0069049</td>\n",
       "      <td>The Other Side of the Wind</td>\n",
       "      <td>The Other Side of the Wind</td>\n",
       "      <td>2018</td>\n",
       "      <td>122.0</td>\n",
       "      <td>Drama</td>\n",
       "      <td>Drama</td>\n",
       "      <td>None</td>\n",
       "      <td>None</td>\n",
       "    </tr>\n",
       "    <tr>\n",
       "      <th>3</th>\n",
       "      <td>tt0069204</td>\n",
       "      <td>Sabse Bada Sukh</td>\n",
       "      <td>Sabse Bada Sukh</td>\n",
       "      <td>2018</td>\n",
       "      <td>NaN</td>\n",
       "      <td>Comedy,Drama</td>\n",
       "      <td>Comedy</td>\n",
       "      <td>Drama</td>\n",
       "      <td>None</td>\n",
       "    </tr>\n",
       "    <tr>\n",
       "      <th>4</th>\n",
       "      <td>tt0100275</td>\n",
       "      <td>The Wandering Soap Opera</td>\n",
       "      <td>La Telenovela Errante</td>\n",
       "      <td>2017</td>\n",
       "      <td>80.0</td>\n",
       "      <td>Comedy,Drama,Fantasy</td>\n",
       "      <td>Comedy</td>\n",
       "      <td>Drama</td>\n",
       "      <td>Fantasy</td>\n",
       "    </tr>\n",
       "    <tr>\n",
       "      <th>5</th>\n",
       "      <td>tt0111414</td>\n",
       "      <td>A Thin Life</td>\n",
       "      <td>A Thin Life</td>\n",
       "      <td>2018</td>\n",
       "      <td>75.0</td>\n",
       "      <td>Comedy</td>\n",
       "      <td>Comedy</td>\n",
       "      <td>None</td>\n",
       "      <td>None</td>\n",
       "    </tr>\n",
       "  </tbody>\n",
       "</table>\n",
       "</div>"
      ],
      "text/plain": [
       "      tconst                    primary_title              original_title  \\\n",
       "1  tt0066787  One Day Before the Rainy Season             Ashad Ka Ek Din   \n",
       "2  tt0069049       The Other Side of the Wind  The Other Side of the Wind   \n",
       "3  tt0069204                  Sabse Bada Sukh             Sabse Bada Sukh   \n",
       "4  tt0100275         The Wandering Soap Opera       La Telenovela Errante   \n",
       "5  tt0111414                      A Thin Life                 A Thin Life   \n",
       "\n",
       "   start_year  runtime_minutes                genres     genre1 genre2  \\\n",
       "1        2019            114.0       Biography,Drama  Biography  Drama   \n",
       "2        2018            122.0                 Drama      Drama   None   \n",
       "3        2018              NaN          Comedy,Drama     Comedy  Drama   \n",
       "4        2017             80.0  Comedy,Drama,Fantasy     Comedy  Drama   \n",
       "5        2018             75.0                Comedy     Comedy   None   \n",
       "\n",
       "    genre3  \n",
       "1     None  \n",
       "2     None  \n",
       "3     None  \n",
       "4  Fantasy  \n",
       "5     None  "
      ]
     },
     "execution_count": 18,
     "metadata": {},
     "output_type": "execute_result"
    }
   ],
   "source": [
    "df_filtered = df_filtered.dropna(subset=['genres'])\n",
    "genres = df_filtered['genres'].str.split(\",\", n = 1, expand = True)\n",
    "df_filtered['genre1']= genres[0]\n",
    "df_filtered['genre2']= genres[1]\n",
    "genres2 = df_filtered['genre2'].str.split(\",\", n = 1, expand = True)\n",
    "df_filtered['genre2']= genres2[0]\n",
    "df_filtered['genre3']= genres2[1]\n",
    "df_filtered.head()"
   ]
  },
  {
   "cell_type": "markdown",
   "metadata": {},
   "source": [
    "I am choosing to use pandasql to join all the dataframes and make some queries about the data. First I'm joining the basics data with ratings, then I am joining the 'akas' data. Since I want to focus on US only data for this analysis this will help me filter out non-US market data."
   ]
  },
  {
   "cell_type": "code",
   "execution_count": 19,
   "metadata": {},
   "outputs": [
    {
     "data": {
      "text/html": [
       "<div>\n",
       "<style scoped>\n",
       "    .dataframe tbody tr th:only-of-type {\n",
       "        vertical-align: middle;\n",
       "    }\n",
       "\n",
       "    .dataframe tbody tr th {\n",
       "        vertical-align: top;\n",
       "    }\n",
       "\n",
       "    .dataframe thead th {\n",
       "        text-align: right;\n",
       "    }\n",
       "</style>\n",
       "<table border=\"1\" class=\"dataframe\">\n",
       "  <thead>\n",
       "    <tr style=\"text-align: right;\">\n",
       "      <th></th>\n",
       "      <th>tconst</th>\n",
       "      <th>primary_title</th>\n",
       "      <th>original_title</th>\n",
       "      <th>start_year</th>\n",
       "      <th>runtime_minutes</th>\n",
       "      <th>genres</th>\n",
       "      <th>genre1</th>\n",
       "      <th>genre2</th>\n",
       "      <th>genre3</th>\n",
       "      <th>averagerating</th>\n",
       "      <th>numvotes</th>\n",
       "    </tr>\n",
       "  </thead>\n",
       "  <tbody>\n",
       "    <tr>\n",
       "      <th>0</th>\n",
       "      <td>tt0069049</td>\n",
       "      <td>The Other Side of the Wind</td>\n",
       "      <td>The Other Side of the Wind</td>\n",
       "      <td>2018</td>\n",
       "      <td>122.0</td>\n",
       "      <td>Drama</td>\n",
       "      <td>Drama</td>\n",
       "      <td>None</td>\n",
       "      <td>None</td>\n",
       "      <td>6.9</td>\n",
       "      <td>4517</td>\n",
       "    </tr>\n",
       "    <tr>\n",
       "      <th>1</th>\n",
       "      <td>tt0100275</td>\n",
       "      <td>The Wandering Soap Opera</td>\n",
       "      <td>La Telenovela Errante</td>\n",
       "      <td>2017</td>\n",
       "      <td>80.0</td>\n",
       "      <td>Comedy,Drama,Fantasy</td>\n",
       "      <td>Comedy</td>\n",
       "      <td>Drama</td>\n",
       "      <td>Fantasy</td>\n",
       "      <td>6.5</td>\n",
       "      <td>119</td>\n",
       "    </tr>\n",
       "  </tbody>\n",
       "</table>\n",
       "</div>"
      ],
      "text/plain": [
       "      tconst               primary_title              original_title  \\\n",
       "0  tt0069049  The Other Side of the Wind  The Other Side of the Wind   \n",
       "1  tt0100275    The Wandering Soap Opera       La Telenovela Errante   \n",
       "\n",
       "   start_year  runtime_minutes                genres  genre1 genre2   genre3  \\\n",
       "0        2018            122.0                 Drama   Drama   None     None   \n",
       "1        2017             80.0  Comedy,Drama,Fantasy  Comedy  Drama  Fantasy   \n",
       "\n",
       "   averagerating  numvotes  \n",
       "0            6.9      4517  \n",
       "1            6.5       119  "
      ]
     },
     "execution_count": 19,
     "metadata": {},
     "output_type": "execute_result"
    }
   ],
   "source": [
    "from pandasql import sqldf\n",
    "pysqldf =  lambda q: sqldf(q, globals())\n",
    "q = '''SELECT *\n",
    "        FROM df_filtered\n",
    "        JOIN df_imdb_ratings\n",
    "        USING(tconst)\n",
    "        ;'''\n",
    "\n",
    "imdb_joined_df = pysqldf(q)\n",
    "imdb_joined_df.head(2)"
   ]
  },
  {
   "cell_type": "code",
   "execution_count": 20,
   "metadata": {},
   "outputs": [
    {
     "data": {
      "text/html": [
       "<div>\n",
       "<style scoped>\n",
       "    .dataframe tbody tr th:only-of-type {\n",
       "        vertical-align: middle;\n",
       "    }\n",
       "\n",
       "    .dataframe tbody tr th {\n",
       "        vertical-align: top;\n",
       "    }\n",
       "\n",
       "    .dataframe thead th {\n",
       "        text-align: right;\n",
       "    }\n",
       "</style>\n",
       "<table border=\"1\" class=\"dataframe\">\n",
       "  <thead>\n",
       "    <tr style=\"text-align: right;\">\n",
       "      <th></th>\n",
       "      <th>tconst</th>\n",
       "      <th>primary_title</th>\n",
       "      <th>original_title</th>\n",
       "      <th>start_year</th>\n",
       "      <th>runtime_minutes</th>\n",
       "      <th>genres</th>\n",
       "      <th>genre1</th>\n",
       "      <th>genre2</th>\n",
       "      <th>genre3</th>\n",
       "      <th>averagerating</th>\n",
       "      <th>numvotes</th>\n",
       "      <th>title_id</th>\n",
       "      <th>ordering</th>\n",
       "      <th>title</th>\n",
       "      <th>region</th>\n",
       "      <th>language</th>\n",
       "      <th>types</th>\n",
       "      <th>attributes</th>\n",
       "      <th>is_original_title</th>\n",
       "    </tr>\n",
       "  </thead>\n",
       "  <tbody>\n",
       "    <tr>\n",
       "      <th>0</th>\n",
       "      <td>tt0069049</td>\n",
       "      <td>The Other Side of the Wind</td>\n",
       "      <td>The Other Side of the Wind</td>\n",
       "      <td>2018</td>\n",
       "      <td>122.0</td>\n",
       "      <td>Drama</td>\n",
       "      <td>Drama</td>\n",
       "      <td>None</td>\n",
       "      <td>None</td>\n",
       "      <td>6.9</td>\n",
       "      <td>4517</td>\n",
       "      <td>tt0069049</td>\n",
       "      <td>1</td>\n",
       "      <td>O Outro Lado do Vento</td>\n",
       "      <td>BR</td>\n",
       "      <td>None</td>\n",
       "      <td>imdbDisplay</td>\n",
       "      <td>None</td>\n",
       "      <td>0.0</td>\n",
       "    </tr>\n",
       "    <tr>\n",
       "      <th>1</th>\n",
       "      <td>tt0069049</td>\n",
       "      <td>The Other Side of the Wind</td>\n",
       "      <td>The Other Side of the Wind</td>\n",
       "      <td>2018</td>\n",
       "      <td>122.0</td>\n",
       "      <td>Drama</td>\n",
       "      <td>Drama</td>\n",
       "      <td>None</td>\n",
       "      <td>None</td>\n",
       "      <td>6.9</td>\n",
       "      <td>4517</td>\n",
       "      <td>tt0069049</td>\n",
       "      <td>2</td>\n",
       "      <td>The Other Side of the Wind</td>\n",
       "      <td>US</td>\n",
       "      <td>None</td>\n",
       "      <td>imdbDisplay</td>\n",
       "      <td>None</td>\n",
       "      <td>0.0</td>\n",
       "    </tr>\n",
       "  </tbody>\n",
       "</table>\n",
       "</div>"
      ],
      "text/plain": [
       "      tconst               primary_title              original_title  \\\n",
       "0  tt0069049  The Other Side of the Wind  The Other Side of the Wind   \n",
       "1  tt0069049  The Other Side of the Wind  The Other Side of the Wind   \n",
       "\n",
       "   start_year  runtime_minutes genres genre1 genre2 genre3  averagerating  \\\n",
       "0        2018            122.0  Drama  Drama   None   None            6.9   \n",
       "1        2018            122.0  Drama  Drama   None   None            6.9   \n",
       "\n",
       "   numvotes   title_id  ordering                       title region language  \\\n",
       "0      4517  tt0069049         1       O Outro Lado do Vento     BR     None   \n",
       "1      4517  tt0069049         2  The Other Side of the Wind     US     None   \n",
       "\n",
       "         types attributes  is_original_title  \n",
       "0  imdbDisplay       None                0.0  \n",
       "1  imdbDisplay       None                0.0  "
      ]
     },
     "execution_count": 20,
     "metadata": {},
     "output_type": "execute_result"
    }
   ],
   "source": [
    "q = '''SELECT *\n",
    "        FROM imdb_joined_df\n",
    "        JOIN df_imdb_akas\n",
    "        ON df_imdb_akas.title_id = imdb_joined_df.tconst\n",
    "        ;'''\n",
    "\n",
    "imdb_all = pysqldf(q)\n",
    "imdb_all.head(2)"
   ]
  },
  {
   "cell_type": "code",
   "execution_count": 21,
   "metadata": {},
   "outputs": [],
   "source": [
    "#filter to US only\n",
    "imdb_all = imdb_all[imdb_all['region'] == 'US']\n",
    "#there are duplicates coming up so I'll drop those\n",
    "imdb_all = imdb_all.drop_duplicates(subset = 'tconst')"
   ]
  },
  {
   "cell_type": "markdown",
   "metadata": {},
   "source": [
    "Next I'm working through my rating-by-genre calculation. I'll need a list of all the genres. \n",
    "\n",
    "First, I have a function that loops through all three genre columns, and creates a list of ratings for a given genre. It then outputs the average rating."
   ]
  },
  {
   "cell_type": "code",
   "execution_count": 22,
   "metadata": {},
   "outputs": [],
   "source": [
    "#get a list of all the genres\n",
    "genres_list = list(imdb_all['genre1'].unique())"
   ]
  },
  {
   "cell_type": "code",
   "execution_count": 23,
   "metadata": {},
   "outputs": [],
   "source": [
    "def avg_rating_by_genre(genre):\n",
    "    averagerating_list = []\n",
    "    for row in imdb_all.index:\n",
    "        if (imdb_all['genre1'][row] == genre) | (imdb_all['genre2'][row] == genre) | (imdb_all['genre2'][row] == genre):\n",
    "            averagerating_list.append(imdb_all['averagerating'][row])\n",
    "    return np.mean(averagerating_list)"
   ]
  },
  {
   "cell_type": "markdown",
   "metadata": {},
   "source": [
    "I want to see the averages for all in one place, so I will use the unique genres list to format that into a dictionary. To make it easier to plot, I'm going to convert this into a dataframe and order it. "
   ]
  },
  {
   "cell_type": "code",
   "execution_count": 24,
   "metadata": {},
   "outputs": [],
   "source": [
    "# link average rating to each genre in my list using a dictionary\n",
    "genre_dict = {}\n",
    "for genre in genres_list:\n",
    "    value = avg_rating_by_genre(genre)\n",
    "    key = genre \n",
    "    genre_dict[key] = value"
   ]
  },
  {
   "cell_type": "code",
   "execution_count": 25,
   "metadata": {},
   "outputs": [],
   "source": [
    "genre_df = pd.DataFrame(list(genre_dict.items()),columns = ['Genre','Average Rating']) \n",
    "genre_df = genre_df.sort_values('Average Rating', ascending = False)"
   ]
  },
  {
   "cell_type": "code",
   "execution_count": 26,
   "metadata": {},
   "outputs": [
    {
     "data": {
      "image/png": "[encoded data removed]",
      "text/plain": [
       "<Figure size 720x432 with 1 Axes>"
      ]
     },
     "metadata": {
      "needs_background": "light"
     },
     "output_type": "display_data"
    }
   ],
   "source": [
    "plt.figure (figsize=(10,6))\n",
    "ax = sns.barplot(x=genre_df['Genre'], y=genre_df['Average Rating'], palette='viridis')\n",
    "\n",
    "plt.title('Genres by Average Rating (IMDB)')\n",
    "plt.xlabel('Genres')\n",
    "plt.ylabel('Average Rating')\n",
    "plt.xticks(rotation=45)\n",
    "plt.tight_layout()\n",
    "plt.ylim(0, 10)\n",
    "plt.savefig('Images/IMDB_Ratings')"
   ]
  },
  {
   "cell_type": "markdown",
   "metadata": {},
   "source": [
    "Interestingly, non-fiction genres like Biography, Documentary, History & Sport look to have highest ratings. Another contender is music/musical. \n",
    "\n",
    "So in response to question #2: __We should consider a non-fiction subject, maybe a profile of a musician or athlete that is relevant right now.__"
   ]
  },
  {
   "cell_type": "markdown",
   "metadata": {},
   "source": [
    "Note: I also took a look at the relationship between runtime and ratings, and didn't find any conclusive results. My recommendation would be to aim for a close to average runtime when working on movie parameters. The mean runtime looks to be 97 minutes with a standard deviation on the lower end, so between 1.5 and 2 hours is a good range to keep in mind."
   ]
  },
  {
   "cell_type": "code",
   "execution_count": 27,
   "metadata": {},
   "outputs": [
    {
     "name": "stdout",
     "output_type": "stream",
     "text": [
      "97.15842894969109\n",
      "18.71284901507976\n"
     ]
    }
   ],
   "source": [
    "print(imdb_all['runtime_minutes'].mean())\n",
    "print(imdb_all['runtime_minutes'].std())"
   ]
  },
  {
   "cell_type": "markdown",
   "metadata": {},
   "source": [
    "Finally, to get a complete picture, I'll look at the Rotten Tomatoes data sets. \n",
    "\n",
    "I want to join review data to the movie data, but this would be a many-to-one join and would make an extremely large and unworkable merge. Therefore, I am creating an indicator of average review positivity for each movie so I can add columns to the rt_info dataframe. After previewing the 'rating' column, I can see that the scale of ratings is different in many instances, and some are numerical while some are not. Since it would be pretty messy to try and make this column workable, I am instead going to use the 'fresh' column to get a percentage of overall positive reviews. "
   ]
  },
  {
   "cell_type": "code",
   "execution_count": 28,
   "metadata": {},
   "outputs": [],
   "source": [
    "# insert a new column with a value of zero \n",
    "df_rt_rev['fresh_ind'] = 0\n",
    "\n",
    "# loop through the data and input a 1 where the rating is 'fresh'\n",
    "for row in df_rt_rev.index:\n",
    "    if df_rt_rev['fresh'][row] == 'fresh':\n",
    "        df_rt_rev['fresh_ind'][row] = 1"
   ]
  },
  {
   "cell_type": "code",
   "execution_count": 29,
   "metadata": {},
   "outputs": [
    {
     "data": {
      "text/html": [
       "<div>\n",
       "<style scoped>\n",
       "    .dataframe tbody tr th:only-of-type {\n",
       "        vertical-align: middle;\n",
       "    }\n",
       "\n",
       "    .dataframe tbody tr th {\n",
       "        vertical-align: top;\n",
       "    }\n",
       "\n",
       "    .dataframe thead th {\n",
       "        text-align: right;\n",
       "    }\n",
       "</style>\n",
       "<table border=\"1\" class=\"dataframe\">\n",
       "  <thead>\n",
       "    <tr style=\"text-align: right;\">\n",
       "      <th></th>\n",
       "      <th>count</th>\n",
       "      <th>sum</th>\n",
       "      <th>fresh_pct</th>\n",
       "    </tr>\n",
       "    <tr>\n",
       "      <th>id</th>\n",
       "      <th></th>\n",
       "      <th></th>\n",
       "      <th></th>\n",
       "    </tr>\n",
       "  </thead>\n",
       "  <tbody>\n",
       "    <tr>\n",
       "      <th>3</th>\n",
       "      <td>163</td>\n",
       "      <td>103</td>\n",
       "      <td>0.631902</td>\n",
       "    </tr>\n",
       "    <tr>\n",
       "      <th>5</th>\n",
       "      <td>23</td>\n",
       "      <td>18</td>\n",
       "      <td>0.782609</td>\n",
       "    </tr>\n",
       "  </tbody>\n",
       "</table>\n",
       "</div>"
      ],
      "text/plain": [
       "    count  sum  fresh_pct\n",
       "id                       \n",
       "3     163  103   0.631902\n",
       "5      23   18   0.782609"
      ]
     },
     "execution_count": 29,
     "metadata": {},
     "output_type": "execute_result"
    }
   ],
   "source": [
    "# pivot the data to look at aggregate values by movie: total ratings (count), and total positive ratings (sum)\n",
    "df_grouped = df_rt_rev.groupby(['id'])['fresh_ind'].agg(['count', 'sum'])\n",
    "\n",
    "#insert a column to get a % of total positive reviews\n",
    "df_grouped['fresh_pct'] = df_grouped['sum'] / df_grouped['count']\n",
    "df_grouped.reset_index()\n",
    "df_grouped.head(2)"
   ]
  },
  {
   "cell_type": "code",
   "execution_count": 30,
   "metadata": {},
   "outputs": [],
   "source": [
    "# now I can merge the dataframes using the movie ID\n",
    "rt_all = pd.merge(df_rt_info, df_grouped, how='inner', on='id')"
   ]
  },
  {
   "cell_type": "markdown",
   "metadata": {},
   "source": [
    "My dataframes are merged with a 'ratings' indicator, so now I am going to clean up the data. I'll then split the genres into separate columns similar to what I did for the IMDB data, then write a similar loop function to get an average by genre. "
   ]
  },
  {
   "cell_type": "code",
   "execution_count": 31,
   "metadata": {},
   "outputs": [],
   "source": [
    "#create a column for release year by changing the current dates to datetime and separating\n",
    "rt_all['theater_date'] = pd.to_datetime(rt_all['theater_date'])\n",
    "rt_all['release_year'] = rt_all['theater_date'].dt.year\n",
    "\n",
    "#fill nas so I can work with the data\n",
    "rt_all['release_year'] = rt_all['release_year'].fillna(0)\n",
    "\n",
    "#dates are coming up as floats so I am changing them to integers\n",
    "rt_all = rt_all.astype({'release_year': 'int64'})"
   ]
  },
  {
   "cell_type": "code",
   "execution_count": 32,
   "metadata": {},
   "outputs": [
    {
     "name": "stdout",
     "output_type": "stream",
     "text": [
      "<class 'pandas.core.frame.DataFrame'>\n",
      "Int64Index: 160 entries, 0 to 1123\n",
      "Data columns (total 16 columns):\n",
      "id              160 non-null int64\n",
      "synopsis        160 non-null object\n",
      "rating          160 non-null object\n",
      "genre           160 non-null object\n",
      "director        147 non-null object\n",
      "writer          138 non-null object\n",
      "theater_date    160 non-null datetime64[ns]\n",
      "dvd_date        160 non-null object\n",
      "currency        114 non-null object\n",
      "box_office      114 non-null object\n",
      "runtime         154 non-null object\n",
      "studio          128 non-null object\n",
      "count           160 non-null int64\n",
      "sum             160 non-null int64\n",
      "fresh_pct       160 non-null float64\n",
      "release_year    160 non-null int64\n",
      "dtypes: datetime64[ns](1), float64(1), int64(4), object(10)\n",
      "memory usage: 21.2+ KB\n"
     ]
    }
   ],
   "source": [
    "# filter out older movies\n",
    "rt_filtered = rt_all[(rt_all['release_year'] >= 2010)]\n",
    "rt_filtered.info()"
   ]
  },
  {
   "cell_type": "code",
   "execution_count": 33,
   "metadata": {},
   "outputs": [
    {
     "data": {
      "text/html": [
       "<div>\n",
       "<style scoped>\n",
       "    .dataframe tbody tr th:only-of-type {\n",
       "        vertical-align: middle;\n",
       "    }\n",
       "\n",
       "    .dataframe tbody tr th {\n",
       "        vertical-align: top;\n",
       "    }\n",
       "\n",
       "    .dataframe thead th {\n",
       "        text-align: right;\n",
       "    }\n",
       "</style>\n",
       "<table border=\"1\" class=\"dataframe\">\n",
       "  <thead>\n",
       "    <tr style=\"text-align: right;\">\n",
       "      <th></th>\n",
       "      <th>id</th>\n",
       "      <th>synopsis</th>\n",
       "      <th>rating</th>\n",
       "      <th>genre</th>\n",
       "      <th>director</th>\n",
       "      <th>writer</th>\n",
       "      <th>theater_date</th>\n",
       "      <th>dvd_date</th>\n",
       "      <th>currency</th>\n",
       "      <th>box_office</th>\n",
       "      <th>runtime</th>\n",
       "      <th>studio</th>\n",
       "      <th>count</th>\n",
       "      <th>sum</th>\n",
       "      <th>fresh_pct</th>\n",
       "      <th>release_year</th>\n",
       "      <th>genre1</th>\n",
       "      <th>genre2</th>\n",
       "      <th>genre3</th>\n",
       "    </tr>\n",
       "  </thead>\n",
       "  <tbody>\n",
       "    <tr>\n",
       "      <th>0</th>\n",
       "      <td>3</td>\n",
       "      <td>New York City, not-too-distant-future: Eric Pa...</td>\n",
       "      <td>R</td>\n",
       "      <td>Drama|Science Fiction and Fantasy</td>\n",
       "      <td>David Cronenberg</td>\n",
       "      <td>David Cronenberg|Don DeLillo</td>\n",
       "      <td>2012-08-17</td>\n",
       "      <td>Jan 1, 2013</td>\n",
       "      <td>$</td>\n",
       "      <td>600,000</td>\n",
       "      <td>108 minutes</td>\n",
       "      <td>Entertainment One</td>\n",
       "      <td>163</td>\n",
       "      <td>103</td>\n",
       "      <td>0.631902</td>\n",
       "      <td>2012</td>\n",
       "      <td>Drama</td>\n",
       "      <td>Science Fiction and Fantasy</td>\n",
       "      <td>None</td>\n",
       "    </tr>\n",
       "    <tr>\n",
       "      <th>6</th>\n",
       "      <td>14</td>\n",
       "      <td>\"Love Ranch\" is a bittersweet love story that ...</td>\n",
       "      <td>R</td>\n",
       "      <td>Drama</td>\n",
       "      <td>Taylor Hackford</td>\n",
       "      <td>Mark Jacobson</td>\n",
       "      <td>2010-06-30</td>\n",
       "      <td>Nov 9, 2010</td>\n",
       "      <td>$</td>\n",
       "      <td>134,904</td>\n",
       "      <td>117 minutes</td>\n",
       "      <td>NaN</td>\n",
       "      <td>42</td>\n",
       "      <td>6</td>\n",
       "      <td>0.142857</td>\n",
       "      <td>2010</td>\n",
       "      <td>Drama</td>\n",
       "      <td>None</td>\n",
       "      <td>None</td>\n",
       "    </tr>\n",
       "  </tbody>\n",
       "</table>\n",
       "</div>"
      ],
      "text/plain": [
       "   id                                           synopsis rating  \\\n",
       "0   3  New York City, not-too-distant-future: Eric Pa...      R   \n",
       "6  14  \"Love Ranch\" is a bittersweet love story that ...      R   \n",
       "\n",
       "                               genre          director  \\\n",
       "0  Drama|Science Fiction and Fantasy  David Cronenberg   \n",
       "6                              Drama   Taylor Hackford   \n",
       "\n",
       "                         writer theater_date     dvd_date currency box_office  \\\n",
       "0  David Cronenberg|Don DeLillo   2012-08-17  Jan 1, 2013        $    600,000   \n",
       "6                 Mark Jacobson   2010-06-30  Nov 9, 2010        $    134,904   \n",
       "\n",
       "       runtime             studio  count  sum  fresh_pct  release_year genre1  \\\n",
       "0  108 minutes  Entertainment One    163  103   0.631902          2012  Drama   \n",
       "6  117 minutes                NaN     42    6   0.142857          2010  Drama   \n",
       "\n",
       "                        genre2 genre3  \n",
       "0  Science Fiction and Fantasy   None  \n",
       "6                         None   None  "
      ]
     },
     "execution_count": 33,
     "metadata": {},
     "output_type": "execute_result"
    }
   ],
   "source": [
    "genres = rt_filtered['genre'].str.split(\"|\", n = 1, expand = True)\n",
    "rt_filtered['genre1']= genres[0]\n",
    "rt_filtered['genre2']= genres[1]\n",
    "genres2 = rt_filtered['genre2'].str.split(\"|\", n = 1, expand = True)\n",
    "rt_filtered['genre2']= genres2[0]\n",
    "rt_filtered['genre3']= genres2[1]\n",
    "rt_filtered.head(2)"
   ]
  },
  {
   "cell_type": "code",
   "execution_count": 34,
   "metadata": {},
   "outputs": [],
   "source": [
    "#get a list of all genres - the first 2 columns cover them all\n",
    "genrelist1 = list(rt_filtered['genre1'].unique())\n",
    "genrelist2 = list(rt_filtered['genre2'].unique())\n",
    "genrelist_all = set(genrelist1 + genrelist2)"
   ]
  },
  {
   "cell_type": "code",
   "execution_count": 35,
   "metadata": {},
   "outputs": [],
   "source": [
    "def avg_rating_by_genre_rt(genre):\n",
    "    genre_counts = []\n",
    "    genre_sums = []\n",
    "    for row in rt_filtered.index:\n",
    "        if (rt_filtered['genre1'][row] == genre) | (rt_filtered['genre2'][row] == genre) | (rt_filtered['genre2'][row] == genre):\n",
    "            genre_counts.append(rt_filtered['count'][row])\n",
    "            genre_sums.append(rt_filtered['sum'][row])\n",
    "   \n",
    "    # I need to recalculate the average\n",
    "\n",
    "    genreavg = (sum(genre_sums) / sum(genre_counts))\n",
    "    return genreavg"
   ]
  },
  {
   "cell_type": "code",
   "execution_count": 36,
   "metadata": {},
   "outputs": [
    {
     "data": {
      "text/plain": [
       "{'Science Fiction and Fantasy': 0.47297297297297297,\n",
       " 'Action and Adventure': 0.5514285714285714,\n",
       " 'Art House and International': 0.7368421052631579,\n",
       " 'Special Interest': 0.4,\n",
       " 'Horror': 0.5098039215686274,\n",
       " 'Documentary': 0.9076923076923077,\n",
       " 'Sports and Fitness': 0.688,\n",
       " 'Comedy': 0.6409075961854653,\n",
       " 'Romance': 0.7539556962025317,\n",
       " None: 0.6606098909780376,\n",
       " 'Western': 0.3275862068965517,\n",
       " 'Animation': 0.6402366863905326,\n",
       " 'Mystery and Suspense': 0.6157007809288944,\n",
       " 'Musical and Performing Arts': 0.39672131147540984,\n",
       " 'Drama': 0.6926089084679393,\n",
       " 'Kids and Family': 0.539568345323741}"
      ]
     },
     "execution_count": 36,
     "metadata": {},
     "output_type": "execute_result"
    }
   ],
   "source": [
    "genre_dict_rt = {}\n",
    "for genre in genrelist_all:\n",
    "    value = avg_rating_by_genre_rt(genre)\n",
    "    key = genre \n",
    "    genre_dict_rt[key] = value\n",
    "genre_dict_rt"
   ]
  },
  {
   "cell_type": "code",
   "execution_count": 37,
   "metadata": {},
   "outputs": [],
   "source": [
    "# I'm making this into a dataframe and cleaning it up\n",
    "genre_df_rt = pd.DataFrame(list(genre_dict_rt.items()),columns = ['Genre','Average Fresh Score']) \n",
    "genre_df_rt = genre_df_rt.sort_values('Average Fresh Score', ascending = False)\n",
    "genre_df_rt = genre_df_rt.reset_index()"
   ]
  },
  {
   "cell_type": "code",
   "execution_count": 38,
   "metadata": {},
   "outputs": [
    {
     "data": {
      "text/html": [
       "<div>\n",
       "<style scoped>\n",
       "    .dataframe tbody tr th:only-of-type {\n",
       "        vertical-align: middle;\n",
       "    }\n",
       "\n",
       "    .dataframe tbody tr th {\n",
       "        vertical-align: top;\n",
       "    }\n",
       "\n",
       "    .dataframe thead th {\n",
       "        text-align: right;\n",
       "    }\n",
       "</style>\n",
       "<table border=\"1\" class=\"dataframe\">\n",
       "  <thead>\n",
       "    <tr style=\"text-align: right;\">\n",
       "      <th></th>\n",
       "      <th>index</th>\n",
       "      <th>Genre</th>\n",
       "      <th>Average Fresh Score</th>\n",
       "    </tr>\n",
       "  </thead>\n",
       "  <tbody>\n",
       "    <tr>\n",
       "      <th>0</th>\n",
       "      <td>5</td>\n",
       "      <td>Documentary</td>\n",
       "      <td>0.907692</td>\n",
       "    </tr>\n",
       "    <tr>\n",
       "      <th>1</th>\n",
       "      <td>8</td>\n",
       "      <td>Romance</td>\n",
       "      <td>0.753956</td>\n",
       "    </tr>\n",
       "    <tr>\n",
       "      <th>2</th>\n",
       "      <td>2</td>\n",
       "      <td>Art House and International</td>\n",
       "      <td>0.736842</td>\n",
       "    </tr>\n",
       "    <tr>\n",
       "      <th>3</th>\n",
       "      <td>14</td>\n",
       "      <td>Drama</td>\n",
       "      <td>0.692609</td>\n",
       "    </tr>\n",
       "    <tr>\n",
       "      <th>4</th>\n",
       "      <td>6</td>\n",
       "      <td>Sports and Fitness</td>\n",
       "      <td>0.688000</td>\n",
       "    </tr>\n",
       "    <tr>\n",
       "      <th>6</th>\n",
       "      <td>7</td>\n",
       "      <td>Comedy</td>\n",
       "      <td>0.640908</td>\n",
       "    </tr>\n",
       "    <tr>\n",
       "      <th>7</th>\n",
       "      <td>11</td>\n",
       "      <td>Animation</td>\n",
       "      <td>0.640237</td>\n",
       "    </tr>\n",
       "    <tr>\n",
       "      <th>8</th>\n",
       "      <td>12</td>\n",
       "      <td>Mystery and Suspense</td>\n",
       "      <td>0.615701</td>\n",
       "    </tr>\n",
       "    <tr>\n",
       "      <th>9</th>\n",
       "      <td>1</td>\n",
       "      <td>Action and Adventure</td>\n",
       "      <td>0.551429</td>\n",
       "    </tr>\n",
       "    <tr>\n",
       "      <th>10</th>\n",
       "      <td>15</td>\n",
       "      <td>Kids and Family</td>\n",
       "      <td>0.539568</td>\n",
       "    </tr>\n",
       "    <tr>\n",
       "      <th>11</th>\n",
       "      <td>4</td>\n",
       "      <td>Horror</td>\n",
       "      <td>0.509804</td>\n",
       "    </tr>\n",
       "    <tr>\n",
       "      <th>12</th>\n",
       "      <td>0</td>\n",
       "      <td>Science Fiction and Fantasy</td>\n",
       "      <td>0.472973</td>\n",
       "    </tr>\n",
       "    <tr>\n",
       "      <th>13</th>\n",
       "      <td>3</td>\n",
       "      <td>Special Interest</td>\n",
       "      <td>0.400000</td>\n",
       "    </tr>\n",
       "    <tr>\n",
       "      <th>14</th>\n",
       "      <td>13</td>\n",
       "      <td>Musical and Performing Arts</td>\n",
       "      <td>0.396721</td>\n",
       "    </tr>\n",
       "    <tr>\n",
       "      <th>15</th>\n",
       "      <td>10</td>\n",
       "      <td>Western</td>\n",
       "      <td>0.327586</td>\n",
       "    </tr>\n",
       "  </tbody>\n",
       "</table>\n",
       "</div>"
      ],
      "text/plain": [
       "    index                        Genre  Average Fresh Score\n",
       "0       5                  Documentary             0.907692\n",
       "1       8                      Romance             0.753956\n",
       "2       2  Art House and International             0.736842\n",
       "3      14                        Drama             0.692609\n",
       "4       6           Sports and Fitness             0.688000\n",
       "6       7                       Comedy             0.640908\n",
       "7      11                    Animation             0.640237\n",
       "8      12         Mystery and Suspense             0.615701\n",
       "9       1         Action and Adventure             0.551429\n",
       "10     15              Kids and Family             0.539568\n",
       "11      4                       Horror             0.509804\n",
       "12      0  Science Fiction and Fantasy             0.472973\n",
       "13      3             Special Interest             0.400000\n",
       "14     13  Musical and Performing Arts             0.396721\n",
       "15     10                      Western             0.327586"
      ]
     },
     "execution_count": 38,
     "metadata": {},
     "output_type": "execute_result"
    }
   ],
   "source": [
    "# I am getting a 'none' genre so I need to remove that\n",
    "genre_df_rt = genre_df_rt.dropna()\n",
    "genre_df_rt"
   ]
  },
  {
   "cell_type": "code",
   "execution_count": 39,
   "metadata": {},
   "outputs": [
    {
     "data": {
      "image/png": "[encoded data removed]",
      "text/plain": [
       "<Figure size 720x432 with 1 Axes>"
      ]
     },
     "metadata": {
      "needs_background": "light"
     },
     "output_type": "display_data"
    }
   ],
   "source": [
    "import matplotlib.ticker as mtick\n",
    "plt.figure (figsize=(10,6))\n",
    "ax = sns.barplot(x=genre_df_rt['Genre'], y=(genre_df_rt['Average Fresh Score']*100), palette='magma')\n",
    "plt.title('Genres by Percent Positive Ratings (Rotten Tomatoes)')\n",
    "plt.xlabel('Genres')\n",
    "plt.ylabel('% Positive Rating')\n",
    "plt.xticks(rotation = 45, horizontalalignment=\"right\")\n",
    "ax.yaxis.set_major_formatter(mtick.PercentFormatter())\n",
    "plt.savefig('Images/RT_Ratings')"
   ]
  },
  {
   "cell_type": "markdown",
   "metadata": {},
   "source": [
    "While the methodology is pretty different here, it looks like documentaries are still the top rated genre. However, music looks like it's on the lower end compared to IMDB rankings. Let's consider the second, third, and fourth result. While Romance and Drama weren't in the top categories in the IMDB data, they were still above average. Art House and International is a pretty vague category, but may recall some of our top revenue-driving movies with lower budgets from the budgets data.\n",
    "\n",
    "These are critical ratings, so we have to keep in mind a possible bias towards more 'serious' genres, but this doesn't look too conflicting with the IMDB data. \n",
    "\n",
    "Also, this data set is notably much smaller than our IMDB one, due to this data primarily consisting of older movies."
   ]
  },
  {
   "cell_type": "code",
   "execution_count": 46,
   "metadata": {},
   "outputs": [
    {
     "name": "stdout",
     "output_type": "stream",
     "text": [
      "Number of Documentaries:\n",
      "4\n",
      "Number of Romance:\n",
      "12\n"
     ]
    }
   ],
   "source": [
    "print(\"Number of Documentaries:\")\n",
    "print(len(rt_filtered.loc[(rt_filtered['genre1'] =='Documentary') | (rt_filtered['genre2'] =='Documentary')| (rt_filtered['genre2'] =='Documentary')]))\n",
    "print(\"Number of Romance:\")\n",
    "print(len(rt_filtered.loc[(rt_filtered['genre1'] =='Romance') | (rt_filtered['genre2'] =='Romance')| (rt_filtered['genre2'] =='Romance')]))"
   ]
  },
  {
   "cell_type": "markdown",
   "metadata": {},
   "source": [
    "There are only a few movies in the top categories, for example! However, they all have a lot of reviews, by critics, which can carry lots of weight as they get published. \n",
    "\n",
    "Due to this, I'm still considering the results relevant but we should keep in mind the small sample size of actual films.\n",
    "\n",
    "So my answer to #3 is:\n",
    "\n",
    "* Documentaries are still a strong contender\n",
    "* If there is opportunity to do a romance film, the top titles below indicate the need for premium talent involvement"
   ]
  },
  {
   "cell_type": "code",
   "execution_count": 51,
   "metadata": {},
   "outputs": [
    {
     "data": {
      "text/html": [
       "<div>\n",
       "<style scoped>\n",
       "    .dataframe tbody tr th:only-of-type {\n",
       "        vertical-align: middle;\n",
       "    }\n",
       "\n",
       "    .dataframe tbody tr th {\n",
       "        vertical-align: top;\n",
       "    }\n",
       "\n",
       "    .dataframe thead th {\n",
       "        text-align: right;\n",
       "    }\n",
       "</style>\n",
       "<table border=\"1\" class=\"dataframe\">\n",
       "  <thead>\n",
       "    <tr style=\"text-align: right;\">\n",
       "      <th></th>\n",
       "      <th>id</th>\n",
       "      <th>synopsis</th>\n",
       "      <th>rating</th>\n",
       "      <th>genre</th>\n",
       "      <th>director</th>\n",
       "      <th>writer</th>\n",
       "      <th>theater_date</th>\n",
       "      <th>dvd_date</th>\n",
       "      <th>currency</th>\n",
       "      <th>box_office</th>\n",
       "      <th>runtime</th>\n",
       "      <th>studio</th>\n",
       "      <th>count</th>\n",
       "      <th>sum</th>\n",
       "      <th>fresh_pct</th>\n",
       "      <th>release_year</th>\n",
       "      <th>genre1</th>\n",
       "      <th>genre2</th>\n",
       "      <th>genre3</th>\n",
       "    </tr>\n",
       "  </thead>\n",
       "  <tbody>\n",
       "    <tr>\n",
       "      <th>381</th>\n",
       "      <td>685</td>\n",
       "      <td>Adapted from Bob Glaudini's play of the same n...</td>\n",
       "      <td>R</td>\n",
       "      <td>Comedy|Romance</td>\n",
       "      <td>Philip Seymour Hoffman</td>\n",
       "      <td>Bob Glaudini</td>\n",
       "      <td>2010-09-17</td>\n",
       "      <td>Jan 18, 2011</td>\n",
       "      <td>$</td>\n",
       "      <td>300,000</td>\n",
       "      <td>91 minutes</td>\n",
       "      <td>Fox Searchlight</td>\n",
       "      <td>100</td>\n",
       "      <td>65</td>\n",
       "      <td>0.650000</td>\n",
       "      <td>2010</td>\n",
       "      <td>Comedy</td>\n",
       "      <td>Romance</td>\n",
       "      <td>None</td>\n",
       "    </tr>\n",
       "    <tr>\n",
       "      <th>1117</th>\n",
       "      <td>1975</td>\n",
       "      <td>The year is 1953. A visiting archaeologist cal...</td>\n",
       "      <td>NR</td>\n",
       "      <td>Drama|Romance</td>\n",
       "      <td>Vikramaditya Motwane</td>\n",
       "      <td>Vikramaditya Motwane|Bhavani Iyer|Anurag Kashyap</td>\n",
       "      <td>2013-07-03</td>\n",
       "      <td>Jan 12, 2015</td>\n",
       "      <td>$</td>\n",
       "      <td>581,813</td>\n",
       "      <td>142 minutes</td>\n",
       "      <td>NaN</td>\n",
       "      <td>3</td>\n",
       "      <td>2</td>\n",
       "      <td>0.666667</td>\n",
       "      <td>2013</td>\n",
       "      <td>Drama</td>\n",
       "      <td>Romance</td>\n",
       "      <td>None</td>\n",
       "    </tr>\n",
       "    <tr>\n",
       "      <th>258</th>\n",
       "      <td>458</td>\n",
       "      <td>This is a romantic comedy set in Paris about a...</td>\n",
       "      <td>PG-13</td>\n",
       "      <td>Comedy|Romance</td>\n",
       "      <td>Woody Allen</td>\n",
       "      <td>Woody Allen</td>\n",
       "      <td>2011-06-10</td>\n",
       "      <td>Dec 20, 2011</td>\n",
       "      <td>$</td>\n",
       "      <td>55,400,000</td>\n",
       "      <td>94 minutes</td>\n",
       "      <td>Sony Pictures Classics</td>\n",
       "      <td>193</td>\n",
       "      <td>179</td>\n",
       "      <td>0.927461</td>\n",
       "      <td>2011</td>\n",
       "      <td>Comedy</td>\n",
       "      <td>Romance</td>\n",
       "      <td>None</td>\n",
       "    </tr>\n",
       "    <tr>\n",
       "      <th>138</th>\n",
       "      <td>251</td>\n",
       "      <td>In this adaptation of the novel \"The Price of ...</td>\n",
       "      <td>R</td>\n",
       "      <td>Drama|Romance</td>\n",
       "      <td>Todd Haynes</td>\n",
       "      <td>Phyllis Nagy</td>\n",
       "      <td>2015-11-20</td>\n",
       "      <td>Mar 15, 2016</td>\n",
       "      <td>$</td>\n",
       "      <td>8,518,148</td>\n",
       "      <td>118 minutes</td>\n",
       "      <td>The Weinstein Company</td>\n",
       "      <td>258</td>\n",
       "      <td>243</td>\n",
       "      <td>0.941860</td>\n",
       "      <td>2015</td>\n",
       "      <td>Drama</td>\n",
       "      <td>Romance</td>\n",
       "      <td>None</td>\n",
       "    </tr>\n",
       "    <tr>\n",
       "      <th>599</th>\n",
       "      <td>1067</td>\n",
       "      <td>CALL ME BY YOUR NAME, the new film by Luca Gua...</td>\n",
       "      <td>R</td>\n",
       "      <td>Drama|Romance</td>\n",
       "      <td>Luca Guadagnino</td>\n",
       "      <td>James Ivory</td>\n",
       "      <td>2018-01-19</td>\n",
       "      <td>Mar 13, 2018</td>\n",
       "      <td>NaN</td>\n",
       "      <td>NaN</td>\n",
       "      <td>130 minutes</td>\n",
       "      <td>NaN</td>\n",
       "      <td>275</td>\n",
       "      <td>261</td>\n",
       "      <td>0.949091</td>\n",
       "      <td>2018</td>\n",
       "      <td>Drama</td>\n",
       "      <td>Romance</td>\n",
       "      <td>None</td>\n",
       "    </tr>\n",
       "  </tbody>\n",
       "</table>\n",
       "</div>"
      ],
      "text/plain": [
       "        id                                           synopsis rating  \\\n",
       "381    685  Adapted from Bob Glaudini's play of the same n...      R   \n",
       "1117  1975  The year is 1953. A visiting archaeologist cal...     NR   \n",
       "258    458  This is a romantic comedy set in Paris about a...  PG-13   \n",
       "138    251  In this adaptation of the novel \"The Price of ...      R   \n",
       "599   1067  CALL ME BY YOUR NAME, the new film by Luca Gua...      R   \n",
       "\n",
       "               genre                director  \\\n",
       "381   Comedy|Romance  Philip Seymour Hoffman   \n",
       "1117   Drama|Romance    Vikramaditya Motwane   \n",
       "258   Comedy|Romance             Woody Allen   \n",
       "138    Drama|Romance             Todd Haynes   \n",
       "599    Drama|Romance         Luca Guadagnino   \n",
       "\n",
       "                                                writer theater_date  \\\n",
       "381                                       Bob Glaudini   2010-09-17   \n",
       "1117  Vikramaditya Motwane|Bhavani Iyer|Anurag Kashyap   2013-07-03   \n",
       "258                                        Woody Allen   2011-06-10   \n",
       "138                                       Phyllis Nagy   2015-11-20   \n",
       "599                                        James Ivory   2018-01-19   \n",
       "\n",
       "          dvd_date currency  box_office      runtime                  studio  \\\n",
       "381   Jan 18, 2011        $     300,000   91 minutes         Fox Searchlight   \n",
       "1117  Jan 12, 2015        $     581,813  142 minutes                     NaN   \n",
       "258   Dec 20, 2011        $  55,400,000   94 minutes  Sony Pictures Classics   \n",
       "138   Mar 15, 2016        $   8,518,148  118 minutes   The Weinstein Company   \n",
       "599   Mar 13, 2018      NaN         NaN  130 minutes                     NaN   \n",
       "\n",
       "      count  sum  fresh_pct  release_year  genre1   genre2 genre3  \n",
       "381     100   65   0.650000          2010  Comedy  Romance   None  \n",
       "1117      3    2   0.666667          2013   Drama  Romance   None  \n",
       "258     193  179   0.927461          2011  Comedy  Romance   None  \n",
       "138     258  243   0.941860          2015   Drama  Romance   None  \n",
       "599     275  261   0.949091          2018   Drama  Romance   None  "
      ]
     },
     "execution_count": 51,
     "metadata": {},
     "output_type": "execute_result"
    }
   ],
   "source": [
    "rt_filtered.loc[(rt_filtered['genre1'] =='Romance') | (rt_filtered['genre2'] =='Romance')| (rt_filtered['genre2'] =='Romance')].sort_values('fresh_pct').tail()"
   ]
  },
  {
   "cell_type": "markdown",
   "metadata": {},
   "source": [
    "### Conclusions\n",
    "\n",
    "1. __Positive return on investment:__ Summer releases, namely July ones, make the most money in terms of return on investment. It's not necessary to release a big budget franchise film to make money aroud this time.\n",
    "\n",
    "2. __High user ratings:__ People have high opinions of non-fiction genres like Biography, Documentary, History & Sport. Non-fiction genres do seem to be having a moment on streaming services this year, and the prevalence of the true-crime genre may have renewed the appetite for real-life stories\n",
    "\n",
    "3. __High critical ratings:__ Documentary, Romance, Art House/International, and Drama all had 'passing' scores from critics. These genres may not be as clearly linked, but thinking about what they are not (Comedy, Action, Sci Fi/Fantasy, Horror) will help us understand what to steer away from!"
   ]
  },
  {
   "cell_type": "code",
   "execution_count": null,
   "metadata": {},
   "outputs": [],
   "source": []
  }
 ],
 "metadata": {
  "kernelspec": {
   "display_name": "learn-env",
   "language": "python",
   "name": "learn-env"
  },
  "language_info": {
   "codemirror_mode": {
    "name": "ipython",
    "version": 3
   },
   "file_extension": ".py",
   "mimetype": "text/x-python",
   "name": "python",
   "nbconvert_exporter": "python",
   "pygments_lexer": "ipython3",
   "version": "3.6.9"
  }
 },
 "nbformat": 4,
 "nbformat_minor": 4
}
